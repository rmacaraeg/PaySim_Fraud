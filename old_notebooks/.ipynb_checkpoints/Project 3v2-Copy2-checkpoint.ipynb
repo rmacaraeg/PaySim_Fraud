{
 "cells": [
  {
   "cell_type": "code",
   "execution_count": 1,
   "metadata": {},
   "outputs": [],
   "source": [
    "import numpy as np\n",
    "import pandas as pd\n",
    "import seaborn as sns\n",
    "import matplotlib.pyplot as plt\n",
    "from sklearn.model_selection import train_test_split\n",
    "from sklearn.model_selection import StratifiedShuffleSplit\n",
    "from sklearn.preprocessing import StandardScaler\n",
    "from sklearn.neighbors import KNeighborsClassifier\n",
    "from sklearn.model_selection import GridSearchCV\n",
    "from sklearn import linear_model\n",
    "from sklearn import svm\n",
    "from sklearn.naive_bayes import GaussianNB\n",
    "from sklearn.ensemble import RandomForestClassifier\n",
    "from sklearn.ensemble import RandomForestRegressor\n",
    "from sklearn.tree import DecisionTreeClassifier\n",
    "import sklearn.metrics as metrics\n",
    "from sklearn.linear_model import LogisticRegression\n",
    "from sklearn.metrics import confusion_matrix\n",
    "from sklearn.metrics import precision_score, recall_score, precision_recall_curve,f1_score, fbeta_score\n",
    "from sklearn.metrics import roc_auc_score, roc_curve\n",
    "from sklearn.metrics import precision_recall_curve\n",
    "from sklearn.tree import export_graphviz\n",
    "from sklearn import tree\n",
    "import graphviz \n",
    "from IPython import display\n",
    "from IPython.display import Image\n",
    "import pydotplus\n",
    "from sklearn.dummy import DummyClassifier\n",
    "from patsy import dmatrices, build_design_matrices, dmatrix\n",
    "from imblearn.under_sampling import RandomUnderSampler\n",
    "from collections import Counter\n",
    "\n",
    "%matplotlib inline\n",
    "np.set_printoptions(suppress=True) # Suppress scientific notation where possible\n",
    "\n",
    "pd.set_option('display.float_format', lambda x: '%.2f' % x)"
   ]
  },
  {
   "cell_type": "markdown",
   "metadata": {},
   "source": [
    "step - Maps a unit of time in the real world. In this case 1 step is 1 hour of time.  \n",
    "type - CASH-IN, CASH-OUT, DEBIT, PAYMENT and TRANSFER  \n",
    "  \n",
    "CASH-IN is the process of increasing the balance of account by paying\n",
    "in cash to a merchant.  \n",
    "\n",
    "CASH-OUT is the opposite process of CASH-IN, it means to withdraw\n",
    "cash from another user which decreases the balance of the account.  \n",
    "  \n",
    "DEBIT is similar process than CASH-OUT and involves sending the\n",
    "money from the mobile money service to a bank account.  \n",
    "  \n",
    "PAYMENT is the process of paying for goods or services to merchants\n",
    "which decreases the balance of the account and increases the balance of\n",
    "the receiver.  \n",
    "  \n",
    "TRANSFER is the process of sending money to another user of the\n",
    "service through the mobile money platform.  \n",
    "  \n",
    "amount - amount of the transaction in local currency  \n",
    "  \n",
    "nameOrig - customer who started the transaction  \n",
    "  \n",
    "oldbalanceOrg - initial balance before the transaction  \n",
    "  \n",
    "newbalanceOrig - customer's balance after the transaction.  \n",
    "  \n",
    "nameDest - recipient ID of the transaction.  \n",
    "  \n",
    "oldbalanceDest - initial balance recipient before the transaction. Note that there is not information for customers that start with M (Merchants).  \n",
    "  \n",
    "newbalanceDest - new balance recipient after the transaction. Note that there is not information for customers that start with M (Merchants).  \n",
    "  \n",
    "isFraud - This is the transactions made by the fraudulent agents inside the simulation. In this specific dataset the fraudulent behavior of the agents aims to profit by taking control or customers accounts and try to empty the funds by transferring to another account and then cashing out of the system.  \n",
    "  \n",
    "isFlaggedFraud - The business model aims to control massive transfers from one account to another and flags illegal attempts. An illegal attempt in this dataset is an attempt to transfer more than 200.000 in a single transaction.  "
   ]
  },
  {
   "cell_type": "code",
   "execution_count": 2,
   "metadata": {},
   "outputs": [],
   "source": [
    "# Image(\"/Users/randy/Downloads/Screen Shot 2019-04-26 at 10.32.16 AM.png\", width='200')"
   ]
  },
  {
   "cell_type": "markdown",
   "metadata": {},
   "source": [
    "When comparing Machine Fraud to Actual Fraud:\n",
    "  \n",
    "| Category | Machine  | Actual |\n",
    "| --- | --- | --- |\n",
    "| True Positive | Fraud | Fraud |\n",
    "| False Positive | Fraud | Not Fraud |\n",
    "| True Negative | Not Fraud | Not Fraud |\n",
    "| False Negative | Not Fraud | Fraud |"
   ]
  },
  {
   "cell_type": "code",
   "execution_count": 3,
   "metadata": {},
   "outputs": [],
   "source": [
    "data = pd.read_csv('/Users/randy/Downloads/PaySim_Synthetic_Dataset-Fraud.csv')"
   ]
  },
  {
   "cell_type": "code",
   "execution_count": 4,
   "metadata": {},
   "outputs": [],
   "source": [
    "#I want to change all of the column names to something cleaner\n",
    "df = data.rename(columns = {'step':'HoursPassed',\n",
    "                          'type':'TransactionType',\n",
    "                          'amount':'Amount',\n",
    "                          'nameOrig':'OriginatorID',\n",
    "                          'oldbalanceOrg':'OldBalORIG',\n",
    "                          'newbalanceOrig':'NewBalORIG', \n",
    "                          'nameDest':'RecipientID',\n",
    "                          'oldbalanceDest':'OldBalRCPT', \n",
    "                          'newbalanceDest':'NewBalRCPT', \n",
    "                          'isFraud':'Fraud',\n",
    "                          'isFlaggedFraud':'FlaggedFraud'\n",
    "                         })"
   ]
  },
  {
   "cell_type": "code",
   "execution_count": 5,
   "metadata": {},
   "outputs": [
    {
     "data": {
      "text/html": [
       "<div>\n",
       "<style scoped>\n",
       "    .dataframe tbody tr th:only-of-type {\n",
       "        vertical-align: middle;\n",
       "    }\n",
       "\n",
       "    .dataframe tbody tr th {\n",
       "        vertical-align: top;\n",
       "    }\n",
       "\n",
       "    .dataframe thead th {\n",
       "        text-align: right;\n",
       "    }\n",
       "</style>\n",
       "<table border=\"1\" class=\"dataframe\">\n",
       "  <thead>\n",
       "    <tr style=\"text-align: right;\">\n",
       "      <th></th>\n",
       "      <th>HoursPassed</th>\n",
       "      <th>Amount</th>\n",
       "      <th>OldBalORIG</th>\n",
       "      <th>NewBalORIG</th>\n",
       "      <th>OldBalRCPT</th>\n",
       "      <th>NewBalRCPT</th>\n",
       "      <th>Fraud</th>\n",
       "      <th>FlaggedFraud</th>\n",
       "    </tr>\n",
       "  </thead>\n",
       "  <tbody>\n",
       "    <tr>\n",
       "      <th>count</th>\n",
       "      <td>6362620.00</td>\n",
       "      <td>6362620.00</td>\n",
       "      <td>6362620.00</td>\n",
       "      <td>6362620.00</td>\n",
       "      <td>6362620.00</td>\n",
       "      <td>6362620.00</td>\n",
       "      <td>6362620.00</td>\n",
       "      <td>6362620.00</td>\n",
       "    </tr>\n",
       "    <tr>\n",
       "      <th>mean</th>\n",
       "      <td>243.40</td>\n",
       "      <td>179861.90</td>\n",
       "      <td>833883.10</td>\n",
       "      <td>855113.67</td>\n",
       "      <td>1100701.67</td>\n",
       "      <td>1224996.40</td>\n",
       "      <td>0.00</td>\n",
       "      <td>0.00</td>\n",
       "    </tr>\n",
       "    <tr>\n",
       "      <th>std</th>\n",
       "      <td>142.33</td>\n",
       "      <td>603858.23</td>\n",
       "      <td>2888242.67</td>\n",
       "      <td>2924048.50</td>\n",
       "      <td>3399180.11</td>\n",
       "      <td>3674128.94</td>\n",
       "      <td>0.04</td>\n",
       "      <td>0.00</td>\n",
       "    </tr>\n",
       "    <tr>\n",
       "      <th>min</th>\n",
       "      <td>1.00</td>\n",
       "      <td>0.00</td>\n",
       "      <td>0.00</td>\n",
       "      <td>0.00</td>\n",
       "      <td>0.00</td>\n",
       "      <td>0.00</td>\n",
       "      <td>0.00</td>\n",
       "      <td>0.00</td>\n",
       "    </tr>\n",
       "    <tr>\n",
       "      <th>25%</th>\n",
       "      <td>156.00</td>\n",
       "      <td>13389.57</td>\n",
       "      <td>0.00</td>\n",
       "      <td>0.00</td>\n",
       "      <td>0.00</td>\n",
       "      <td>0.00</td>\n",
       "      <td>0.00</td>\n",
       "      <td>0.00</td>\n",
       "    </tr>\n",
       "    <tr>\n",
       "      <th>50%</th>\n",
       "      <td>239.00</td>\n",
       "      <td>74871.94</td>\n",
       "      <td>14208.00</td>\n",
       "      <td>0.00</td>\n",
       "      <td>132705.66</td>\n",
       "      <td>214661.44</td>\n",
       "      <td>0.00</td>\n",
       "      <td>0.00</td>\n",
       "    </tr>\n",
       "    <tr>\n",
       "      <th>75%</th>\n",
       "      <td>335.00</td>\n",
       "      <td>208721.48</td>\n",
       "      <td>107315.18</td>\n",
       "      <td>144258.41</td>\n",
       "      <td>943036.71</td>\n",
       "      <td>1111909.25</td>\n",
       "      <td>0.00</td>\n",
       "      <td>0.00</td>\n",
       "    </tr>\n",
       "    <tr>\n",
       "      <th>max</th>\n",
       "      <td>743.00</td>\n",
       "      <td>92445516.64</td>\n",
       "      <td>59585040.37</td>\n",
       "      <td>49585040.37</td>\n",
       "      <td>356015889.35</td>\n",
       "      <td>356179278.92</td>\n",
       "      <td>1.00</td>\n",
       "      <td>1.00</td>\n",
       "    </tr>\n",
       "  </tbody>\n",
       "</table>\n",
       "</div>"
      ],
      "text/plain": [
       "       HoursPassed      Amount  OldBalORIG  NewBalORIG   OldBalRCPT  \\\n",
       "count   6362620.00  6362620.00  6362620.00  6362620.00   6362620.00   \n",
       "mean        243.40   179861.90   833883.10   855113.67   1100701.67   \n",
       "std         142.33   603858.23  2888242.67  2924048.50   3399180.11   \n",
       "min           1.00        0.00        0.00        0.00         0.00   \n",
       "25%         156.00    13389.57        0.00        0.00         0.00   \n",
       "50%         239.00    74871.94    14208.00        0.00    132705.66   \n",
       "75%         335.00   208721.48   107315.18   144258.41    943036.71   \n",
       "max         743.00 92445516.64 59585040.37 49585040.37 356015889.35   \n",
       "\n",
       "        NewBalRCPT      Fraud  FlaggedFraud  \n",
       "count   6362620.00 6362620.00    6362620.00  \n",
       "mean    1224996.40       0.00          0.00  \n",
       "std     3674128.94       0.04          0.00  \n",
       "min           0.00       0.00          0.00  \n",
       "25%           0.00       0.00          0.00  \n",
       "50%      214661.44       0.00          0.00  \n",
       "75%     1111909.25       0.00          0.00  \n",
       "max   356179278.92       1.00          1.00  "
      ]
     },
     "execution_count": 5,
     "metadata": {},
     "output_type": "execute_result"
    }
   ],
   "source": [
    "#use the pandas_profiling tool to get a summary of all the data\n",
    "df.describe()\n",
    "\n",
    "# pandas_profiling.ProfileReport(df)"
   ]
  },
  {
   "cell_type": "code",
   "execution_count": 6,
   "metadata": {},
   "outputs": [
    {
     "data": {
      "text/html": [
       "<div>\n",
       "<style scoped>\n",
       "    .dataframe tbody tr th:only-of-type {\n",
       "        vertical-align: middle;\n",
       "    }\n",
       "\n",
       "    .dataframe tbody tr th {\n",
       "        vertical-align: top;\n",
       "    }\n",
       "\n",
       "    .dataframe thead th {\n",
       "        text-align: right;\n",
       "    }\n",
       "</style>\n",
       "<table border=\"1\" class=\"dataframe\">\n",
       "  <thead>\n",
       "    <tr style=\"text-align: right;\">\n",
       "      <th></th>\n",
       "      <th>HoursPassed</th>\n",
       "      <th>TransactionType</th>\n",
       "      <th>Amount</th>\n",
       "      <th>OriginatorID</th>\n",
       "      <th>OldBalORIG</th>\n",
       "      <th>NewBalORIG</th>\n",
       "      <th>RecipientID</th>\n",
       "      <th>OldBalRCPT</th>\n",
       "      <th>NewBalRCPT</th>\n",
       "      <th>Fraud</th>\n",
       "      <th>FlaggedFraud</th>\n",
       "    </tr>\n",
       "  </thead>\n",
       "  <tbody>\n",
       "    <tr>\n",
       "      <th>6362615</th>\n",
       "      <td>743</td>\n",
       "      <td>CASH_OUT</td>\n",
       "      <td>339682.13</td>\n",
       "      <td>C786484425</td>\n",
       "      <td>339682.13</td>\n",
       "      <td>0.00</td>\n",
       "      <td>C776919290</td>\n",
       "      <td>0.00</td>\n",
       "      <td>339682.13</td>\n",
       "      <td>1</td>\n",
       "      <td>0</td>\n",
       "    </tr>\n",
       "    <tr>\n",
       "      <th>6362616</th>\n",
       "      <td>743</td>\n",
       "      <td>TRANSFER</td>\n",
       "      <td>6311409.28</td>\n",
       "      <td>C1529008245</td>\n",
       "      <td>6311409.28</td>\n",
       "      <td>0.00</td>\n",
       "      <td>C1881841831</td>\n",
       "      <td>0.00</td>\n",
       "      <td>0.00</td>\n",
       "      <td>1</td>\n",
       "      <td>0</td>\n",
       "    </tr>\n",
       "    <tr>\n",
       "      <th>6362617</th>\n",
       "      <td>743</td>\n",
       "      <td>CASH_OUT</td>\n",
       "      <td>6311409.28</td>\n",
       "      <td>C1162922333</td>\n",
       "      <td>6311409.28</td>\n",
       "      <td>0.00</td>\n",
       "      <td>C1365125890</td>\n",
       "      <td>68488.84</td>\n",
       "      <td>6379898.11</td>\n",
       "      <td>1</td>\n",
       "      <td>0</td>\n",
       "    </tr>\n",
       "    <tr>\n",
       "      <th>6362618</th>\n",
       "      <td>743</td>\n",
       "      <td>TRANSFER</td>\n",
       "      <td>850002.52</td>\n",
       "      <td>C1685995037</td>\n",
       "      <td>850002.52</td>\n",
       "      <td>0.00</td>\n",
       "      <td>C2080388513</td>\n",
       "      <td>0.00</td>\n",
       "      <td>0.00</td>\n",
       "      <td>1</td>\n",
       "      <td>0</td>\n",
       "    </tr>\n",
       "    <tr>\n",
       "      <th>6362619</th>\n",
       "      <td>743</td>\n",
       "      <td>CASH_OUT</td>\n",
       "      <td>850002.52</td>\n",
       "      <td>C1280323807</td>\n",
       "      <td>850002.52</td>\n",
       "      <td>0.00</td>\n",
       "      <td>C873221189</td>\n",
       "      <td>6510099.11</td>\n",
       "      <td>7360101.63</td>\n",
       "      <td>1</td>\n",
       "      <td>0</td>\n",
       "    </tr>\n",
       "  </tbody>\n",
       "</table>\n",
       "</div>"
      ],
      "text/plain": [
       "         HoursPassed TransactionType     Amount OriginatorID  OldBalORIG  \\\n",
       "6362615          743        CASH_OUT  339682.13   C786484425   339682.13   \n",
       "6362616          743        TRANSFER 6311409.28  C1529008245  6311409.28   \n",
       "6362617          743        CASH_OUT 6311409.28  C1162922333  6311409.28   \n",
       "6362618          743        TRANSFER  850002.52  C1685995037   850002.52   \n",
       "6362619          743        CASH_OUT  850002.52  C1280323807   850002.52   \n",
       "\n",
       "         NewBalORIG  RecipientID  OldBalRCPT  NewBalRCPT  Fraud  FlaggedFraud  \n",
       "6362615        0.00   C776919290        0.00   339682.13      1             0  \n",
       "6362616        0.00  C1881841831        0.00        0.00      1             0  \n",
       "6362617        0.00  C1365125890    68488.84  6379898.11      1             0  \n",
       "6362618        0.00  C2080388513        0.00        0.00      1             0  \n",
       "6362619        0.00   C873221189  6510099.11  7360101.63      1             0  "
      ]
     },
     "execution_count": 6,
     "metadata": {},
     "output_type": "execute_result"
    }
   ],
   "source": [
    "# df[(df.values  == 'C1669947858')]\n",
    "df.tail()\n",
    "# df = df[df[\"TransactionType\"].str.contains('CASH_OUT','TRANSFER') == False]"
   ]
  },
  {
   "cell_type": "markdown",
   "metadata": {},
   "source": [
    "# Initial Findings and Thoughts:\n",
    "\n",
    "- Transfers and Cash_Out are related in many transactions. Ex. fraudsters transfer funds then cash out fast.\n",
    "- In the IDs, C = Customer, M = Merchant\n",
    "    - There are no Originator IDs that match Recipient IDs\n",
    "    - Maybe do one-hot-encoding for C and M\n",
    "- Do one-hot-encoding for Transaction Type (drop_first = True)\n",
    "- One-hot-encoding (pd.get_dummies(my_series, drop_first=True)\n",
    "- Feature engineering - add ratio of transaction amount to old bal\n",
    "    - Ex. (ORIG) Old Bal > New Bal = negative delta\n",
    "    - Ex. (RCPT) Old Bal < New Bal = positive delta\n",
    "    \n",
    "- Given that our data is extremely one-sided (imbalanced classification problem) The metric our intuition tells us we should maximize is known in statistics as recall, or the ability of a model to find all the relevant cases within a dataset.  \n",
    "    - Not Fraud represents the overwhelming majority of the data points\n",
    "    - I could have an extremely high accuracy by just saying \"all are not fraud\" but the recall would be terrible."
   ]
  },
  {
   "cell_type": "code",
   "execution_count": 7,
   "metadata": {},
   "outputs": [
    {
     "data": {
      "text/plain": [
       "False"
      ]
     },
     "execution_count": 7,
     "metadata": {},
     "output_type": "execute_result"
    }
   ],
   "source": [
    "#no matching Originator IDs to the Recipient IDs. I assumed this means the originator is not \n",
    "df['OriginatorID'].equals(df['RecipientID'])"
   ]
  },
  {
   "cell_type": "code",
   "execution_count": 8,
   "metadata": {},
   "outputs": [],
   "source": [
    "#create dummies for transaction types\n",
    "df_trans = pd.get_dummies(df['TransactionType'],drop_first=True)\n",
    "df1 = df\n",
    "frames = [df1,df_trans]\n",
    "result = pd.concat(frames,axis=1)\n",
    "\n",
    "#drop the original transaction types\n",
    "result = result.drop(columns=['TransactionType'])\n"
   ]
  },
  {
   "cell_type": "code",
   "execution_count": 9,
   "metadata": {},
   "outputs": [],
   "source": [
    "#remove all numbers in Originator ID and Recipient ID\n",
    "result['OriginatorID'] = result['OriginatorID'].str.replace('\\d+', '')\n",
    "result['RecipientID'] = result['RecipientID'].str.replace('\\d+', '')\n",
    "\n",
    "#removing all the numbers in Originator ID leaves only 'C' so I drop the whole column\n",
    "result = result.drop(columns = ['OriginatorID'])\n",
    "\n",
    "#do a get_dummies for Recipient ID since there are Merchants ('M') and Customers ('C')\n",
    "result_recip = pd.get_dummies(result['RecipientID'],drop_first=True)\n",
    "result1 = result\n",
    "frames = [result1,result_recip]\n",
    "new_result = pd.concat(frames,axis=1)\n",
    "\n",
    "new_result = new_result.drop(columns = ['RecipientID'])\n"
   ]
  },
  {
   "cell_type": "code",
   "execution_count": 10,
   "metadata": {},
   "outputs": [],
   "source": [
    "result_df = new_result.drop_duplicates(['Amount'],keep='last')"
   ]
  },
  {
   "cell_type": "code",
   "execution_count": 11,
   "metadata": {},
   "outputs": [],
   "source": [
    "#create new columns for difference in Originator ID and Recipient ID\n",
    "result_df.insert(2, 'ChangeORIG', (result_df['NewBalORIG']-result_df['OldBalORIG']))\n",
    "result_df.insert(4, 'ChangeRCPT', (result_df['NewBalRCPT']-result_df['OldBalRCPT']))\n",
    "\n",
    "#drop original ORIG and RCPT transactions\n",
    "final_result = result_df.drop(columns = ['OldBalORIG','NewBalORIG','OldBalRCPT','NewBalRCPT','Amount'])\n",
    "#,'TRANSFER','M','PAYMENT','HoursPassed', 'FlaggedFraud'\n"
   ]
  },
  {
   "cell_type": "code",
   "execution_count": 12,
   "metadata": {},
   "outputs": [],
   "source": [
    "columns = ['HoursPassed',\n",
    "#            'ChangeORIG',\n",
    "#            'ChangeRCPT',\n",
    "#            'PAYMENT',\n",
    "#            'CASH_OUT', #remove this for a 0.98 RF\n",
    "#            'DEBIT',\n",
    "#            'TRANSFER',\n",
    "#           'FlaggedFraud',\n",
    "           'M'\n",
    "          ]\n",
    "\n",
    "\n",
    "\n",
    "mega_result = final_result.drop(columns=columns)"
   ]
  },
  {
   "cell_type": "code",
   "execution_count": 13,
   "metadata": {},
   "outputs": [],
   "source": [
    "#ok, all of the variables are now either binary or some other numerical value\n",
    "# new_result.info()\n",
    "# # new_result_tail.describe()\n",
    "mega_result['isFraud'] = final_result['Fraud']\n",
    "mega_result = mega_result.drop(columns = ['Fraud'])"
   ]
  },
  {
   "cell_type": "code",
   "execution_count": 14,
   "metadata": {},
   "outputs": [
    {
     "name": "stdout",
     "output_type": "stream",
     "text": [
      "ratio of Fraud to NotFraud:  0.0012924888191769902\n",
      "0    5313063\n",
      "1       3837\n",
      "Name: isFraud, dtype: int64\n"
     ]
    },
    {
     "data": {
      "image/png": "[encoded data removed]",
      "text/plain": [
       "<Figure size 432x288 with 1 Axes>"
      ]
     },
     "metadata": {
      "needs_background": "light"
     },
     "output_type": "display_data"
    }
   ],
   "source": [
    "# data.info()\n",
    "#EDA and Baselining\n",
    "target_pcts = mega_result.isFraud.value_counts(normalize=False) \n",
    "print('ratio of Fraud to NotFraud: ', 8213/6354407)\n",
    "print(target_pcts)\n",
    "\n",
    "target_pcts.plot(kind='bar', color='blue');"
   ]
  },
  {
   "cell_type": "code",
   "execution_count": 139,
   "metadata": {
    "scrolled": false
   },
   "outputs": [
    {
     "data": {
      "image/png": "[encoded data removed]",
      "text/plain": [
       "<Figure size 1080x1080 with 2 Axes>"
      ]
     },
     "metadata": {},
     "output_type": "display_data"
    }
   ],
   "source": [
    "fig, ax = plt.subplots(figsize=(15,15))\n",
    "sns.heatmap(mega_result.corr(), cmap=\"seismic\", ax=ax, annot=True, vmin = -1, vmax = 1)\n",
    "plt.show()"
   ]
  },
  {
   "cell_type": "code",
   "execution_count": 16,
   "metadata": {},
   "outputs": [],
   "source": [
    "no_fraud_result = mega_result.drop(columns=['isFraud'])"
   ]
  },
  {
   "cell_type": "code",
   "execution_count": 17,
   "metadata": {},
   "outputs": [],
   "source": [
    "X_break, X_test, y_break, y_test = train_test_split(no_fraud_result, mega_result['isFraud'], \\\n",
    "                                                    test_size=0.2, stratify=mega_result['isFraud'],\n",
    "                                                    random_state=12345)\n",
    "#random_state generates a set kind of deck for each random state. 41 will always be the same kind of split\n",
    "\n",
    "X_train, X_val, y_train, y_val = train_test_split(X_break, y_break, \\\n",
    "                                                    test_size=0.25, stratify=y_break,\n",
    "                                                    random_state=12345)"
   ]
  },
  {
   "cell_type": "code",
   "execution_count": 18,
   "metadata": {},
   "outputs": [],
   "source": [
    "# X_train"
   ]
  },
  {
   "cell_type": "code",
   "execution_count": 19,
   "metadata": {},
   "outputs": [
    {
     "name": "stderr",
     "output_type": "stream",
     "text": [
      "/Users/randy/anaconda3/lib/python3.7/site-packages/sklearn/preprocessing/data.py:645: DataConversionWarning: Data with input dtype uint8, int64, float64 were all converted to float64 by StandardScaler.\n",
      "  return self.partial_fit(X, y)\n",
      "/Users/randy/anaconda3/lib/python3.7/site-packages/ipykernel_launcher.py:4: DataConversionWarning: Data with input dtype uint8, int64, float64 were all converted to float64 by StandardScaler.\n",
      "  after removing the cwd from sys.path.\n",
      "/Users/randy/anaconda3/lib/python3.7/site-packages/ipykernel_launcher.py:5: DataConversionWarning: Data with input dtype uint8, int64, float64 were all converted to float64 by StandardScaler.\n",
      "  \"\"\"\n"
     ]
    }
   ],
   "source": [
    "# Normalize my variables\n",
    "scaler = StandardScaler()\n",
    "scaler.fit(X_train)\n",
    "X_train_SVC = scaler.transform(X_train)\n",
    "X_val_SVC = scaler.transform(X_val)"
   ]
  },
  {
   "cell_type": "markdown",
   "metadata": {},
   "source": [
    "# This is where it changes. I now downsample for easier computing."
   ]
  },
  {
   "cell_type": "code",
   "execution_count": 20,
   "metadata": {},
   "outputs": [],
   "source": [
    "X_train_under, y_train_under = RandomUnderSampler(random_state=42).fit_sample(X_train,y_train)\n",
    "X_val_under, y_val_under = RandomUnderSampler(random_state=42).fit_sample(X_val,y_val)\n",
    "X_train_under_SVC, y_train_under_SVC = RandomUnderSampler(random_state=42).fit_sample(X_train_SVC,y_train)"
   ]
  },
  {
   "cell_type": "code",
   "execution_count": 21,
   "metadata": {},
   "outputs": [
    {
     "data": {
      "text/plain": [
       "Counter({0: 2303, 1: 2303})"
      ]
     },
     "execution_count": 21,
     "metadata": {},
     "output_type": "execute_result"
    }
   ],
   "source": [
    "Counter(y_train_under) #check to see that the samples are the same size"
   ]
  },
  {
   "cell_type": "code",
   "execution_count": 22,
   "metadata": {
    "scrolled": true
   },
   "outputs": [
    {
     "name": "stdout",
     "output_type": "stream",
     "text": [
      "Fitting 5 folds for each of 3 candidates, totalling 15 fits\n"
     ]
    },
    {
     "name": "stderr",
     "output_type": "stream",
     "text": [
      "[Parallel(n_jobs=-1)]: Using backend LokyBackend with 12 concurrent workers.\n",
      "[Parallel(n_jobs=-1)]: Done   1 tasks      | elapsed:    1.4s\n",
      "[Parallel(n_jobs=-1)]: Done   2 out of  15 | elapsed:    1.4s remaining:    9.4s\n",
      "[Parallel(n_jobs=-1)]: Done   3 out of  15 | elapsed:    1.4s remaining:    5.8s\n",
      "[Parallel(n_jobs=-1)]: Done   4 out of  15 | elapsed:    1.4s remaining:    4.0s\n",
      "[Parallel(n_jobs=-1)]: Done   5 out of  15 | elapsed:    1.4s remaining:    2.9s\n",
      "[Parallel(n_jobs=-1)]: Done   6 out of  15 | elapsed:    1.4s remaining:    2.2s\n",
      "[Parallel(n_jobs=-1)]: Done   7 out of  15 | elapsed:    1.4s remaining:    1.7s\n",
      "[Parallel(n_jobs=-1)]: Done   8 out of  15 | elapsed:    1.5s remaining:    1.3s\n",
      "[Parallel(n_jobs=-1)]: Done   9 out of  15 | elapsed:    1.5s remaining:    1.0s\n",
      "[Parallel(n_jobs=-1)]: Done  10 out of  15 | elapsed:    1.5s remaining:    0.7s\n",
      "[Parallel(n_jobs=-1)]: Done  11 out of  15 | elapsed:    1.5s remaining:    0.5s\n",
      "[Parallel(n_jobs=-1)]: Done  12 out of  15 | elapsed:    1.5s remaining:    0.4s\n",
      "[Parallel(n_jobs=-1)]: Done  13 out of  15 | elapsed:    1.5s remaining:    0.2s\n",
      "[Parallel(n_jobs=-1)]: Done  15 out of  15 | elapsed:    1.5s remaining:    0.0s\n",
      "[Parallel(n_jobs=-1)]: Done  15 out of  15 | elapsed:    1.5s finished\n"
     ]
    },
    {
     "data": {
      "text/plain": [
       "GridSearchCV(cv=5, error_score='raise-deprecating',\n",
       "       estimator=KNeighborsClassifier(algorithm='auto', leaf_size=30, metric='minkowski',\n",
       "           metric_params=None, n_jobs=None, n_neighbors=5, p=2,\n",
       "           weights='uniform'),\n",
       "       fit_params=None, iid='warn', n_jobs=-1,\n",
       "       param_grid=[{'n_neighbors': [1, 5, 10]}], pre_dispatch='2*n_jobs',\n",
       "       refit=True, return_train_score='warn', scoring='roc_auc',\n",
       "       verbose=30)"
      ]
     },
     "execution_count": 22,
     "metadata": {},
     "output_type": "execute_result"
    }
   ],
   "source": [
    "# Run CV with 5 folds (knn)\n",
    "\n",
    "ks = [1,5,10]\n",
    "param_grid = [{'n_neighbors': ks}]\n",
    "\n",
    "knn = KNeighborsClassifier()\n",
    "knn_grid = GridSearchCV(knn, param_grid, cv=5, scoring='roc_auc', verbose=30, n_jobs=-1)\n",
    "knn_grid.fit(X_train_under, y_train_under)"
   ]
  },
  {
   "cell_type": "code",
   "execution_count": 131,
   "metadata": {},
   "outputs": [],
   "source": [
    "fraud_only = result_df[result_df['Fraud'] == 1]\n",
    "#loss per missed fraud (recall is much more valuable)\n",
    "loss_per_fraud = round(np.mean(fraud_only['Amount']))"
   ]
  },
  {
   "cell_type": "code",
   "execution_count": 132,
   "metadata": {},
   "outputs": [],
   "source": [
    "#we're going to assume this is \n",
    "#transactions per consumer \n",
    "transaction_per_consumer = round(np.mean(result_df['Amount']))"
   ]
  },
  {
   "cell_type": "code",
   "execution_count": 137,
   "metadata": {},
   "outputs": [],
   "source": [
    "def make_confusion_matrix(model, threshold=0.5):\n",
    "    # Predict class 1 if probability of being in class 1 is greater than threshold\n",
    "    # (model.predict(X_test) does this automatically with a threshold of 0.5)\n",
    "    y_predict = (model.predict_proba(X_val_under)[:, 1] >= threshold)\n",
    "    fraud_confusion = confusion_matrix(y_val_under, y_predict)\n",
    "    plt.figure(dpi=500)\n",
    "    sns.heatmap(fraud_confusion, cmap=plt.cm.Blues, annot=True, square=True, fmt='d',\n",
    "           xticklabels=['Not Fraud', 'Fraud'],\n",
    "           yticklabels=['Not Fraud', 'Fraud']);\n",
    "    TP = fraud_confusion[0][0]\n",
    "    FP = fraud_confusion[0][1]\n",
    "    FN = fraud_confusion[1][0]\n",
    "    TN = fraud_confusion[1][1]\n",
    "    plt.yticks(rotation = 0)\n",
    "    print('Cost of a legitimate transaction marked as fraud (False Positive) : $', FP*loss_per_fraud)\n",
    "    print('')\n",
    "    print('Cost of fraud marked as a legitimate transaction (False Negative) : $', FN*transaction_per_consumer)\n",
    "    plt.title('Predicted vs. Actual',fontname = '.SF Compact Display',fontsize = 25,pad = 10);\n",
    "    plt.xlabel('Predicted')\n",
    "    plt.ylabel('Actual',rotation = 0)"
   ]
  },
  {
   "cell_type": "code",
   "execution_count": 138,
   "metadata": {
    "scrolled": false
   },
   "outputs": [
    {
     "data": {
      "application/vnd.jupyter.widget-view+json": {
       "model_id": "3be9276109f5451fb4a601b60464034e",
       "version_major": 2,
       "version_minor": 0
      },
      "text/plain": [
       "interactive(children=(FloatSlider(value=0.5, description='threshold', max=1.0, step=0.02), Output()), _dom_cla…"
      ]
     },
     "metadata": {},
     "output_type": "display_data"
    }
   ],
   "source": [
    "from ipywidgets import interactive, FloatSlider\n",
    "\n",
    "interactive(lambda threshold: make_confusion_matrix(CV_rfc, threshold), threshold=(0.0,1.0,0.02))\n"
   ]
  },
  {
   "cell_type": "code",
   "execution_count": 24,
   "metadata": {},
   "outputs": [
    {
     "name": "stdout",
     "output_type": "stream",
     "text": [
      "The score for logistic regression is\n",
      "Training set:  85.61%\n",
      "Validation set:  85.20%\n"
     ]
    },
    {
     "name": "stderr",
     "output_type": "stream",
     "text": [
      "/Users/randy/anaconda3/lib/python3.7/site-packages/sklearn/linear_model/logistic.py:433: FutureWarning: Default solver will be changed to 'lbfgs' in 0.22. Specify a solver to silence this warning.\n",
      "  FutureWarning)\n"
     ]
    }
   ],
   "source": [
    "logit = LogisticRegression(C = 0.95)\n",
    "logit.fit(X_train_under, y_train_under)\n",
    "print(\"The score for logistic regression is\")\n",
    "print(\"Training set: {:6.2f}%\".format(100*logit.score(X_train_under, y_train_under)))\n",
    "print(\"Validation set: {:6.2f}%\".format(100*logit.score(X_val_under, y_val_under)))"
   ]
  },
  {
   "cell_type": "code",
   "execution_count": 25,
   "metadata": {},
   "outputs": [],
   "source": [
    "# using the new threshold of n\n",
    "def check_threshold(n):\n",
    "    y_predict = (logit.predict_proba(X_val_under)[:,1] > float(n))\n",
    "    print(f'Threshold of {n}:')\n",
    "    print('Precision: {:6.4f},   Recall: {:6.4f}'.format(precision_score(y_val_under, y_predict), \n",
    "                                                     recall_score(y_val_under, y_predict)))\n",
    "    print(f'Total Score: {precision_score(y_val_under, y_predict) + recall_score(y_val_under, y_predict)}')\n",
    "    print('')"
   ]
  },
  {
   "cell_type": "code",
   "execution_count": 26,
   "metadata": {},
   "outputs": [
    {
     "name": "stdout",
     "output_type": "stream",
     "text": [
      "Default threshold: 0.5\n",
      "Precision: 0.7795,   Recall: 0.9817\n"
     ]
    }
   ],
   "source": [
    "# using the default threshold of 0.5, which is what vanilla predict does\n",
    "y_predict = logit.predict(X_val_under)\n",
    "print(\"Default threshold: 0.5\")\n",
    "print(\"Precision: {:6.4f},   Recall: {:6.4f}\".format(precision_score(y_val_under, y_predict), \n",
    "                                                     recall_score(y_val_under, y_predict)))"
   ]
  },
  {
   "cell_type": "code",
   "execution_count": 27,
   "metadata": {},
   "outputs": [
    {
     "data": {
      "image/png": "[encoded data removed]",
      "text/plain": [
       "<Figure size 480x320 with 1 Axes>"
      ]
     },
     "metadata": {
      "needs_background": "light"
     },
     "output_type": "display_data"
    }
   ],
   "source": [
    "# We can also use the probabilities to make a curve showing us how recall \n",
    "# and thresholds trade off \n",
    "\n",
    "precision_curve, recall_curve, threshold_curve = precision_recall_curve(y_val_under, logit.predict_proba(X_val_under)[:,1] )\n",
    "\n",
    "plt.figure(dpi=80)\n",
    "plt.plot(threshold_curve, precision_curve[1:],label='precision')\n",
    "plt.plot(threshold_curve, recall_curve[1:], label='recall')\n",
    "plt.legend(loc='lower left')\n",
    "plt.xlabel('Threshold (above this probability, label as fraud)');\n",
    "plt.title('Precision and Recall Curves');"
   ]
  },
  {
   "cell_type": "code",
   "execution_count": 28,
   "metadata": {},
   "outputs": [
    {
     "data": {
      "image/png": "[encoded data removed]",
      "text/plain": [
       "<Figure size 480x320 with 1 Axes>"
      ]
     },
     "metadata": {
      "needs_background": "light"
     },
     "output_type": "display_data"
    }
   ],
   "source": [
    "plt.figure(dpi=80)\n",
    "plt.plot(recall_curve[1:], precision_curve[1:],label='precision')\n",
    "plt.xlabel(\"Recall\")\n",
    "plt.ylabel(\"Precision\")\n",
    "plt.title(\"Precision-Recall Curve\");"
   ]
  },
  {
   "cell_type": "markdown",
   "metadata": {},
   "source": [
    "# The ROC Curve"
   ]
  },
  {
   "cell_type": "code",
   "execution_count": 29,
   "metadata": {},
   "outputs": [],
   "source": [
    "# Precision = TP / (TP + FP)\n",
    "# Recall = TP/P = True positive rate\n",
    "# false positive rate = FP / true negatives = FP / (FP + TN) \n",
    "\n"
   ]
  },
  {
   "cell_type": "code",
   "execution_count": 30,
   "metadata": {
    "scrolled": true
   },
   "outputs": [
    {
     "name": "stdout",
     "output_type": "stream",
     "text": [
      "Fitting 5 folds for each of 10 candidates, totalling 50 fits\n"
     ]
    },
    {
     "name": "stderr",
     "output_type": "stream",
     "text": [
      "[Parallel(n_jobs=-1)]: Using backend LokyBackend with 12 concurrent workers.\n",
      "[Parallel(n_jobs=-1)]: Done   1 tasks      | elapsed:    0.1s\n",
      "[Parallel(n_jobs=-1)]: Batch computation too fast (0.0653s.) Setting batch_size=6.\n",
      "[Parallel(n_jobs=-1)]: Done   2 tasks      | elapsed:    0.1s\n",
      "[Parallel(n_jobs=-1)]: Done   3 tasks      | elapsed:    0.1s\n",
      "[Parallel(n_jobs=-1)]: Done   4 tasks      | elapsed:    0.1s\n",
      "[Parallel(n_jobs=-1)]: Done   5 tasks      | elapsed:    0.1s\n",
      "[Parallel(n_jobs=-1)]: Done   6 tasks      | elapsed:    0.1s\n",
      "[Parallel(n_jobs=-1)]: Done   7 out of  50 | elapsed:    0.1s remaining:    0.5s\n",
      "[Parallel(n_jobs=-1)]: Done   9 out of  50 | elapsed:    0.1s remaining:    0.4s\n",
      "[Parallel(n_jobs=-1)]: Done  11 out of  50 | elapsed:    0.1s remaining:    0.4s\n",
      "[Parallel(n_jobs=-1)]: Done  13 out of  50 | elapsed:    0.1s remaining:    0.3s\n",
      "[Parallel(n_jobs=-1)]: Done  15 out of  50 | elapsed:    0.1s remaining:    0.3s\n",
      "[Parallel(n_jobs=-1)]: Done  17 out of  50 | elapsed:    0.1s remaining:    0.2s\n",
      "[Parallel(n_jobs=-1)]: Done  19 out of  50 | elapsed:    0.1s remaining:    0.2s\n",
      "[Parallel(n_jobs=-1)]: Done  21 out of  50 | elapsed:    0.1s remaining:    0.2s\n",
      "[Parallel(n_jobs=-1)]: Done  23 out of  50 | elapsed:    0.1s remaining:    0.2s\n",
      "[Parallel(n_jobs=-1)]: Done  50 out of  50 | elapsed:    0.2s finished\n"
     ]
    },
    {
     "data": {
      "text/plain": [
       "GridSearchCV(cv=5, error_score='raise-deprecating',\n",
       "       estimator=LogisticRegression(C=1.0, class_weight=None, dual=False, fit_intercept=True,\n",
       "          intercept_scaling=1, max_iter=10000, multi_class='warn',\n",
       "          n_jobs=None, penalty='l2', random_state=None, solver='lbfgs',\n",
       "          tol=0.0001, verbose=0, warm_start=False),\n",
       "       fit_params=None, iid='warn', n_jobs=-1,\n",
       "       param_grid={'C': array([    1.     ,     2.78256,     7.74264,    21.54435,    59.94843,\n",
       "         166.81005,   464.15888,  1291.54967,  3593.81366, 10000.     ]), 'penalty': ['l2']},\n",
       "       pre_dispatch='2*n_jobs', refit=True, return_train_score='warn',\n",
       "       scoring='roc_auc', verbose=30)"
      ]
     },
     "execution_count": 30,
     "metadata": {},
     "output_type": "execute_result"
    }
   ],
   "source": [
    "# Run CV with 5 folds (logit)\n",
    "\n",
    "penalty = ['l2']\n",
    "C = np.logspace(0, 4, 10)\n",
    "param_grid = dict(C=C, penalty=penalty)\n",
    "\n",
    "logistic = linear_model.LogisticRegression(solver='lbfgs', max_iter=10000)\n",
    "logistic_grid = GridSearchCV(logistic, param_grid, cv=5, scoring='roc_auc', verbose=30, n_jobs=-1)\n",
    "logistic_grid.fit(X_train_under, y_train_under)"
   ]
  },
  {
   "cell_type": "code",
   "execution_count": 32,
   "metadata": {
    "scrolled": true
   },
   "outputs": [
    {
     "name": "stdout",
     "output_type": "stream",
     "text": [
      "Fitting 5 folds for each of 8 candidates, totalling 40 fits\n"
     ]
    },
    {
     "name": "stderr",
     "output_type": "stream",
     "text": [
      "[Parallel(n_jobs=-1)]: Using backend LokyBackend with 12 concurrent workers.\n",
      "[Parallel(n_jobs=-1)]: Done   1 tasks      | elapsed:    3.0s\n",
      "[Parallel(n_jobs=-1)]: Done   2 tasks      | elapsed:    3.0s\n",
      "[Parallel(n_jobs=-1)]: Done   3 tasks      | elapsed:    3.0s\n",
      "[Parallel(n_jobs=-1)]: Done   4 tasks      | elapsed:    3.0s\n",
      "[Parallel(n_jobs=-1)]: Done   5 tasks      | elapsed:    3.0s\n",
      "[Parallel(n_jobs=-1)]: Done   6 tasks      | elapsed:    3.1s\n",
      "[Parallel(n_jobs=-1)]: Done   7 tasks      | elapsed:    3.1s\n",
      "[Parallel(n_jobs=-1)]: Done   8 tasks      | elapsed:    3.1s\n",
      "[Parallel(n_jobs=-1)]: Done   9 tasks      | elapsed:    3.1s\n",
      "[Parallel(n_jobs=-1)]: Done  10 tasks      | elapsed:    3.1s\n",
      "[Parallel(n_jobs=-1)]: Done  11 tasks      | elapsed:    3.7s\n",
      "[Parallel(n_jobs=-1)]: Done  12 tasks      | elapsed:    3.7s\n",
      "[Parallel(n_jobs=-1)]: Done  13 tasks      | elapsed:    6.3s\n",
      "/Users/randy/anaconda3/lib/python3.7/site-packages/sklearn/externals/joblib/externals/loky/process_executor.py:706: UserWarning: A worker stopped while some jobs were given to the executor. This can be caused by a too short worker timeout or by a memory leak.\n",
      "  \"timeout or by a memory leak.\", UserWarning\n",
      "[Parallel(n_jobs=-1)]: Done  14 tasks      | elapsed:    6.4s\n",
      "/Users/randy/anaconda3/lib/python3.7/site-packages/sklearn/externals/joblib/externals/loky/process_executor.py:706: UserWarning: A worker stopped while some jobs were given to the executor. This can be caused by a too short worker timeout or by a memory leak.\n",
      "  \"timeout or by a memory leak.\", UserWarning\n",
      "[Parallel(n_jobs=-1)]: Done  15 tasks      | elapsed:    6.5s\n",
      "[Parallel(n_jobs=-1)]: Done  16 tasks      | elapsed:    6.5s\n",
      "/Users/randy/anaconda3/lib/python3.7/site-packages/sklearn/externals/joblib/externals/loky/process_executor.py:706: UserWarning: A worker stopped while some jobs were given to the executor. This can be caused by a too short worker timeout or by a memory leak.\n",
      "  \"timeout or by a memory leak.\", UserWarning\n",
      "[Parallel(n_jobs=-1)]: Done  17 tasks      | elapsed:    6.7s\n",
      "/Users/randy/anaconda3/lib/python3.7/site-packages/sklearn/externals/joblib/externals/loky/process_executor.py:706: UserWarning: A worker stopped while some jobs were given to the executor. This can be caused by a too short worker timeout or by a memory leak.\n",
      "  \"timeout or by a memory leak.\", UserWarning\n",
      "/Users/randy/anaconda3/lib/python3.7/site-packages/sklearn/externals/joblib/externals/loky/process_executor.py:706: UserWarning: A worker stopped while some jobs were given to the executor. This can be caused by a too short worker timeout or by a memory leak.\n",
      "  \"timeout or by a memory leak.\", UserWarning\n",
      "[Parallel(n_jobs=-1)]: Done  19 out of  40 | elapsed:    6.9s remaining:    7.6s\n",
      "[Parallel(n_jobs=-1)]: Done  21 out of  40 | elapsed:    6.9s remaining:    6.3s\n",
      "/Users/randy/anaconda3/lib/python3.7/site-packages/sklearn/externals/joblib/externals/loky/process_executor.py:706: UserWarning: A worker stopped while some jobs were given to the executor. This can be caused by a too short worker timeout or by a memory leak.\n",
      "  \"timeout or by a memory leak.\", UserWarning\n",
      "/Users/randy/anaconda3/lib/python3.7/site-packages/sklearn/externals/joblib/externals/loky/process_executor.py:706: UserWarning: A worker stopped while some jobs were given to the executor. This can be caused by a too short worker timeout or by a memory leak.\n",
      "  \"timeout or by a memory leak.\", UserWarning\n",
      "[Parallel(n_jobs=-1)]: Done  23 out of  40 | elapsed:    7.2s remaining:    5.3s\n",
      "/Users/randy/anaconda3/lib/python3.7/site-packages/sklearn/externals/joblib/externals/loky/process_executor.py:706: UserWarning: A worker stopped while some jobs were given to the executor. This can be caused by a too short worker timeout or by a memory leak.\n",
      "  \"timeout or by a memory leak.\", UserWarning\n",
      "/Users/randy/anaconda3/lib/python3.7/site-packages/sklearn/externals/joblib/externals/loky/process_executor.py:706: UserWarning: A worker stopped while some jobs were given to the executor. This can be caused by a too short worker timeout or by a memory leak.\n",
      "  \"timeout or by a memory leak.\", UserWarning\n",
      "[Parallel(n_jobs=-1)]: Done  25 out of  40 | elapsed:   10.0s remaining:    6.0s\n",
      "/Users/randy/anaconda3/lib/python3.7/site-packages/sklearn/externals/joblib/externals/loky/process_executor.py:706: UserWarning: A worker stopped while some jobs were given to the executor. This can be caused by a too short worker timeout or by a memory leak.\n",
      "  \"timeout or by a memory leak.\", UserWarning\n",
      "/Users/randy/anaconda3/lib/python3.7/site-packages/sklearn/externals/joblib/externals/loky/process_executor.py:706: UserWarning: A worker stopped while some jobs were given to the executor. This can be caused by a too short worker timeout or by a memory leak.\n",
      "  \"timeout or by a memory leak.\", UserWarning\n",
      "[Parallel(n_jobs=-1)]: Done  27 out of  40 | elapsed:   10.2s remaining:    4.9s\n",
      "/Users/randy/anaconda3/lib/python3.7/site-packages/sklearn/externals/joblib/externals/loky/process_executor.py:706: UserWarning: A worker stopped while some jobs were given to the executor. This can be caused by a too short worker timeout or by a memory leak.\n",
      "  \"timeout or by a memory leak.\", UserWarning\n",
      "[Parallel(n_jobs=-1)]: Done  29 out of  40 | elapsed:   11.5s remaining:    4.4s\n",
      "[Parallel(n_jobs=-1)]: Done  31 out of  40 | elapsed:   11.7s remaining:    3.4s\n",
      "[Parallel(n_jobs=-1)]: Done  33 out of  40 | elapsed:   11.9s remaining:    2.5s\n",
      "[Parallel(n_jobs=-1)]: Done  35 out of  40 | elapsed:   12.0s remaining:    1.7s\n",
      "[Parallel(n_jobs=-1)]: Done  37 out of  40 | elapsed:   13.5s remaining:    1.1s\n",
      "[Parallel(n_jobs=-1)]: Done  40 out of  40 | elapsed:   13.6s finished\n"
     ]
    },
    {
     "data": {
      "text/plain": [
       "GridSearchCV(cv=5, error_score='raise-deprecating',\n",
       "       estimator=SVC(C=1.0, cache_size=200, class_weight=None, coef0=0.0,\n",
       "  decision_function_shape='ovr', degree=3, gamma='auto_deprecated',\n",
       "  kernel='rbf', max_iter=-1, probability=True, random_state=None,\n",
       "  shrinking=True, tol=0.001, verbose=False),\n",
       "       fit_params=None, iid='warn', n_jobs=-1,\n",
       "       param_grid={'C': [1, 2, 5, 10], 'gamma': [0.001, 0.1]},\n",
       "       pre_dispatch='2*n_jobs', refit=True, return_train_score='warn',\n",
       "       scoring='roc_auc', verbose=30)"
      ]
     },
     "execution_count": 32,
     "metadata": {},
     "output_type": "execute_result"
    }
   ],
   "source": [
    "# # Run CV with 5 folds (SVM). Unsure if I can run this given how long it takes\n",
    "\n",
    "C = [1,2,5,10]\n",
    "gammas = [0.001, 0.1]\n",
    "param_grid = dict(C=C, gamma=gammas)\n",
    "\n",
    "svm1 = svm.SVC(kernel='rbf', probability=True)\n",
    "svm_grid = GridSearchCV(svm1, param_grid, cv=5, scoring='roc_auc', verbose=30, n_jobs=-1)\n",
    "svm_grid.fit(X_train_under, y_train_under)"
   ]
  },
  {
   "cell_type": "code",
   "execution_count": 33,
   "metadata": {
    "scrolled": true
   },
   "outputs": [
    {
     "name": "stdout",
     "output_type": "stream",
     "text": [
      "Fitting 5 folds for each of 36 candidates, totalling 180 fits\n"
     ]
    },
    {
     "name": "stderr",
     "output_type": "stream",
     "text": [
      "[Parallel(n_jobs=-1)]: Using backend LokyBackend with 12 concurrent workers.\n",
      "[Parallel(n_jobs=-1)]: Done   1 tasks      | elapsed:    0.4s\n",
      "[Parallel(n_jobs=-1)]: Done   2 tasks      | elapsed:    0.4s\n",
      "[Parallel(n_jobs=-1)]: Done   3 tasks      | elapsed:    0.4s\n",
      "[Parallel(n_jobs=-1)]: Done   4 tasks      | elapsed:    0.4s\n",
      "[Parallel(n_jobs=-1)]: Done   5 tasks      | elapsed:    0.4s\n",
      "[Parallel(n_jobs=-1)]: Done   6 tasks      | elapsed:    0.8s\n",
      "[Parallel(n_jobs=-1)]: Done   7 tasks      | elapsed:    0.8s\n",
      "[Parallel(n_jobs=-1)]: Done   8 tasks      | elapsed:    1.0s\n",
      "[Parallel(n_jobs=-1)]: Done   9 tasks      | elapsed:    1.1s\n",
      "[Parallel(n_jobs=-1)]: Done  10 tasks      | elapsed:    1.1s\n",
      "[Parallel(n_jobs=-1)]: Done  11 tasks      | elapsed:    1.1s\n",
      "[Parallel(n_jobs=-1)]: Done  12 tasks      | elapsed:    1.2s\n",
      "[Parallel(n_jobs=-1)]: Done  13 tasks      | elapsed:    1.2s\n",
      "[Parallel(n_jobs=-1)]: Done  14 tasks      | elapsed:    1.2s\n",
      "[Parallel(n_jobs=-1)]: Done  15 tasks      | elapsed:    1.4s\n",
      "[Parallel(n_jobs=-1)]: Done  16 tasks      | elapsed:    2.1s\n",
      "[Parallel(n_jobs=-1)]: Done  17 tasks      | elapsed:    2.1s\n",
      "[Parallel(n_jobs=-1)]: Done  18 tasks      | elapsed:    2.1s\n",
      "[Parallel(n_jobs=-1)]: Done  19 tasks      | elapsed:    2.1s\n",
      "[Parallel(n_jobs=-1)]: Done  20 tasks      | elapsed:    2.1s\n",
      "[Parallel(n_jobs=-1)]: Done  21 tasks      | elapsed:    2.2s\n",
      "[Parallel(n_jobs=-1)]: Done  22 tasks      | elapsed:    2.2s\n",
      "[Parallel(n_jobs=-1)]: Done  23 tasks      | elapsed:    2.4s\n",
      "[Parallel(n_jobs=-1)]: Done  24 tasks      | elapsed:    2.4s\n",
      "[Parallel(n_jobs=-1)]: Done  25 tasks      | elapsed:    2.4s\n",
      "[Parallel(n_jobs=-1)]: Done  26 tasks      | elapsed:    2.5s\n",
      "[Parallel(n_jobs=-1)]: Done  27 tasks      | elapsed:    2.5s\n",
      "[Parallel(n_jobs=-1)]: Done  28 tasks      | elapsed:    2.6s\n",
      "[Parallel(n_jobs=-1)]: Done  29 tasks      | elapsed:    2.6s\n",
      "[Parallel(n_jobs=-1)]: Done  30 tasks      | elapsed:    2.8s\n",
      "[Parallel(n_jobs=-1)]: Done  31 tasks      | elapsed:    3.3s\n",
      "[Parallel(n_jobs=-1)]: Done  32 tasks      | elapsed:    3.4s\n",
      "[Parallel(n_jobs=-1)]: Done  33 tasks      | elapsed:    3.4s\n",
      "[Parallel(n_jobs=-1)]: Done  34 tasks      | elapsed:    3.5s\n",
      "[Parallel(n_jobs=-1)]: Done  35 tasks      | elapsed:    3.5s\n",
      "[Parallel(n_jobs=-1)]: Done  36 tasks      | elapsed:    3.5s\n",
      "[Parallel(n_jobs=-1)]: Done  37 tasks      | elapsed:    3.6s\n",
      "[Parallel(n_jobs=-1)]: Done  38 tasks      | elapsed:    3.9s\n",
      "[Parallel(n_jobs=-1)]: Done  39 tasks      | elapsed:    4.0s\n",
      "[Parallel(n_jobs=-1)]: Done  40 tasks      | elapsed:    4.0s\n",
      "[Parallel(n_jobs=-1)]: Done  41 tasks      | elapsed:    4.0s\n",
      "[Parallel(n_jobs=-1)]: Done  42 tasks      | elapsed:    4.2s\n",
      "[Parallel(n_jobs=-1)]: Done  43 tasks      | elapsed:    4.2s\n",
      "[Parallel(n_jobs=-1)]: Done  44 tasks      | elapsed:    4.2s\n",
      "[Parallel(n_jobs=-1)]: Done  45 tasks      | elapsed:    4.4s\n",
      "[Parallel(n_jobs=-1)]: Done  46 tasks      | elapsed:    4.7s\n",
      "[Parallel(n_jobs=-1)]: Done  47 tasks      | elapsed:    5.0s\n",
      "[Parallel(n_jobs=-1)]: Done  48 tasks      | elapsed:    5.1s\n",
      "[Parallel(n_jobs=-1)]: Done  49 tasks      | elapsed:    5.1s\n",
      "[Parallel(n_jobs=-1)]: Done  50 tasks      | elapsed:    5.1s\n",
      "[Parallel(n_jobs=-1)]: Done  51 tasks      | elapsed:    5.3s\n",
      "[Parallel(n_jobs=-1)]: Done  52 tasks      | elapsed:    5.3s\n",
      "[Parallel(n_jobs=-1)]: Done  53 tasks      | elapsed:    5.5s\n",
      "[Parallel(n_jobs=-1)]: Done  54 tasks      | elapsed:    5.6s\n",
      "[Parallel(n_jobs=-1)]: Done  55 tasks      | elapsed:    5.6s\n",
      "[Parallel(n_jobs=-1)]: Done  56 tasks      | elapsed:    5.6s\n",
      "[Parallel(n_jobs=-1)]: Done  57 tasks      | elapsed:    5.6s\n",
      "[Parallel(n_jobs=-1)]: Done  58 tasks      | elapsed:    5.8s\n",
      "[Parallel(n_jobs=-1)]: Done  59 tasks      | elapsed:    5.8s\n",
      "[Parallel(n_jobs=-1)]: Done  60 tasks      | elapsed:    5.9s\n",
      "[Parallel(n_jobs=-1)]: Done  61 tasks      | elapsed:    6.4s\n",
      "[Parallel(n_jobs=-1)]: Done  62 tasks      | elapsed:    6.6s\n",
      "[Parallel(n_jobs=-1)]: Done  63 tasks      | elapsed:    6.7s\n",
      "[Parallel(n_jobs=-1)]: Done  64 tasks      | elapsed:    6.7s\n",
      "[Parallel(n_jobs=-1)]: Done  65 tasks      | elapsed:    6.7s\n",
      "[Parallel(n_jobs=-1)]: Done  66 tasks      | elapsed:    6.9s\n",
      "[Parallel(n_jobs=-1)]: Done  67 tasks      | elapsed:    6.9s\n",
      "[Parallel(n_jobs=-1)]: Done  68 tasks      | elapsed:    7.0s\n",
      "[Parallel(n_jobs=-1)]: Done  69 tasks      | elapsed:    7.2s\n",
      "[Parallel(n_jobs=-1)]: Done  70 tasks      | elapsed:    7.2s\n",
      "[Parallel(n_jobs=-1)]: Done  71 tasks      | elapsed:    7.2s\n",
      "[Parallel(n_jobs=-1)]: Done  72 tasks      | elapsed:    7.3s\n",
      "[Parallel(n_jobs=-1)]: Done  73 tasks      | elapsed:    7.3s\n",
      "[Parallel(n_jobs=-1)]: Done  74 tasks      | elapsed:    7.4s\n",
      "[Parallel(n_jobs=-1)]: Done  75 tasks      | elapsed:    7.4s\n",
      "[Parallel(n_jobs=-1)]: Done  76 tasks      | elapsed:    8.1s\n",
      "[Parallel(n_jobs=-1)]: Done  77 tasks      | elapsed:    8.3s\n",
      "[Parallel(n_jobs=-1)]: Done  78 tasks      | elapsed:    8.3s\n",
      "[Parallel(n_jobs=-1)]: Done  79 tasks      | elapsed:    8.4s\n",
      "[Parallel(n_jobs=-1)]: Done  80 tasks      | elapsed:    8.4s\n",
      "[Parallel(n_jobs=-1)]: Done  81 tasks      | elapsed:    8.5s\n",
      "[Parallel(n_jobs=-1)]: Done  82 tasks      | elapsed:    8.5s\n",
      "[Parallel(n_jobs=-1)]: Done  83 tasks      | elapsed:    8.8s\n",
      "[Parallel(n_jobs=-1)]: Done  84 tasks      | elapsed:    8.9s\n",
      "[Parallel(n_jobs=-1)]: Done  85 tasks      | elapsed:    8.9s\n",
      "[Parallel(n_jobs=-1)]: Done  86 tasks      | elapsed:    8.9s\n",
      "[Parallel(n_jobs=-1)]: Done  87 tasks      | elapsed:    9.0s\n",
      "[Parallel(n_jobs=-1)]: Done  88 tasks      | elapsed:    9.0s\n",
      "[Parallel(n_jobs=-1)]: Done  89 tasks      | elapsed:    9.0s\n",
      "[Parallel(n_jobs=-1)]: Done  90 tasks      | elapsed:    9.2s\n",
      "[Parallel(n_jobs=-1)]: Done  91 tasks      | elapsed:    9.8s\n",
      "[Parallel(n_jobs=-1)]: Done  92 tasks      | elapsed:    9.9s\n",
      "[Parallel(n_jobs=-1)]: Done  93 tasks      | elapsed:   10.1s\n",
      "[Parallel(n_jobs=-1)]: Done  94 tasks      | elapsed:   10.1s\n",
      "[Parallel(n_jobs=-1)]: Done  95 tasks      | elapsed:   10.1s\n",
      "[Parallel(n_jobs=-1)]: Done  96 tasks      | elapsed:   10.1s\n",
      "[Parallel(n_jobs=-1)]: Done  97 tasks      | elapsed:   10.1s\n",
      "[Parallel(n_jobs=-1)]: Done  98 tasks      | elapsed:   10.5s\n",
      "[Parallel(n_jobs=-1)]: Done  99 tasks      | elapsed:   10.6s\n",
      "[Parallel(n_jobs=-1)]: Done 100 tasks      | elapsed:   10.6s\n",
      "[Parallel(n_jobs=-1)]: Done 101 tasks      | elapsed:   10.6s\n",
      "[Parallel(n_jobs=-1)]: Done 102 tasks      | elapsed:   10.6s\n",
      "[Parallel(n_jobs=-1)]: Done 103 tasks      | elapsed:   10.7s\n",
      "[Parallel(n_jobs=-1)]: Done 104 tasks      | elapsed:   10.7s\n",
      "[Parallel(n_jobs=-1)]: Done 105 tasks      | elapsed:   11.1s\n",
      "[Parallel(n_jobs=-1)]: Done 106 tasks      | elapsed:   11.3s\n",
      "[Parallel(n_jobs=-1)]: Done 107 tasks      | elapsed:   11.6s\n",
      "[Parallel(n_jobs=-1)]: Done 108 tasks      | elapsed:   11.7s\n",
      "[Parallel(n_jobs=-1)]: Done 109 tasks      | elapsed:   11.8s\n",
      "[Parallel(n_jobs=-1)]: Done 110 tasks      | elapsed:   11.8s\n",
      "[Parallel(n_jobs=-1)]: Done 111 tasks      | elapsed:   11.8s\n",
      "[Parallel(n_jobs=-1)]: Done 112 tasks      | elapsed:   11.9s\n",
      "[Parallel(n_jobs=-1)]: Done 113 tasks      | elapsed:   12.1s\n",
      "[Parallel(n_jobs=-1)]: Done 114 tasks      | elapsed:   12.2s\n",
      "[Parallel(n_jobs=-1)]: Done 115 tasks      | elapsed:   12.3s\n",
      "[Parallel(n_jobs=-1)]: Done 116 tasks      | elapsed:   12.3s\n",
      "[Parallel(n_jobs=-1)]: Done 117 tasks      | elapsed:   12.3s\n",
      "[Parallel(n_jobs=-1)]: Done 118 tasks      | elapsed:   12.4s\n",
      "[Parallel(n_jobs=-1)]: Done 119 tasks      | elapsed:   12.5s\n",
      "[Parallel(n_jobs=-1)]: Done 120 tasks      | elapsed:   12.7s\n",
      "[Parallel(n_jobs=-1)]: Done 121 tasks      | elapsed:   13.2s\n",
      "[Parallel(n_jobs=-1)]: Done 122 tasks      | elapsed:   13.5s\n",
      "[Parallel(n_jobs=-1)]: Done 123 tasks      | elapsed:   13.5s\n",
      "[Parallel(n_jobs=-1)]: Done 124 tasks      | elapsed:   13.6s\n",
      "[Parallel(n_jobs=-1)]: Done 125 tasks      | elapsed:   13.6s\n",
      "[Parallel(n_jobs=-1)]: Done 126 tasks      | elapsed:   13.6s\n",
      "[Parallel(n_jobs=-1)]: Done 127 tasks      | elapsed:   13.7s\n",
      "[Parallel(n_jobs=-1)]: Done 128 tasks      | elapsed:   13.8s\n",
      "[Parallel(n_jobs=-1)]: Done 129 tasks      | elapsed:   14.1s\n",
      "[Parallel(n_jobs=-1)]: Done 130 tasks      | elapsed:   14.1s\n",
      "[Parallel(n_jobs=-1)]: Done 131 tasks      | elapsed:   14.2s\n",
      "[Parallel(n_jobs=-1)]: Done 132 tasks      | elapsed:   14.2s\n",
      "[Parallel(n_jobs=-1)]: Done 133 tasks      | elapsed:   14.2s\n",
      "[Parallel(n_jobs=-1)]: Done 134 tasks      | elapsed:   14.2s\n",
      "[Parallel(n_jobs=-1)]: Done 135 tasks      | elapsed:   14.3s\n"
     ]
    },
    {
     "name": "stderr",
     "output_type": "stream",
     "text": [
      "[Parallel(n_jobs=-1)]: Done 136 tasks      | elapsed:   15.1s\n",
      "[Parallel(n_jobs=-1)]: Done 137 tasks      | elapsed:   15.3s\n",
      "[Parallel(n_jobs=-1)]: Done 138 tasks      | elapsed:   15.4s\n",
      "[Parallel(n_jobs=-1)]: Done 139 tasks      | elapsed:   15.4s\n",
      "[Parallel(n_jobs=-1)]: Done 140 tasks      | elapsed:   15.4s\n",
      "[Parallel(n_jobs=-1)]: Done 141 tasks      | elapsed:   15.4s\n",
      "[Parallel(n_jobs=-1)]: Done 142 tasks      | elapsed:   15.4s\n",
      "[Parallel(n_jobs=-1)]: Done 143 tasks      | elapsed:   15.8s\n",
      "[Parallel(n_jobs=-1)]: Done 144 tasks      | elapsed:   15.9s\n",
      "[Parallel(n_jobs=-1)]: Done 145 tasks      | elapsed:   15.9s\n",
      "[Parallel(n_jobs=-1)]: Done 146 tasks      | elapsed:   15.9s\n",
      "[Parallel(n_jobs=-1)]: Done 147 tasks      | elapsed:   15.9s\n",
      "[Parallel(n_jobs=-1)]: Done 148 tasks      | elapsed:   16.0s\n",
      "[Parallel(n_jobs=-1)]: Done 149 tasks      | elapsed:   16.1s\n",
      "[Parallel(n_jobs=-1)]: Done 150 tasks      | elapsed:   16.2s\n",
      "[Parallel(n_jobs=-1)]: Done 151 tasks      | elapsed:   16.6s\n",
      "[Parallel(n_jobs=-1)]: Done 152 tasks      | elapsed:   16.7s\n",
      "[Parallel(n_jobs=-1)]: Done 153 tasks      | elapsed:   17.0s\n",
      "[Parallel(n_jobs=-1)]: Done 154 tasks      | elapsed:   17.0s\n",
      "[Parallel(n_jobs=-1)]: Done 155 tasks      | elapsed:   17.0s\n",
      "[Parallel(n_jobs=-1)]: Done 156 tasks      | elapsed:   17.1s\n",
      "[Parallel(n_jobs=-1)]: Done 157 tasks      | elapsed:   17.1s\n",
      "[Parallel(n_jobs=-1)]: Done 164 out of 180 | elapsed:   17.6s remaining:    1.7s\n",
      "[Parallel(n_jobs=-1)]: Done 171 out of 180 | elapsed:   18.7s remaining:    1.0s\n",
      "[Parallel(n_jobs=-1)]: Done 178 out of 180 | elapsed:   19.8s remaining:    0.2s\n",
      "[Parallel(n_jobs=-1)]: Done 180 out of 180 | elapsed:   19.9s finished\n"
     ]
    },
    {
     "data": {
      "text/plain": [
       "GridSearchCV(cv=5, error_score='raise-deprecating',\n",
       "       estimator=RandomForestClassifier(bootstrap=True, class_weight=None, criterion='gini',\n",
       "            max_depth=None, max_features='auto', max_leaf_nodes=None,\n",
       "            min_impurity_decrease=0.0, min_impurity_split=None,\n",
       "            min_samples_leaf=1, min_samples_split=2,\n",
       "            min_weight_fraction_leaf=0.0, n_estimators='warn', n_jobs=None,\n",
       "            oob_score=False, random_state=None, verbose=0,\n",
       "            warm_start=False),\n",
       "       fit_params=None, iid='warn', n_jobs=-1,\n",
       "       param_grid={'n_estimators': [100, 250, 500], 'max_features': ['auto'], 'max_depth': [40, 80, 200], 'min_samples_split': [5, 10], 'min_samples_leaf': [2, 4], 'bootstrap': [True]},\n",
       "       pre_dispatch='2*n_jobs', refit=True, return_train_score='warn',\n",
       "       scoring=None, verbose=30)"
      ]
     },
     "execution_count": 33,
     "metadata": {},
     "output_type": "execute_result"
    }
   ],
   "source": [
    "# Run CV with 5 folds (Random Forest)\n",
    "\n",
    "# Number of trees in random forest\n",
    "n_estimators = [100,250,500]#[200, 250] #200 or 250 models. test this more\n",
    "# Number of features to consider at every split\n",
    "max_features = ['auto'] #sqrt\n",
    "# Maximum number of levels in tree\n",
    "max_depth = [40,80,200]#[70, 80]\n",
    "# Minimum number of samples required to split a node\n",
    "min_samples_split = [5,10]#[2, 5, 10]\n",
    "# Minimum number of samples required at each leaf node\n",
    "min_samples_leaf = [2,4]#[1, 2, 4]\n",
    "# Method of selecting samples for training each tree\n",
    "bootstrap = [True]\n",
    "\n",
    "# Create the parameter grid based on the results of random search \n",
    "param_grid = {\n",
    "    'n_estimators': n_estimators,\n",
    "    'max_features': max_features,\n",
    "    'max_depth': max_depth, #how deep the tree gets to go, test this more\n",
    "    'min_samples_split': min_samples_split,\n",
    "    'min_samples_leaf': min_samples_leaf,\n",
    "    'bootstrap': bootstrap\n",
    "}\n",
    "\n",
    "# # Use the random grid to search for best hyperparameters\n",
    "# # First create the base model to tune\n",
    "# rf = RandomForestRegressor()\n",
    "# # Random search of parameters, using 3 fold cross validation, \n",
    "# # search across 100 different combinations, and use all available cores\n",
    "# rf_random = RandomizedSearchCV(estimator = rf, param_distributions = random_grid, n_iter = 100, cv = 3, verbose=10, random_state=42, n_jobs = -1)\n",
    "# # Fit the random search model\n",
    "# rf_random.fit(X_train, y_train)\n",
    "\n",
    "# #looking for the best hyperparams\n",
    "# #Create base model to tune\n",
    "rfc=RandomForestClassifier()\n",
    "\n",
    "CV_rfc = GridSearchCV(estimator=rfc, param_grid=param_grid, cv=5, verbose=30, n_jobs=-1)\n",
    "CV_rfc.fit(X_train_under, y_train_under)"
   ]
  },
  {
   "cell_type": "code",
   "execution_count": 34,
   "metadata": {},
   "outputs": [],
   "source": [
    "# Fit a Naive Bayes Model\n",
    "\n",
    "gnb = GaussianNB()\n",
    "gnb_best = gnb.fit(X_train_under, y_train_under)"
   ]
  },
  {
   "cell_type": "code",
   "execution_count": 35,
   "metadata": {},
   "outputs": [],
   "source": [
    "# # Fit sub_grade Classifier\n",
    "\n",
    "# isFraud = 'isFraud'\n",
    "# x_patsy_sg = dmatrix(isFraud, X_train)\n",
    "# #x_patsy_sg_test = x_patsy_sg[test_index,:]\n",
    "# x_patsy_sg_val = x_patsy_sg[y_val,:]\n",
    "# x_patsy_sg_train = x_patsy_sg[y_train,:]\n",
    "\n",
    "# logistic_sub_grade = linear_model.LogisticRegression(solver='lbfgs', max_iter=10000)\n",
    "# logistic_sub_grade.fit(x_patsy_sg_train, y_train)\n",
    "# logistic_sub_grade.coef_"
   ]
  },
  {
   "cell_type": "code",
   "execution_count": 36,
   "metadata": {},
   "outputs": [
    {
     "name": "stdout",
     "output_type": "stream",
     "text": [
      "Best ROC_AUC for logit: 0.9720\n",
      "Best ROC_AUC for svm: 0.7478\n",
      "Best ROC_AUC for rf: 0.9685\n"
     ]
    }
   ],
   "source": [
    "print('Best ROC_AUC for logit: %0.4f' % logistic_grid.best_score_)\n",
    "print('Best ROC_AUC for svm: %0.4f' % svm_grid.best_score_)\n",
    "print('Best ROC_AUC for rf: %0.4f' % CV_rfc.best_score_)"
   ]
  },
  {
   "cell_type": "code",
   "execution_count": 37,
   "metadata": {},
   "outputs": [
    {
     "name": "stdout",
     "output_type": "stream",
     "text": [
      "Best Params for logit:  {'C': 1.0, 'penalty': 'l2'}\n",
      "Best Params for svm:  {'C': 10, 'gamma': 0.001}\n",
      "Best Params for rf:  {'bootstrap': True, 'max_depth': 80, 'max_features': 'auto', 'min_samples_leaf': 2, 'min_samples_split': 10, 'n_estimators': 100}\n"
     ]
    }
   ],
   "source": [
    "print('Best Params for logit: ', logistic_grid.best_params_)\n",
    "print('Best Params for svm: ', svm_grid.best_params_)\n",
    "print('Best Params for rf: ', CV_rfc.best_params_)"
   ]
  },
  {
   "cell_type": "code",
   "execution_count": 38,
   "metadata": {},
   "outputs": [
    {
     "data": {
      "text/plain": [
       "DummyClassifier(constant=None, random_state=None, strategy='stratified')"
      ]
     },
     "execution_count": 38,
     "metadata": {},
     "output_type": "execute_result"
    }
   ],
   "source": [
    "dc = DummyClassifier()\n",
    "dc.fit(X_train_under, y_train_under)\n",
    "# print(\"Log-loss on dummy classifier: {:6.4f}\".format(log_loss(y_val, dc.predict_proba(X_val))))"
   ]
  },
  {
   "cell_type": "code",
   "execution_count": 39,
   "metadata": {},
   "outputs": [],
   "source": [
    "# final_result.loc[final_result['isFraud'] == 1].mean()"
   ]
  },
  {
   "cell_type": "code",
   "execution_count": 140,
   "metadata": {
    "scrolled": true
   },
   "outputs": [
    {
     "data": {
      "image/png": "[encoded data removed]",
      "text/plain": [
       "<Figure size 1440x1296 with 1 Axes>"
      ]
     },
     "metadata": {},
     "output_type": "display_data"
    }
   ],
   "source": [
    "#in sample\n",
    "plt.rcParams.update({'font.size': 30})\n",
    "model_list = [logistic_grid.best_estimator_, \n",
    "#              svm_grid.best_estimator_, \n",
    "              gnb_best,\n",
    "#               rf_random.best_estimator_,\n",
    "#              knn_grid.best_estimator_,\n",
    "              CV_rfc.best_estimator_,\n",
    "#              dc\n",
    "             ]\n",
    "\n",
    "model_name = ['Logit','Naive Bayes', 'Random Forest']#,'KNN' 'SVM',,'Dummy'\n",
    " \n",
    "# Plot ROC curve for all my models\n",
    "fig, ax = plt.subplots(figsize=(20,18))\n",
    "for i, model in enumerate(model_list):\n",
    "    y_pred = list(model.predict_proba(X_val_under)[:,1])\n",
    "    fpr, tpr, threshold = metrics.roc_curve(y_val_under, y_pred)\n",
    "    roc_auc = metrics.auc(fpr, tpr)\n",
    "    plt.plot(fpr, tpr, label = (model_name[i] + ' AUC = %0.4f' % roc_auc),linewidth=2.0)\n",
    "ax.grid(False)\n",
    "ax.tick_params(length=6, width=2,labelsize = 30,\n",
    "               grid_color='r', grid_alpha=0.5)\n",
    "# plt.legend(loc = 'lower right',prop={'size': 25})\n",
    "leg = plt.legend(loc = 'lower right',prop={'size': 25})\n",
    "leg.get_frame().set_edgecolor('b')\n",
    "plt.title('Receiver Operating Characteristic (ROC)', FontSize=40)\n",
    "plt.plot([0, 1], [0, 1], 'r--')\n",
    "plt.xlim([-.02, 1.02])\n",
    "plt.ylim([-.02, 1.02])\n",
    "plt.ylabel('True Positive Rate',FontSize=30)\n",
    "plt.xlabel('False Positive Rate',FontSize=30)\n",
    "plt.show()"
   ]
  },
  {
   "cell_type": "code",
   "execution_count": 85,
   "metadata": {
    "scrolled": false
   },
   "outputs": [
    {
     "data": {
      "image/png": "[encoded data removed]",
      "text/plain": [
       "<Figure size 1440x1296 with 1 Axes>"
      ]
     },
     "metadata": {},
     "output_type": "display_data"
    }
   ],
   "source": [
    "#Out of sample\n",
    "plt.rcParams.update({'font.size': 20})\n",
    "model_list = [logistic_grid.best_estimator_, \n",
    "#               svm_grid.best_estimator_, \n",
    "              gnb_best,\n",
    "#               rf_random.best_estimator_,\n",
    "#               knn_grid.best_estimator_,\n",
    "              CV_rfc.best_estimator_,\n",
    "             dc]\n",
    "\n",
    "model_name = ['Logit','Naive Bayes', 'Random Forest','Dummy'] #,'KNN' ,'SVM',\n",
    " \n",
    "# Plot ROC curve for all my models\n",
    "fig, ax = plt.subplots(figsize=(20,18))\n",
    "for i, model in enumerate(model_list):\n",
    "    y_pred = list(model.predict_proba(X_test)[:,1])\n",
    "    fpr, tpr, threshold = metrics.roc_curve(y_test, y_pred)\n",
    "    roc_auc = metrics.auc(fpr, tpr)\n",
    "    plt.plot(fpr, tpr, label = (model_name[i] + ' AUC = %0.4f' % roc_auc),linewidth=2.0)\n",
    "\n",
    "plt.legend(loc = 'lower right')\n",
    "plt.title('Receiver Operating Characteristic (ROC)', FontSize=40)\n",
    "plt.plot([0, 1], [0, 1], 'r--')\n",
    "plt.xlim([-.02, 1.02])\n",
    "plt.ylim([-.02, 1.02])\n",
    "plt.ylabel('True Positive Rate', FontSize=30)\n",
    "plt.xlabel('False Positive Rate', FontSize=30)\n",
    "plt.show()"
   ]
  },
  {
   "cell_type": "code",
   "execution_count": 42,
   "metadata": {},
   "outputs": [
    {
     "name": "stdout",
     "output_type": "stream",
     "text": [
      "ChangeORIG has a score of 0.5634651219742364\n",
      "ChangeRCPT has a score of 0.24818511425059814\n",
      "FlaggedFraud has a score of 0.004670330559242463\n",
      "CASH_OUT has a score of 0.1379353176401341\n",
      "DEBIT has a score of 0.0006342241810225822\n",
      "PAYMENT has a score of 0.02793985252585852\n",
      "TRANSFER has a score of 0.017170038868907948\n"
     ]
    }
   ],
   "source": [
    "for item1,item2 in zip(X_test.columns,CV_rfc.best_estimator_.feature_importances_):\n",
    "    print(f'{item1} has a score of {item2}')"
   ]
  },
  {
   "cell_type": "code",
   "execution_count": 84,
   "metadata": {},
   "outputs": [
    {
     "name": "stderr",
     "output_type": "stream",
     "text": [
      "/Users/randy/anaconda3/lib/python3.7/site-packages/sklearn/ensemble/forest.py:246: FutureWarning: The default value of n_estimators will change from 10 in version 0.20 to 100 in 0.22.\n",
      "  \"10 in version 0.20 to 100 in 0.22.\", FutureWarning)\n"
     ]
    },
    {
     "data": {
      "image/png": "[encoded data removed]",
      "text/plain": [
       "<Figure size 576x396 with 2 Axes>"
      ]
     },
     "metadata": {},
     "output_type": "display_data"
    }
   ],
   "source": [
    "from yellowbrick.classifier import ClassificationReport\n",
    "\n",
    "# # Instantiate the classification model and visualizer\n",
    "rfc = RandomForestClassifier()\n",
    "visualizer = ClassificationReport(rfc, classes=['isFraud','notFraud'], support=True)\n",
    "\n",
    "visualizer.fit(X_train_under, y_train_under)  # Fit the visualizer and the model\n",
    "visualizer.score(X_train_under, y_train_under)  # Evaluate the model on the test data\n",
    "g = visualizer.poof()             # Draw/show/poof the data"
   ]
  },
  {
   "cell_type": "code",
   "execution_count": 127,
   "metadata": {},
   "outputs": [
    {
     "data": {
      "image/png": "[encoded data removed]",
      "text/plain": [
       "<Figure size 1440x1296 with 1 Axes>"
      ]
     },
     "metadata": {},
     "output_type": "display_data"
    }
   ],
   "source": [
    "fig, ax = plt.subplots(figsize=(20,18))\n",
    "# Legible labels\n",
    "\n",
    "\n",
    "new_labels = ['ChangeORIG','ChangeRCPT','FlaggedFraud','CASH_OUT','PAYMENT','TRANSFER'] #,'DEBIT'\n",
    "sns.barplot(CV_rfc.best_estimator_.feature_importances_,new_labels)\n",
    "\n",
    "# Labels and Tick manipulation\n",
    "ax.set_xlabel(\"Feature Importance\",fontname = '.SF Compact Display',fontsize=24,fontweight = 'bold',labelpad = 20)\n",
    "ax.set_ylabel(\"Feature\",fontname = '.SF Compact Display',\n",
    "              fontsize=24,fontweight = 'bold',rotation = 0,labelpad = 70)\n",
    "\n",
    "# Move yticks into bars\n",
    "ax.set_yticklabels(new_labels,color='white',horizontalalignment = 'left')\n",
    "ax.tick_params(axis='y', which='major', pad=-30)\n",
    "\n",
    "# Set ytick labels to be above the bars (Also forces grid above bars as well)\n",
    "ax.set_axisbelow(False) \n",
    "\n",
    "# Turn ticks into percentages\n",
    "vals = ax.get_xticks()\n",
    "ax.set_xticklabels(['{:,.1%}'.format(x) for x in vals])\n",
    "\n",
    "plt.title('Random Forest Classifier Feature Importance (Top 5)',pad = 20, fontweight = 'bold')\n",
    "plt.tight_layout()"
   ]
  },
  {
   "cell_type": "code",
   "execution_count": null,
   "metadata": {},
   "outputs": [],
   "source": []
  },
  {
   "cell_type": "code",
   "execution_count": 43,
   "metadata": {
    "scrolled": true
   },
   "outputs": [],
   "source": [
    "# !conda install -c conda-forge rfpimp -y"
   ]
  },
  {
   "cell_type": "code",
   "execution_count": 44,
   "metadata": {},
   "outputs": [],
   "source": [
    "# from rfpimp import *"
   ]
  },
  {
   "cell_type": "code",
   "execution_count": 45,
   "metadata": {
    "scrolled": true
   },
   "outputs": [],
   "source": [
    "# CV_rfc.fit(X_val, y_val)"
   ]
  },
  {
   "cell_type": "code",
   "execution_count": 46,
   "metadata": {},
   "outputs": [],
   "source": [
    "# importance = importances(CV_rfc, X_val, y_val)\n",
    "# # viz = plot_importances(importance)\n",
    "# viz.view()"
   ]
  },
  {
   "cell_type": "code",
   "execution_count": 101,
   "metadata": {},
   "outputs": [
    {
     "ename": "AttributeError",
     "evalue": "'numpy.ndarray' object has no attribute 'get'",
     "output_type": "error",
     "traceback": [
      "\u001b[0;31m---------------------------------------------------------------------------\u001b[0m",
      "\u001b[0;31mAttributeError\u001b[0m                            Traceback (most recent call last)",
      "\u001b[0;32m<ipython-input-101-f17ec936d13c>\u001b[0m in \u001b[0;36m<module>\u001b[0;34m\u001b[0m\n\u001b[1;32m      1\u001b[0m sns.catplot(y=\"deck\", hue=\"class\", #kind=\"count\",\n\u001b[0;32m----> 2\u001b[0;31m             data=CV_rfc.best_estimator_.feature_importances_);\n\u001b[0m",
      "\u001b[0;32m~/anaconda3/lib/python3.7/site-packages/seaborn/categorical.py\u001b[0m in \u001b[0;36mcatplot\u001b[0;34m(x, y, hue, data, row, col, col_wrap, estimator, ci, n_boot, units, order, hue_order, row_order, col_order, kind, height, aspect, orient, color, palette, legend, legend_out, sharex, sharey, margin_titles, facet_kws, **kwargs)\u001b[0m\n\u001b[1;32m   3714\u001b[0m     \u001b[0;31m# facets to ensure representation of all data in the final plot\u001b[0m\u001b[0;34m\u001b[0m\u001b[0;34m\u001b[0m\u001b[0;34m\u001b[0m\u001b[0m\n\u001b[1;32m   3715\u001b[0m     \u001b[0mp\u001b[0m \u001b[0;34m=\u001b[0m \u001b[0m_CategoricalPlotter\u001b[0m\u001b[0;34m(\u001b[0m\u001b[0;34m)\u001b[0m\u001b[0;34m\u001b[0m\u001b[0;34m\u001b[0m\u001b[0m\n\u001b[0;32m-> 3716\u001b[0;31m     \u001b[0mp\u001b[0m\u001b[0;34m.\u001b[0m\u001b[0mestablish_variables\u001b[0m\u001b[0;34m(\u001b[0m\u001b[0mx_\u001b[0m\u001b[0;34m,\u001b[0m \u001b[0my_\u001b[0m\u001b[0;34m,\u001b[0m \u001b[0mhue\u001b[0m\u001b[0;34m,\u001b[0m \u001b[0mdata\u001b[0m\u001b[0;34m,\u001b[0m \u001b[0morient\u001b[0m\u001b[0;34m,\u001b[0m \u001b[0morder\u001b[0m\u001b[0;34m,\u001b[0m \u001b[0mhue_order\u001b[0m\u001b[0;34m)\u001b[0m\u001b[0;34m\u001b[0m\u001b[0;34m\u001b[0m\u001b[0m\n\u001b[0m\u001b[1;32m   3717\u001b[0m     \u001b[0morder\u001b[0m \u001b[0;34m=\u001b[0m \u001b[0mp\u001b[0m\u001b[0;34m.\u001b[0m\u001b[0mgroup_names\u001b[0m\u001b[0;34m\u001b[0m\u001b[0;34m\u001b[0m\u001b[0m\n\u001b[1;32m   3718\u001b[0m     \u001b[0mhue_order\u001b[0m \u001b[0;34m=\u001b[0m \u001b[0mp\u001b[0m\u001b[0;34m.\u001b[0m\u001b[0mhue_names\u001b[0m\u001b[0;34m\u001b[0m\u001b[0;34m\u001b[0m\u001b[0m\n",
      "\u001b[0;32m~/anaconda3/lib/python3.7/site-packages/seaborn/categorical.py\u001b[0m in \u001b[0;36mestablish_variables\u001b[0;34m(self, x, y, hue, data, orient, order, hue_order, units)\u001b[0m\n\u001b[1;32m    144\u001b[0m             \u001b[0;31m# See if we need to get variables from `data`\u001b[0m\u001b[0;34m\u001b[0m\u001b[0;34m\u001b[0m\u001b[0;34m\u001b[0m\u001b[0m\n\u001b[1;32m    145\u001b[0m             \u001b[0;32mif\u001b[0m \u001b[0mdata\u001b[0m \u001b[0;32mis\u001b[0m \u001b[0;32mnot\u001b[0m \u001b[0;32mNone\u001b[0m\u001b[0;34m:\u001b[0m\u001b[0;34m\u001b[0m\u001b[0;34m\u001b[0m\u001b[0m\n\u001b[0;32m--> 146\u001b[0;31m                 \u001b[0mx\u001b[0m \u001b[0;34m=\u001b[0m \u001b[0mdata\u001b[0m\u001b[0;34m.\u001b[0m\u001b[0mget\u001b[0m\u001b[0;34m(\u001b[0m\u001b[0mx\u001b[0m\u001b[0;34m,\u001b[0m \u001b[0mx\u001b[0m\u001b[0;34m)\u001b[0m\u001b[0;34m\u001b[0m\u001b[0;34m\u001b[0m\u001b[0m\n\u001b[0m\u001b[1;32m    147\u001b[0m                 \u001b[0my\u001b[0m \u001b[0;34m=\u001b[0m \u001b[0mdata\u001b[0m\u001b[0;34m.\u001b[0m\u001b[0mget\u001b[0m\u001b[0;34m(\u001b[0m\u001b[0my\u001b[0m\u001b[0;34m,\u001b[0m \u001b[0my\u001b[0m\u001b[0;34m)\u001b[0m\u001b[0;34m\u001b[0m\u001b[0;34m\u001b[0m\u001b[0m\n\u001b[1;32m    148\u001b[0m                 \u001b[0mhue\u001b[0m \u001b[0;34m=\u001b[0m \u001b[0mdata\u001b[0m\u001b[0;34m.\u001b[0m\u001b[0mget\u001b[0m\u001b[0;34m(\u001b[0m\u001b[0mhue\u001b[0m\u001b[0;34m,\u001b[0m \u001b[0mhue\u001b[0m\u001b[0;34m)\u001b[0m\u001b[0;34m\u001b[0m\u001b[0;34m\u001b[0m\u001b[0m\n",
      "\u001b[0;31mAttributeError\u001b[0m: 'numpy.ndarray' object has no attribute 'get'"
     ]
    }
   ],
   "source": [
    "sns.catplot(y=\"deck\", hue=\"class\", #kind=\"count\",\n",
    "            data=CV_rfc.best_estimator_.feature_importances_);"
   ]
  },
  {
   "cell_type": "code",
   "execution_count": 104,
   "metadata": {},
   "outputs": [
    {
     "data": {
      "text/plain": [
       "<matplotlib.axes._subplots.AxesSubplot at 0x1a2d313fd0>"
      ]
     },
     "execution_count": 104,
     "metadata": {},
     "output_type": "execute_result"
    },
    {
     "data": {
      "image/png": "[encoded data removed]",
      "text/plain": [
       "<Figure size 576x396 with 1 Axes>"
      ]
     },
     "metadata": {},
     "output_type": "display_data"
    }
   ],
   "source": [
    "feat_importances = pd.Series(CV_rfc.best_estimator_.feature_importances_, index=X_val.columns)\n",
    "feat_importances.nlargest(4).plot(kind='barh')"
   ]
  },
  {
   "cell_type": "markdown",
   "metadata": {},
   "source": [
    "# Finding the F1 score and Threshold"
   ]
  },
  {
   "cell_type": "code",
   "execution_count": 48,
   "metadata": {},
   "outputs": [
    {
     "name": "stdout",
     "output_type": "stream",
     "text": [
      "rfc\n",
      "lm\n",
      "gnb\n",
      "mlp\n",
      "gbc\n"
     ]
    }
   ],
   "source": [
    "from sklearn.neural_network import MLPClassifier\n",
    "from sklearn.ensemble import RandomForestClassifier\n",
    "from sklearn.ensemble import GradientBoostingClassifier\n",
    "\n",
    "model_dict = {'rfc': RandomForestClassifier(n_estimators = 400, n_jobs = -1,max_features = 'sqrt'),\n",
    "             'lm' : LogisticRegression(max_iter =10000,solver='sag',verbose = 10,n_jobs = -1),\n",
    "             'gnb' : GaussianNB(),\n",
    "             'mlp' : MLPClassifier(verbose = 10),\n",
    "             'gbc' : GradientBoostingClassifier(n_estimators =  1000, max_leaf_nodes = 4,\\\n",
    "                                                max_depth = None ,min_samples_split = 5, verbose = 10,\n",
    "                                               learning_rate = .1)}\n",
    "\n",
    "for item in model_dict:\n",
    "    print(item)"
   ]
  },
  {
   "cell_type": "code",
   "execution_count": 49,
   "metadata": {},
   "outputs": [],
   "source": [
    "def make_model(mdl_key,X_train,y_train,X_test):\n",
    "    \"\"\"Uses key from model_dict and trains it on X_train, y_train, then returns \\\n",
    "    the model object used and predicted values on X_test\"\"\"\n",
    "    assert (mdl_key in model_dict.keys()),\"Model tag not in model_dict keys!\"\n",
    "    mdl = model_dict[mdl_key]\n",
    "    mdl.fit(X_train,y_train)\n",
    "    predicted = mdl.predict(X_test)\n",
    "    return mdl, predicted"
   ]
  },
  {
   "cell_type": "code",
   "execution_count": 50,
   "metadata": {},
   "outputs": [],
   "source": [
    "rfc, gnb_predicted = make_model('rfc',X_train_under,y_train_under,X_val_under) "
   ]
  },
  {
   "cell_type": "code",
   "execution_count": 51,
   "metadata": {},
   "outputs": [
    {
     "name": "stderr",
     "output_type": "stream",
     "text": [
      "[Parallel(n_jobs=-1)]: Using backend ThreadingBackend with 12 concurrent workers.\n"
     ]
    },
    {
     "name": "stdout",
     "output_type": "stream",
     "text": [
      "convergence after 626 epochs took 1 seconds\n"
     ]
    },
    {
     "name": "stderr",
     "output_type": "stream",
     "text": [
      "[Parallel(n_jobs=-1)]: Done   1 tasks      | elapsed:    0.6s\n",
      "[Parallel(n_jobs=-1)]: Done   1 out of   1 | elapsed:    0.6s finished\n"
     ]
    }
   ],
   "source": [
    "lm, predicted = make_model('lm',X_train_under,y_train_under,X_val_under)"
   ]
  },
  {
   "cell_type": "code",
   "execution_count": 52,
   "metadata": {},
   "outputs": [],
   "source": [
    "gnb, gnb_predicted = make_model('gnb',X_train_under,y_train_under,X_val_under)"
   ]
  },
  {
   "cell_type": "code",
   "execution_count": 53,
   "metadata": {
    "scrolled": true
   },
   "outputs": [
    {
     "name": "stdout",
     "output_type": "stream",
     "text": [
      "Iteration 1, loss = 12.96970505\n",
      "Iteration 2, loss = 5.56365622\n",
      "Iteration 3, loss = 1.54498339\n",
      "Iteration 4, loss = 0.96235991\n",
      "Iteration 5, loss = 1.06418064\n",
      "Iteration 6, loss = 1.09089398\n",
      "Iteration 7, loss = 1.09505858\n",
      "Iteration 8, loss = 1.06371963\n",
      "Iteration 9, loss = 1.36606270\n",
      "Iteration 10, loss = 1.37453926\n",
      "Iteration 11, loss = 1.36639462\n",
      "Iteration 12, loss = 1.73437456\n",
      "Iteration 13, loss = 1.46084784\n",
      "Iteration 14, loss = 1.11877895\n",
      "Iteration 15, loss = 1.03392982\n",
      "Training loss did not improve more than tol=0.000100 for 10 consecutive epochs. Stopping.\n"
     ]
    }
   ],
   "source": [
    "mlp, mlp_predicted = make_model('mlp',X_train_under,y_train_under,X_val_under)"
   ]
  },
  {
   "cell_type": "code",
   "execution_count": 54,
   "metadata": {},
   "outputs": [
    {
     "name": "stdout",
     "output_type": "stream",
     "text": [
      "      Iter       Train Loss   Remaining Time \n",
      "         1           1.2484            3.20s\n",
      "         2           1.1346            2.72s\n",
      "         3           1.0403            2.38s\n",
      "         4           0.9592            2.19s\n",
      "         5           0.8880            2.07s\n",
      "         6           0.8195            2.05s\n",
      "         7           0.7683            1.99s\n",
      "         8           0.7162            1.95s\n",
      "         9           0.6779            2.01s\n",
      "        10           0.6441            2.01s\n",
      "        11           0.6076            1.97s\n",
      "        12           0.5724            1.93s\n",
      "        13           0.5418            1.93s\n",
      "        14           0.5165            1.92s\n",
      "        15           0.4985            1.92s\n",
      "        16           0.4764            1.91s\n",
      "        17           0.4598            1.90s\n",
      "        18           0.4423            1.92s\n",
      "        19           0.4314            1.91s\n",
      "        20           0.4185            1.89s\n",
      "        21           0.4045            1.90s\n",
      "        22           0.3933            1.90s\n",
      "        23           0.3833            1.89s\n",
      "        24           0.3732            1.88s\n",
      "        25           0.3652            1.87s\n",
      "        26           0.3592            1.87s\n",
      "        27           0.3520            1.85s\n",
      "        28           0.3453            1.84s\n",
      "        29           0.3396            1.84s\n",
      "        30           0.3340            1.84s\n",
      "        31           0.3292            1.84s\n",
      "        32           0.3245            1.85s\n",
      "        33           0.3199            1.84s\n",
      "        34           0.3164            1.83s\n",
      "        35           0.3121            1.82s\n",
      "        36           0.3087            1.82s\n",
      "        37           0.3058            1.83s\n",
      "        38           0.3024            1.83s\n",
      "        39           0.2982            1.83s\n",
      "        40           0.2958            1.84s\n",
      "        41           0.2923            1.83s\n",
      "        42           0.2895            1.82s\n",
      "        43           0.2868            1.81s\n",
      "        44           0.2837            1.81s\n",
      "        45           0.2815            1.81s\n",
      "        46           0.2790            1.81s\n",
      "        47           0.2773            1.81s\n",
      "        48           0.2751            1.81s\n",
      "        49           0.2727            1.81s\n",
      "        50           0.2714            1.81s\n",
      "        51           0.2691            1.80s\n",
      "        52           0.2671            1.81s\n",
      "        53           0.2651            1.81s\n",
      "        54           0.2633            1.81s\n",
      "        55           0.2606            1.80s\n",
      "        56           0.2589            1.79s\n",
      "        57           0.2578            1.79s\n",
      "        58           0.2559            1.79s\n",
      "        59           0.2553            1.79s\n",
      "        60           0.2540            1.78s\n",
      "        61           0.2525            1.77s\n",
      "        62           0.2514            1.76s\n",
      "        63           0.2501            1.76s\n",
      "        64           0.2485            1.76s\n",
      "        65           0.2479            1.76s\n",
      "        66           0.2466            1.75s\n",
      "        67           0.2455            1.74s\n",
      "        68           0.2444            1.74s\n",
      "        69           0.2430            1.74s\n",
      "        70           0.2426            1.73s\n",
      "        71           0.2410            1.73s\n",
      "        72           0.2404            1.73s\n",
      "        73           0.2395            1.72s\n",
      "        74           0.2385            1.72s\n",
      "        75           0.2374            1.72s\n",
      "        76           0.2368            1.72s\n",
      "        77           0.2364            1.72s\n",
      "        78           0.2357            1.72s\n",
      "        79           0.2348            1.71s\n",
      "        80           0.2341            1.70s\n",
      "        81           0.2337            1.69s\n",
      "        82           0.2334            1.69s\n",
      "        83           0.2325            1.69s\n",
      "        84           0.2317            1.69s\n",
      "        85           0.2310            1.68s\n",
      "        86           0.2300            1.68s\n",
      "        87           0.2297            1.68s\n",
      "        88           0.2292            1.69s\n",
      "        89           0.2283            1.68s\n",
      "        90           0.2278            1.68s\n",
      "        91           0.2273            1.68s\n",
      "        92           0.2265            1.68s\n",
      "        93           0.2262            1.68s\n",
      "        94           0.2258            1.67s\n",
      "        95           0.2253            1.67s\n",
      "        96           0.2251            1.66s\n",
      "        97           0.2244            1.66s\n",
      "        98           0.2241            1.66s\n",
      "        99           0.2238            1.66s\n",
      "       100           0.2233            1.67s\n",
      "       101           0.2226            1.67s\n",
      "       102           0.2216            1.66s\n",
      "       103           0.2211            1.66s\n",
      "       104           0.2209            1.66s\n",
      "       105           0.2204            1.65s\n",
      "       106           0.2201            1.65s\n",
      "       107           0.2194            1.65s\n",
      "       108           0.2190            1.65s\n",
      "       109           0.2188            1.64s\n",
      "       110           0.2183            1.64s\n",
      "       111           0.2168            1.64s\n",
      "       112           0.2162            1.64s\n",
      "       113           0.2160            1.64s\n",
      "       114           0.2156            1.64s\n",
      "       115           0.2153            1.64s\n",
      "       116           0.2146            1.63s\n",
      "       117           0.2143            1.63s\n",
      "       118           0.2140            1.63s\n",
      "       119           0.2137            1.63s\n",
      "       120           0.2133            1.63s\n",
      "       121           0.2131            1.63s\n",
      "       122           0.2127            1.63s\n",
      "       123           0.2124            1.63s\n",
      "       124           0.2119            1.63s\n",
      "       125           0.2109            1.63s\n",
      "       126           0.2106            1.63s\n",
      "       127           0.2103            1.63s\n",
      "       128           0.2100            1.63s\n",
      "       129           0.2098            1.63s\n",
      "       130           0.2094            1.63s\n",
      "       131           0.2092            1.62s\n",
      "       132           0.2091            1.62s\n",
      "       133           0.2080            1.62s\n",
      "       134           0.2076            1.62s\n",
      "       135           0.2073            1.62s\n",
      "       136           0.2069            1.62s\n",
      "       137           0.2065            1.61s\n",
      "       138           0.2058            1.61s\n",
      "       139           0.2055            1.61s\n",
      "       140           0.2043            1.61s\n",
      "       141           0.2040            1.61s\n",
      "       142           0.2038            1.61s\n",
      "       143           0.2036            1.61s\n",
      "       144           0.2031            1.60s\n",
      "       145           0.2024            1.60s\n",
      "       146           0.2022            1.60s\n",
      "       147           0.2019            1.60s\n",
      "       148           0.2018            1.60s\n",
      "       149           0.2016            1.60s\n",
      "       150           0.2013            1.60s\n",
      "       151           0.2012            1.59s\n",
      "       152           0.2002            1.59s\n",
      "       153           0.2000            1.59s\n",
      "       154           0.1994            1.59s\n",
      "       155           0.1993            1.59s\n",
      "       156           0.1990            1.59s\n",
      "       157           0.1987            1.59s\n",
      "       158           0.1986            1.59s\n",
      "       159           0.1982            1.59s\n",
      "       160           0.1979            1.58s\n",
      "       161           0.1971            1.58s\n",
      "       162           0.1969            1.58s\n",
      "       163           0.1966            1.58s\n",
      "       164           0.1965            1.58s\n",
      "       165           0.1964            1.58s\n",
      "       166           0.1962            1.57s\n",
      "       167           0.1958            1.57s\n",
      "       168           0.1957            1.57s\n",
      "       169           0.1955            1.57s\n",
      "       170           0.1946            1.57s\n",
      "       171           0.1942            1.57s\n",
      "       172           0.1938            1.57s\n",
      "       173           0.1936            1.56s\n",
      "       174           0.1935            1.56s\n",
      "       175           0.1930            1.56s\n",
      "       176           0.1926            1.56s\n",
      "       177           0.1923            1.56s\n",
      "       178           0.1919            1.55s\n",
      "       179           0.1917            1.55s\n",
      "       180           0.1916            1.55s\n",
      "       181           0.1912            1.55s\n",
      "       182           0.1911            1.55s\n",
      "       183           0.1909            1.55s\n",
      "       184           0.1906            1.54s\n",
      "       185           0.1903            1.54s\n",
      "       186           0.1894            1.54s\n",
      "       187           0.1892            1.54s\n",
      "       188           0.1890            1.54s\n",
      "       189           0.1887            1.54s\n",
      "       190           0.1885            1.53s\n"
     ]
    },
    {
     "name": "stdout",
     "output_type": "stream",
     "text": [
      "       191           0.1883            1.53s\n",
      "       192           0.1881            1.53s\n",
      "       193           0.1879            1.53s\n",
      "       194           0.1875            1.53s\n",
      "       195           0.1872            1.53s\n",
      "       196           0.1870            1.53s\n",
      "       197           0.1868            1.52s\n",
      "       198           0.1866            1.52s\n",
      "       199           0.1864            1.52s\n",
      "       200           0.1859            1.52s\n",
      "       201           0.1857            1.52s\n",
      "       202           0.1855            1.52s\n",
      "       203           0.1851            1.51s\n",
      "       204           0.1849            1.51s\n",
      "       205           0.1848            1.51s\n",
      "       206           0.1846            1.51s\n",
      "       207           0.1844            1.51s\n",
      "       208           0.1842            1.50s\n",
      "       209           0.1840            1.50s\n",
      "       210           0.1838            1.50s\n",
      "       211           0.1836            1.50s\n",
      "       212           0.1834            1.50s\n",
      "       213           0.1832            1.50s\n",
      "       214           0.1829            1.50s\n",
      "       215           0.1827            1.50s\n",
      "       216           0.1823            1.49s\n",
      "       217           0.1819            1.49s\n",
      "       218           0.1817            1.49s\n",
      "       219           0.1816            1.49s\n",
      "       220           0.1813            1.49s\n",
      "       221           0.1812            1.49s\n",
      "       222           0.1811            1.48s\n",
      "       223           0.1807            1.48s\n",
      "       224           0.1807            1.48s\n",
      "       225           0.1803            1.48s\n",
      "       226           0.1795            1.48s\n",
      "       227           0.1792            1.48s\n",
      "       228           0.1787            1.48s\n",
      "       229           0.1785            1.48s\n",
      "       230           0.1782            1.47s\n",
      "       231           0.1781            1.47s\n",
      "       232           0.1778            1.47s\n",
      "       233           0.1777            1.47s\n",
      "       234           0.1774            1.47s\n",
      "       235           0.1773            1.47s\n",
      "       236           0.1766            1.47s\n",
      "       237           0.1764            1.46s\n",
      "       238           0.1762            1.46s\n",
      "       239           0.1760            1.46s\n",
      "       240           0.1759            1.46s\n",
      "       241           0.1757            1.46s\n",
      "       242           0.1754            1.46s\n",
      "       243           0.1754            1.46s\n",
      "       244           0.1751            1.45s\n",
      "       245           0.1748            1.45s\n",
      "       246           0.1746            1.45s\n",
      "       247           0.1744            1.45s\n",
      "       248           0.1742            1.45s\n",
      "       249           0.1741            1.45s\n",
      "       250           0.1739            1.44s\n",
      "       251           0.1737            1.44s\n",
      "       252           0.1736            1.44s\n",
      "       253           0.1734            1.44s\n",
      "       254           0.1729            1.44s\n",
      "       255           0.1723            1.44s\n",
      "       256           0.1720            1.44s\n",
      "       257           0.1717            1.43s\n",
      "       258           0.1715            1.43s\n",
      "       259           0.1713            1.43s\n",
      "       260           0.1710            1.43s\n",
      "       261           0.1709            1.43s\n",
      "       262           0.1707            1.42s\n",
      "       263           0.1706            1.42s\n",
      "       264           0.1705            1.42s\n",
      "       265           0.1703            1.42s\n",
      "       266           0.1702            1.42s\n",
      "       267           0.1701            1.41s\n",
      "       268           0.1700            1.41s\n",
      "       269           0.1699            1.41s\n",
      "       270           0.1697            1.41s\n",
      "       271           0.1696            1.41s\n",
      "       272           0.1694            1.40s\n",
      "       273           0.1693            1.40s\n",
      "       274           0.1691            1.40s\n",
      "       275           0.1689            1.40s\n",
      "       276           0.1688            1.40s\n",
      "       277           0.1685            1.39s\n",
      "       278           0.1683            1.39s\n",
      "       279           0.1676            1.39s\n",
      "       280           0.1669            1.39s\n",
      "       281           0.1668            1.39s\n",
      "       282           0.1666            1.39s\n",
      "       283           0.1664            1.38s\n",
      "       284           0.1662            1.38s\n",
      "       285           0.1661            1.38s\n",
      "       286           0.1660            1.38s\n",
      "       287           0.1659            1.37s\n",
      "       288           0.1656            1.37s\n",
      "       289           0.1655            1.37s\n",
      "       290           0.1655            1.37s\n",
      "       291           0.1653            1.37s\n",
      "       292           0.1652            1.37s\n",
      "       293           0.1650            1.36s\n",
      "       294           0.1649            1.36s\n",
      "       295           0.1646            1.36s\n",
      "       296           0.1645            1.36s\n",
      "       297           0.1644            1.36s\n",
      "       298           0.1643            1.35s\n",
      "       299           0.1642            1.35s\n",
      "       300           0.1640            1.35s\n",
      "       301           0.1639            1.35s\n",
      "       302           0.1637            1.35s\n",
      "       303           0.1635            1.34s\n",
      "       304           0.1634            1.34s\n",
      "       305           0.1632            1.34s\n",
      "       306           0.1631            1.34s\n",
      "       307           0.1617            1.34s\n",
      "       308           0.1615            1.33s\n",
      "       309           0.1614            1.33s\n",
      "       310           0.1612            1.33s\n",
      "       311           0.1611            1.33s\n",
      "       312           0.1609            1.33s\n",
      "       313           0.1606            1.32s\n",
      "       314           0.1605            1.32s\n",
      "       315           0.1602            1.32s\n",
      "       316           0.1597            1.32s\n",
      "       317           0.1596            1.32s\n",
      "       318           0.1589            1.32s\n",
      "       319           0.1588            1.31s\n",
      "       320           0.1586            1.31s\n",
      "       321           0.1585            1.31s\n",
      "       322           0.1583            1.31s\n",
      "       323           0.1576            1.31s\n",
      "       324           0.1574            1.30s\n",
      "       325           0.1573            1.30s\n",
      "       326           0.1571            1.30s\n",
      "       327           0.1570            1.30s\n",
      "       328           0.1569            1.30s\n",
      "       329           0.1568            1.29s\n",
      "       330           0.1565            1.29s\n",
      "       331           0.1564            1.29s\n",
      "       332           0.1562            1.29s\n",
      "       333           0.1561            1.29s\n",
      "       334           0.1560            1.29s\n",
      "       335           0.1558            1.28s\n",
      "       336           0.1557            1.28s\n",
      "       337           0.1554            1.28s\n",
      "       338           0.1551            1.28s\n",
      "       339           0.1551            1.28s\n",
      "       340           0.1549            1.28s\n",
      "       341           0.1547            1.27s\n",
      "       342           0.1546            1.27s\n",
      "       343           0.1545            1.27s\n",
      "       344           0.1544            1.27s\n",
      "       345           0.1543            1.27s\n",
      "       346           0.1541            1.27s\n",
      "       347           0.1539            1.26s\n",
      "       348           0.1537            1.26s\n",
      "       349           0.1536            1.26s\n",
      "       350           0.1534            1.26s\n",
      "       351           0.1532            1.26s\n",
      "       352           0.1531            1.25s\n",
      "       353           0.1528            1.25s\n",
      "       354           0.1520            1.25s\n",
      "       355           0.1518            1.25s\n",
      "       356           0.1517            1.25s\n",
      "       357           0.1515            1.24s\n",
      "       358           0.1513            1.24s\n",
      "       359           0.1507            1.24s\n",
      "       360           0.1506            1.24s\n",
      "       361           0.1499            1.24s\n",
      "       362           0.1496            1.24s\n",
      "       363           0.1495            1.23s\n",
      "       364           0.1493            1.23s\n",
      "       365           0.1492            1.23s\n",
      "       366           0.1491            1.23s\n",
      "       367           0.1490            1.23s\n",
      "       368           0.1488            1.22s\n",
      "       369           0.1487            1.22s\n",
      "       370           0.1486            1.22s\n",
      "       371           0.1485            1.22s\n",
      "       372           0.1485            1.22s\n",
      "       373           0.1484            1.21s\n",
      "       374           0.1483            1.21s\n",
      "       375           0.1482            1.21s\n",
      "       376           0.1481            1.21s\n",
      "       377           0.1479            1.21s\n",
      "       378           0.1478            1.20s\n",
      "       379           0.1477            1.20s\n",
      "       380           0.1476            1.20s\n",
      "       381           0.1474            1.20s\n",
      "       382           0.1472            1.20s\n",
      "       383           0.1452            1.19s\n",
      "       384           0.1450            1.19s\n",
      "       385           0.1449            1.19s\n",
      "       386           0.1448            1.19s\n",
      "       387           0.1447            1.19s\n",
      "       388           0.1445            1.18s\n",
      "       389           0.1445            1.18s\n",
      "       390           0.1443            1.18s\n",
      "       391           0.1442            1.18s\n",
      "       392           0.1441            1.18s\n",
      "       393           0.1439            1.17s\n",
      "       394           0.1437            1.17s\n"
     ]
    },
    {
     "name": "stdout",
     "output_type": "stream",
     "text": [
      "       395           0.1436            1.17s\n",
      "       396           0.1432            1.17s\n",
      "       397           0.1431            1.17s\n",
      "       398           0.1429            1.17s\n",
      "       399           0.1427            1.16s\n",
      "       400           0.1426            1.16s\n",
      "       401           0.1425            1.16s\n",
      "       402           0.1424            1.16s\n",
      "       403           0.1423            1.16s\n",
      "       404           0.1422            1.15s\n",
      "       405           0.1421            1.15s\n",
      "       406           0.1421            1.15s\n",
      "       407           0.1419            1.15s\n",
      "       408           0.1418            1.15s\n",
      "       409           0.1415            1.14s\n",
      "       410           0.1414            1.14s\n",
      "       411           0.1410            1.14s\n",
      "       412           0.1409            1.14s\n",
      "       413           0.1407            1.14s\n",
      "       414           0.1406            1.13s\n",
      "       415           0.1405            1.13s\n",
      "       416           0.1403            1.13s\n",
      "       417           0.1399            1.13s\n",
      "       418           0.1398            1.13s\n",
      "       419           0.1397            1.12s\n",
      "       420           0.1395            1.12s\n",
      "       421           0.1394            1.12s\n",
      "       422           0.1393            1.12s\n",
      "       423           0.1392            1.12s\n",
      "       424           0.1390            1.11s\n",
      "       425           0.1389            1.11s\n",
      "       426           0.1388            1.11s\n",
      "       427           0.1386            1.11s\n",
      "       428           0.1385            1.11s\n",
      "       429           0.1384            1.11s\n",
      "       430           0.1383            1.10s\n",
      "       431           0.1383            1.10s\n",
      "       432           0.1382            1.10s\n",
      "       433           0.1372            1.10s\n",
      "       434           0.1371            1.10s\n",
      "       435           0.1371            1.09s\n",
      "       436           0.1368            1.09s\n",
      "       437           0.1368            1.09s\n",
      "       438           0.1367            1.09s\n",
      "       439           0.1366            1.09s\n",
      "       440           0.1364            1.08s\n",
      "       441           0.1363            1.08s\n",
      "       442           0.1362            1.08s\n",
      "       443           0.1361            1.08s\n",
      "       444           0.1360            1.08s\n",
      "       445           0.1359            1.07s\n",
      "       446           0.1358            1.07s\n",
      "       447           0.1357            1.07s\n",
      "       448           0.1356            1.07s\n",
      "       449           0.1355            1.07s\n",
      "       450           0.1354            1.06s\n",
      "       451           0.1351            1.06s\n",
      "       452           0.1350            1.06s\n",
      "       453           0.1349            1.06s\n",
      "       454           0.1348            1.06s\n",
      "       455           0.1348            1.05s\n",
      "       456           0.1347            1.05s\n",
      "       457           0.1346            1.05s\n",
      "       458           0.1344            1.05s\n",
      "       459           0.1327            1.05s\n",
      "       460           0.1326            1.05s\n",
      "       461           0.1325            1.04s\n",
      "       462           0.1324            1.04s\n",
      "       463           0.1323            1.04s\n",
      "       464           0.1322            1.04s\n",
      "       465           0.1321            1.03s\n",
      "       466           0.1320            1.03s\n",
      "       467           0.1319            1.03s\n",
      "       468           0.1317            1.03s\n",
      "       469           0.1313            1.03s\n",
      "       470           0.1312            1.02s\n",
      "       471           0.1311            1.02s\n",
      "       472           0.1310            1.02s\n",
      "       473           0.1309            1.02s\n",
      "       474           0.1308            1.02s\n",
      "       475           0.1303            1.01s\n",
      "       476           0.1302            1.01s\n",
      "       477           0.1300            1.01s\n",
      "       478           0.1299            1.01s\n",
      "       479           0.1298            1.01s\n",
      "       480           0.1298            1.00s\n",
      "       481           0.1296            1.00s\n",
      "       482           0.1277            1.00s\n",
      "       483           0.1275            1.00s\n",
      "       484           0.1274            1.00s\n",
      "       485           0.1273            0.99s\n",
      "       486           0.1272            0.99s\n",
      "       487           0.1270            0.99s\n",
      "       488           0.1269            0.99s\n",
      "       489           0.1268            0.99s\n",
      "       490           0.1265            0.98s\n",
      "       491           0.1263            0.98s\n",
      "       492           0.1263            0.98s\n",
      "       493           0.1261            0.98s\n",
      "       494           0.1259            0.98s\n",
      "       495           0.1258            0.97s\n",
      "       496           0.1257            0.97s\n",
      "       497           0.1256            0.97s\n",
      "       498           0.1255            0.97s\n",
      "       499           0.1254            0.97s\n",
      "       500           0.1253            0.96s\n",
      "       501           0.1252            0.96s\n",
      "       502           0.1250            0.96s\n",
      "       503           0.1247            0.96s\n",
      "       504           0.1246            0.96s\n",
      "       505           0.1245            0.95s\n",
      "       506           0.1244            0.95s\n",
      "       507           0.1243            0.95s\n",
      "       508           0.1242            0.95s\n",
      "       509           0.1241            0.95s\n",
      "       510           0.1241            0.94s\n",
      "       511           0.1240            0.94s\n",
      "       512           0.1238            0.94s\n",
      "       513           0.1238            0.94s\n",
      "       514           0.1236            0.94s\n",
      "       515           0.1235            0.93s\n",
      "       516           0.1234            0.93s\n",
      "       517           0.1231            0.93s\n",
      "       518           0.1230            0.93s\n",
      "       519           0.1229            0.93s\n",
      "       520           0.1229            0.92s\n",
      "       521           0.1209            0.92s\n",
      "       522           0.1203            0.92s\n",
      "       523           0.1202            0.92s\n",
      "       524           0.1201            0.92s\n",
      "       525           0.1201            0.92s\n",
      "       526           0.1200            0.91s\n",
      "       527           0.1199            0.91s\n",
      "       528           0.1197            0.91s\n",
      "       529           0.1195            0.91s\n",
      "       530           0.1176            0.91s\n",
      "       531           0.1175            0.90s\n",
      "       532           0.1173            0.90s\n",
      "       533           0.1172            0.90s\n",
      "       534           0.1171            0.90s\n",
      "       535           0.1169            0.90s\n",
      "       536           0.1168            0.89s\n",
      "       537           0.1167            0.89s\n",
      "       538           0.1166            0.89s\n",
      "       539           0.1163            0.89s\n",
      "       540           0.1161            0.89s\n",
      "       541           0.1160            0.89s\n",
      "       542           0.1159            0.88s\n",
      "       543           0.1157            0.88s\n",
      "       544           0.1157            0.88s\n",
      "       545           0.1156            0.88s\n",
      "       546           0.1155            0.88s\n",
      "       547           0.1154            0.87s\n",
      "       548           0.1153            0.87s\n",
      "       549           0.1152            0.87s\n",
      "       550           0.1148            0.87s\n",
      "       551           0.1145            0.87s\n",
      "       552           0.1145            0.87s\n",
      "       553           0.1143            0.86s\n",
      "       554           0.1141            0.86s\n",
      "       555           0.1140            0.86s\n",
      "       556           0.1139            0.86s\n",
      "       557           0.1138            0.86s\n",
      "       558           0.1138            0.85s\n",
      "       559           0.1137            0.85s\n",
      "       560           0.1137            0.85s\n",
      "       561           0.1135            0.85s\n",
      "       562           0.1134            0.85s\n",
      "       563           0.1133            0.84s\n",
      "       564           0.1132            0.84s\n",
      "       565           0.1131            0.84s\n",
      "       566           0.1129            0.84s\n",
      "       567           0.1128            0.84s\n",
      "       568           0.1127            0.83s\n",
      "       569           0.1123            0.83s\n",
      "       570           0.1122            0.83s\n",
      "       571           0.1121            0.83s\n",
      "       572           0.1118            0.83s\n",
      "       573           0.1117            0.83s\n",
      "       574           0.1117            0.82s\n",
      "       575           0.1115            0.82s\n",
      "       576           0.1114            0.82s\n",
      "       577           0.1113            0.82s\n",
      "       578           0.1111            0.82s\n",
      "       579           0.1110            0.81s\n",
      "       580           0.1109            0.81s\n",
      "       581           0.1107            0.81s\n",
      "       582           0.1107            0.81s\n",
      "       583           0.1106            0.81s\n",
      "       584           0.1105            0.80s\n",
      "       585           0.1103            0.80s\n",
      "       586           0.1103            0.80s\n",
      "       587           0.1102            0.80s\n",
      "       588           0.1100            0.80s\n",
      "       589           0.1098            0.79s\n",
      "       590           0.1098            0.79s\n",
      "       591           0.1096            0.79s\n",
      "       592           0.1096            0.79s\n",
      "       593           0.1094            0.79s\n",
      "       594           0.1093            0.78s\n",
      "       595           0.1088            0.78s\n",
      "       596           0.1087            0.78s\n",
      "       597           0.1086            0.78s\n",
      "       598           0.1086            0.77s\n",
      "       599           0.1085            0.77s\n",
      "       600           0.1084            0.77s\n",
      "       601           0.1083            0.77s\n",
      "       602           0.1082            0.77s\n",
      "       603           0.1081            0.76s\n",
      "       604           0.1080            0.76s\n",
      "       605           0.1080            0.76s\n",
      "       606           0.1079            0.76s\n"
     ]
    },
    {
     "name": "stdout",
     "output_type": "stream",
     "text": [
      "       607           0.1078            0.76s\n",
      "       608           0.1078            0.75s\n",
      "       609           0.1076            0.75s\n",
      "       610           0.1064            0.75s\n",
      "       611           0.1063            0.75s\n",
      "       612           0.1063            0.74s\n",
      "       613           0.1061            0.74s\n",
      "       614           0.1060            0.74s\n",
      "       615           0.1059            0.74s\n",
      "       616           0.1058            0.74s\n",
      "       617           0.1057            0.73s\n",
      "       618           0.1056            0.73s\n",
      "       619           0.1056            0.73s\n",
      "       620           0.1054            0.73s\n",
      "       621           0.1052            0.72s\n",
      "       622           0.1052            0.72s\n",
      "       623           0.1051            0.72s\n",
      "       624           0.1050            0.72s\n",
      "       625           0.1048            0.72s\n",
      "       626           0.1048            0.71s\n",
      "       627           0.1047            0.71s\n",
      "       628           0.1047            0.71s\n",
      "       629           0.1046            0.71s\n",
      "       630           0.1045            0.71s\n",
      "       631           0.1044            0.70s\n",
      "       632           0.1043            0.70s\n",
      "       633           0.1042            0.70s\n",
      "       634           0.1042            0.70s\n",
      "       635           0.1040            0.70s\n",
      "       636           0.1039            0.69s\n",
      "       637           0.1039            0.69s\n",
      "       638           0.1038            0.69s\n",
      "       639           0.1036            0.69s\n",
      "       640           0.1035            0.69s\n",
      "       641           0.1017            0.68s\n",
      "       642           0.1016            0.68s\n",
      "       643           0.1016            0.68s\n",
      "       644           0.1015            0.68s\n",
      "       645           0.1014            0.68s\n",
      "       646           0.1013            0.67s\n",
      "       647           0.1013            0.67s\n",
      "       648           0.1012            0.67s\n",
      "       649           0.1011            0.67s\n",
      "       650           0.1011            0.67s\n",
      "       651           0.1010            0.66s\n",
      "       652           0.1009            0.66s\n",
      "       653           0.1007            0.66s\n",
      "       654           0.1007            0.66s\n",
      "       655           0.1005            0.66s\n",
      "       656           0.1003            0.66s\n",
      "       657           0.1002            0.65s\n",
      "       658           0.1001            0.65s\n",
      "       659           0.1000            0.65s\n",
      "       660           0.0998            0.65s\n",
      "       661           0.0997            0.65s\n",
      "       662           0.0996            0.64s\n",
      "       663           0.0996            0.64s\n",
      "       664           0.0995            0.64s\n",
      "       665           0.0994            0.64s\n",
      "       666           0.0993            0.64s\n",
      "       667           0.0991            0.63s\n",
      "       668           0.0991            0.63s\n",
      "       669           0.0989            0.63s\n",
      "       670           0.0988            0.63s\n",
      "       671           0.0987            0.63s\n",
      "       672           0.0987            0.63s\n",
      "       673           0.0986            0.62s\n",
      "       674           0.0986            0.62s\n",
      "       675           0.0985            0.62s\n",
      "       676           0.0983            0.62s\n",
      "       677           0.0983            0.62s\n",
      "       678           0.0982            0.61s\n",
      "       679           0.0981            0.61s\n",
      "       680           0.0980            0.61s\n",
      "       681           0.0979            0.61s\n",
      "       682           0.0978            0.61s\n",
      "       683           0.0978            0.60s\n",
      "       684           0.0977            0.60s\n",
      "       685           0.0976            0.60s\n",
      "       686           0.0975            0.60s\n",
      "       687           0.0974            0.60s\n",
      "       688           0.0973            0.59s\n",
      "       689           0.0972            0.59s\n",
      "       690           0.0971            0.59s\n",
      "       691           0.0971            0.59s\n",
      "       692           0.0970            0.59s\n",
      "       693           0.0969            0.58s\n",
      "       694           0.0967            0.58s\n",
      "       695           0.0967            0.58s\n",
      "       696           0.0965            0.58s\n",
      "       697           0.0965            0.58s\n",
      "       698           0.0964            0.58s\n",
      "       699           0.0963            0.57s\n",
      "       700           0.0962            0.57s\n",
      "       701           0.0961            0.57s\n",
      "       702           0.0960            0.57s\n",
      "       703           0.0959            0.57s\n",
      "       704           0.0958            0.56s\n",
      "       705           0.0958            0.56s\n",
      "       706           0.0948            0.56s\n",
      "       707           0.0948            0.56s\n",
      "       708           0.0947            0.55s\n",
      "       709           0.0947            0.55s\n",
      "       710           0.0945            0.55s\n",
      "       711           0.0945            0.55s\n",
      "       712           0.0944            0.55s\n",
      "       713           0.0943            0.54s\n",
      "       714           0.0943            0.54s\n",
      "       715           0.0942            0.54s\n",
      "       716           0.0941            0.54s\n",
      "       717           0.0941            0.54s\n",
      "       718           0.0940            0.53s\n",
      "       719           0.0939            0.53s\n",
      "       720           0.0938            0.53s\n",
      "       721           0.0938            0.53s\n",
      "       722           0.0937            0.53s\n",
      "       723           0.0936            0.52s\n",
      "       724           0.0935            0.52s\n",
      "       725           0.0935            0.52s\n",
      "       726           0.0934            0.52s\n",
      "       727           0.0933            0.51s\n",
      "       728           0.0932            0.51s\n",
      "       729           0.0932            0.51s\n",
      "       730           0.0932            0.51s\n",
      "       731           0.0931            0.51s\n",
      "       732           0.0929            0.50s\n",
      "       733           0.0928            0.50s\n",
      "       734           0.0928            0.50s\n",
      "       735           0.0927            0.50s\n",
      "       736           0.0926            0.50s\n",
      "       737           0.0924            0.49s\n",
      "       738           0.0923            0.49s\n",
      "       739           0.0923            0.49s\n",
      "       740           0.0922            0.49s\n",
      "       741           0.0921            0.49s\n",
      "       742           0.0905            0.48s\n",
      "       743           0.0904            0.48s\n",
      "       744           0.0903            0.48s\n",
      "       745           0.0902            0.48s\n",
      "       746           0.0902            0.48s\n",
      "       747           0.0901            0.47s\n",
      "       748           0.0900            0.47s\n",
      "       749           0.0899            0.47s\n",
      "       750           0.0899            0.47s\n",
      "       751           0.0898            0.47s\n",
      "       752           0.0897            0.46s\n",
      "       753           0.0897            0.46s\n",
      "       754           0.0894            0.46s\n",
      "       755           0.0894            0.46s\n",
      "       756           0.0893            0.46s\n",
      "       757           0.0892            0.45s\n",
      "       758           0.0891            0.45s\n",
      "       759           0.0891            0.45s\n",
      "       760           0.0890            0.45s\n",
      "       761           0.0889            0.45s\n",
      "       762           0.0888            0.45s\n",
      "       763           0.0887            0.44s\n",
      "       764           0.0887            0.44s\n",
      "       765           0.0885            0.44s\n",
      "       766           0.0884            0.44s\n",
      "       767           0.0884            0.44s\n",
      "       768           0.0882            0.43s\n",
      "       769           0.0882            0.43s\n",
      "       770           0.0881            0.43s\n",
      "       771           0.0878            0.43s\n",
      "       772           0.0877            0.43s\n",
      "       773           0.0876            0.42s\n",
      "       774           0.0876            0.42s\n",
      "       775           0.0875            0.42s\n",
      "       776           0.0874            0.42s\n",
      "       777           0.0874            0.42s\n",
      "       778           0.0873            0.42s\n",
      "       779           0.0873            0.41s\n",
      "       780           0.0872            0.41s\n",
      "       781           0.0871            0.41s\n",
      "       782           0.0871            0.41s\n",
      "       783           0.0870            0.41s\n",
      "       784           0.0869            0.40s\n",
      "       785           0.0868            0.40s\n",
      "       786           0.0868            0.40s\n",
      "       787           0.0867            0.40s\n",
      "       788           0.0866            0.40s\n",
      "       789           0.0865            0.39s\n",
      "       790           0.0865            0.39s\n",
      "       791           0.0864            0.39s\n",
      "       792           0.0863            0.39s\n",
      "       793           0.0863            0.39s\n",
      "       794           0.0862            0.39s\n",
      "       795           0.0861            0.38s\n",
      "       796           0.0860            0.38s\n",
      "       797           0.0860            0.38s\n",
      "       798           0.0858            0.38s\n",
      "       799           0.0857            0.38s\n",
      "       800           0.0856            0.37s\n",
      "       801           0.0854            0.37s\n",
      "       802           0.0853            0.37s\n",
      "       803           0.0853            0.37s\n",
      "       804           0.0852            0.37s\n",
      "       805           0.0851            0.36s\n",
      "       806           0.0850            0.36s\n",
      "       807           0.0850            0.36s\n",
      "       808           0.0849            0.36s\n",
      "       809           0.0848            0.36s\n",
      "       810           0.0848            0.35s\n",
      "       811           0.0847            0.35s\n",
      "       812           0.0846            0.35s\n",
      "       813           0.0846            0.35s\n",
      "       814           0.0845            0.35s\n",
      "       815           0.0844            0.34s\n",
      "       816           0.0844            0.34s\n",
      "       817           0.0844            0.34s\n",
      "       818           0.0843            0.34s\n",
      "       819           0.0842            0.34s\n",
      "       820           0.0842            0.33s\n",
      "       821           0.0841            0.33s\n",
      "       822           0.0841            0.33s\n",
      "       823           0.0840            0.33s\n",
      "       824           0.0840            0.33s\n",
      "       825           0.0839            0.32s\n",
      "       826           0.0838            0.32s\n",
      "       827           0.0836            0.32s\n",
      "       828           0.0836            0.32s\n",
      "       829           0.0835            0.32s\n",
      "       830           0.0835            0.31s\n",
      "       831           0.0834            0.31s\n",
      "       832           0.0834            0.31s\n",
      "       833           0.0833            0.31s\n",
      "       834           0.0832            0.31s\n",
      "       835           0.0832            0.31s\n",
      "       836           0.0832            0.30s\n",
      "       837           0.0825            0.30s\n",
      "       838           0.0823            0.30s\n",
      "       839           0.0823            0.30s\n",
      "       840           0.0822            0.30s\n",
      "       841           0.0821            0.29s\n",
      "       842           0.0821            0.29s\n",
      "       843           0.0821            0.29s\n",
      "       844           0.0819            0.29s\n",
      "       845           0.0818            0.29s\n",
      "       846           0.0818            0.28s\n",
      "       847           0.0817            0.28s\n",
      "       848           0.0817            0.28s\n",
      "       849           0.0816            0.28s\n",
      "       850           0.0815            0.28s\n",
      "       851           0.0815            0.27s\n",
      "       852           0.0815            0.27s\n"
     ]
    },
    {
     "name": "stdout",
     "output_type": "stream",
     "text": [
      "       853           0.0814            0.27s\n",
      "       854           0.0813            0.27s\n",
      "       855           0.0813            0.27s\n",
      "       856           0.0812            0.26s\n",
      "       857           0.0811            0.26s\n",
      "       858           0.0801            0.26s\n",
      "       859           0.0800            0.26s\n",
      "       860           0.0799            0.26s\n",
      "       861           0.0798            0.26s\n",
      "       862           0.0796            0.25s\n",
      "       863           0.0796            0.25s\n",
      "       864           0.0795            0.25s\n",
      "       865           0.0794            0.25s\n",
      "       866           0.0793            0.25s\n",
      "       867           0.0793            0.24s\n",
      "       868           0.0792            0.24s\n",
      "       869           0.0791            0.24s\n",
      "       870           0.0790            0.24s\n",
      "       871           0.0790            0.24s\n",
      "       872           0.0789            0.23s\n",
      "       873           0.0789            0.23s\n",
      "       874           0.0788            0.23s\n",
      "       875           0.0786            0.23s\n",
      "       876           0.0786            0.23s\n",
      "       877           0.0785            0.23s\n",
      "       878           0.0784            0.22s\n",
      "       879           0.0784            0.22s\n",
      "       880           0.0784            0.22s\n",
      "       881           0.0783            0.22s\n",
      "       882           0.0783            0.22s\n",
      "       883           0.0782            0.21s\n",
      "       884           0.0782            0.21s\n",
      "       885           0.0781            0.21s\n",
      "       886           0.0780            0.21s\n",
      "       887           0.0780            0.21s\n",
      "       888           0.0779            0.21s\n",
      "       889           0.0778            0.20s\n",
      "       890           0.0777            0.20s\n",
      "       891           0.0776            0.20s\n",
      "       892           0.0776            0.20s\n",
      "       893           0.0776            0.20s\n",
      "       894           0.0775            0.19s\n",
      "       895           0.0774            0.19s\n",
      "       896           0.0773            0.19s\n",
      "       897           0.0773            0.19s\n",
      "       898           0.0773            0.19s\n",
      "       899           0.0772            0.18s\n",
      "       900           0.0771            0.18s\n",
      "       901           0.0771            0.18s\n",
      "       902           0.0770            0.18s\n",
      "       903           0.0770            0.18s\n",
      "       904           0.0769            0.18s\n",
      "       905           0.0769            0.17s\n",
      "       906           0.0768            0.17s\n",
      "       907           0.0768            0.17s\n",
      "       908           0.0767            0.17s\n",
      "       909           0.0767            0.17s\n",
      "       910           0.0766            0.16s\n",
      "       911           0.0766            0.16s\n",
      "       912           0.0765            0.16s\n",
      "       913           0.0764            0.16s\n",
      "       914           0.0764            0.16s\n",
      "       915           0.0763            0.16s\n",
      "       916           0.0763            0.15s\n",
      "       917           0.0762            0.15s\n",
      "       918           0.0762            0.15s\n",
      "       919           0.0761            0.15s\n",
      "       920           0.0761            0.15s\n",
      "       921           0.0761            0.14s\n",
      "       922           0.0760            0.14s\n",
      "       923           0.0760            0.14s\n",
      "       924           0.0759            0.14s\n",
      "       925           0.0758            0.14s\n",
      "       926           0.0758            0.14s\n",
      "       927           0.0757            0.13s\n",
      "       928           0.0757            0.13s\n",
      "       929           0.0756            0.13s\n",
      "       930           0.0756            0.13s\n",
      "       931           0.0755            0.13s\n",
      "       932           0.0755            0.12s\n",
      "       933           0.0754            0.12s\n",
      "       934           0.0754            0.12s\n",
      "       935           0.0753            0.12s\n",
      "       936           0.0753            0.12s\n",
      "       937           0.0751            0.12s\n",
      "       938           0.0750            0.11s\n",
      "       939           0.0750            0.11s\n",
      "       940           0.0749            0.11s\n",
      "       941           0.0749            0.11s\n",
      "       942           0.0747            0.11s\n",
      "       943           0.0746            0.10s\n",
      "       944           0.0746            0.10s\n",
      "       945           0.0745            0.10s\n",
      "       946           0.0745            0.10s\n",
      "       947           0.0745            0.10s\n",
      "       948           0.0744            0.10s\n",
      "       949           0.0743            0.09s\n",
      "       950           0.0742            0.09s\n",
      "       951           0.0741            0.09s\n",
      "       952           0.0740            0.09s\n",
      "       953           0.0740            0.09s\n",
      "       954           0.0739            0.08s\n",
      "       955           0.0739            0.08s\n",
      "       956           0.0738            0.08s\n",
      "       957           0.0737            0.08s\n",
      "       958           0.0736            0.08s\n",
      "       959           0.0735            0.07s\n",
      "       960           0.0734            0.07s\n",
      "       961           0.0734            0.07s\n",
      "       962           0.0733            0.07s\n",
      "       963           0.0732            0.07s\n",
      "       964           0.0732            0.07s\n",
      "       965           0.0731            0.06s\n",
      "       966           0.0730            0.06s\n",
      "       967           0.0729            0.06s\n",
      "       968           0.0729            0.06s\n",
      "       969           0.0728            0.06s\n",
      "       970           0.0728            0.05s\n",
      "       971           0.0727            0.05s\n",
      "       972           0.0727            0.05s\n",
      "       973           0.0726            0.05s\n",
      "       974           0.0726            0.05s\n",
      "       975           0.0725            0.05s\n",
      "       976           0.0725            0.04s\n",
      "       977           0.0724            0.04s\n",
      "       978           0.0723            0.04s\n",
      "       979           0.0723            0.04s\n",
      "       980           0.0722            0.04s\n",
      "       981           0.0722            0.03s\n",
      "       982           0.0721            0.03s\n",
      "       983           0.0720            0.03s\n",
      "       984           0.0720            0.03s\n",
      "       985           0.0719            0.03s\n",
      "       986           0.0719            0.03s\n",
      "       987           0.0717            0.02s\n",
      "       988           0.0717            0.02s\n",
      "       989           0.0716            0.02s\n",
      "       990           0.0716            0.02s\n",
      "       991           0.0715            0.02s\n",
      "       992           0.0715            0.01s\n",
      "       993           0.0714            0.01s\n",
      "       994           0.0713            0.01s\n",
      "       995           0.0713            0.01s\n",
      "       996           0.0712            0.01s\n",
      "       997           0.0712            0.01s\n",
      "       998           0.0711            0.00s\n",
      "       999           0.0711            0.00s\n",
      "      1000           0.0710            0.00s\n"
     ]
    }
   ],
   "source": [
    "gbc, gbc_predicted = make_model('gbc',X_train_under,y_train_under,X_val_under)"
   ]
  },
  {
   "cell_type": "code",
   "execution_count": 55,
   "metadata": {},
   "outputs": [
    {
     "name": "stderr",
     "output_type": "stream",
     "text": [
      "/Users/randy/anaconda3/lib/python3.7/site-packages/sklearn/ensemble/forest.py:246: FutureWarning: The default value of n_estimators will change from 10 in version 0.20 to 100 in 0.22.\n",
      "  \"10 in version 0.20 to 100 in 0.22.\", FutureWarning)\n"
     ]
    }
   ],
   "source": [
    "# Fit random forest to basic model (sub_grade only)\n",
    "rfc_b = RandomForestClassifier()\n",
    "rfc_b.fit(X_train_under,y_train_under)\n",
    "predicted_b = rfc_b.predict(X_val_under)"
   ]
  },
  {
   "cell_type": "code",
   "execution_count": 56,
   "metadata": {},
   "outputs": [],
   "source": [
    "def find_best_threshold(model, int_num_steps):\n",
    "    highest_f1 = 0\n",
    "    best_threshold = 0\n",
    "    for threshold in np.linspace (0, 1, int_num_steps):\n",
    "        y_predict = (model.predict_proba(X_val_under)[:, 1] >= threshold) \n",
    "        f1 = f1_score(y_val_under,y_predict)\n",
    "        if f1 > highest_f1:\n",
    "            best_threshold, highest_f1 = threshold, f1\n",
    "    return best_threshold, highest_f1"
   ]
  },
  {
   "cell_type": "code",
   "execution_count": 57,
   "metadata": {},
   "outputs": [
    {
     "name": "stdout",
     "output_type": "stream",
     "text": [
      "Best Threshold:  0.21052631578947367\n",
      "Highest_f1:  0.9631512071156291\n"
     ]
    }
   ],
   "source": [
    "best_thresh, high_f1 = find_best_threshold(rfc,20)\n",
    "print('Best Threshold: ', best_thresh)\n",
    "print('Highest_f1: ', high_f1)"
   ]
  },
  {
   "cell_type": "code",
   "execution_count": 58,
   "metadata": {},
   "outputs": [
    {
     "name": "stdout",
     "output_type": "stream",
     "text": [
      "Best Threshold:  0.631578947368421\n",
      "Highest_f1:  0.9152317880794703\n"
     ]
    }
   ],
   "source": [
    "best_thresh, high_f1 = find_best_threshold(lm,20)\n",
    "print('Best Threshold: ', best_thresh)\n",
    "print('Highest_f1: ', high_f1)"
   ]
  },
  {
   "cell_type": "code",
   "execution_count": 64,
   "metadata": {},
   "outputs": [
    {
     "name": "stdout",
     "output_type": "stream",
     "text": [
      "Best Threshold:  0.3157894736842105\n",
      "Highest_f1:  0.9596928982725528\n"
     ]
    },
    {
     "name": "stderr",
     "output_type": "stream",
     "text": [
      "/Users/randy/anaconda3/lib/python3.7/site-packages/sklearn/metrics/classification.py:1143: UndefinedMetricWarning: F-score is ill-defined and being set to 0.0 due to no predicted samples.\n",
      "  'precision', 'predicted', average, warn_for)\n"
     ]
    }
   ],
   "source": [
    "best_thresh, high_f1 = find_best_threshold(gbc,20)\n",
    "print('Best Threshold: ', best_thresh)\n",
    "print('Highest_f1: ', high_f1)"
   ]
  },
  {
   "cell_type": "code",
   "execution_count": null,
   "metadata": {},
   "outputs": [],
   "source": [
    "models = [rfc, lm, gnb, mlp, gbc]\n",
    "\n",
    "for item in models:\n",
    "    best_thresh, high_f1 = find_best_threshold(item,20)\n",
    "    print(f'Results for {item}:')\n",
    "    print('Best Threshold: ', best_thresh)\n",
    "    print('Highest_f1: ', high_f1)"
   ]
  },
  {
   "cell_type": "code",
   "execution_count": null,
   "metadata": {},
   "outputs": [],
   "source": []
  },
  {
   "cell_type": "code",
   "execution_count": null,
   "metadata": {},
   "outputs": [],
   "source": []
  },
  {
   "cell_type": "code",
   "execution_count": null,
   "metadata": {},
   "outputs": [],
   "source": []
  },
  {
   "cell_type": "code",
   "execution_count": null,
   "metadata": {},
   "outputs": [],
   "source": [
    "# Examine the correlation of the model errors\n",
    "\n",
    "knn_error = y_train_under - knn_grid.predict_proba(X_train_under)[:,1]\n",
    "logit_error = y_train_under - logistic_grid.predict_proba(X_train_under)[:,1]\n",
    "svm_error = y_train_under - svm_grid.predict_proba(X_train_under)[:,1]\n",
    "gnb_error = y_train_under - gnb_best.predict_proba(X_train_under)[:,1]\n",
    "rf_error = y_train_under - CV_rfc.predict_proba(X_train_under)[:,1]\n",
    "\n",
    "error_df = pd.DataFrame()\n",
    "error_df['knn'] = knn_error\n",
    "error_df['logit'] = logit_error\n",
    "error_df['svm'] = svm_error\n",
    "error_df['gnb'] = gnb_error\n",
    "error_df['rand_forest'] = rf_error\n",
    "\n",
    "error_df.corr()"
   ]
  },
  {
   "cell_type": "code",
   "execution_count": null,
   "metadata": {},
   "outputs": [],
   "source": [
    "y_true = np.array([0, 0, 1, 1])\n",
    "y_scores = np.array([0.1, 0.4, 0.35, 0.8])\n",
    "precision, recall, thresholds = precision_recall_curve(y_true, y_scores)"
   ]
  },
  {
   "cell_type": "code",
   "execution_count": null,
   "metadata": {},
   "outputs": [],
   "source": [
    "features = []\n",
    "for item in X_train.columns:\n",
    "    features.append(item)"
   ]
  },
  {
   "cell_type": "code",
   "execution_count": null,
   "metadata": {
    "scrolled": false
   },
   "outputs": [],
   "source": [
    "clf = tree.DecisionTreeClassifier(criterion=\"gini\", max_depth=3)\n",
    "clf = clf.fit(X_train_under, y_train_under)\n",
    "\n",
    "dot_data = tree.export_graphviz(clf, out_file=None) \n",
    "graph = graphviz.Source(dot_data) \n",
    "graph.render(\"Fraud\") \n",
    "\n",
    "dot_data = tree.export_graphviz(clf, out_file=None, \n",
    "                      feature_names=features,  \n",
    "                      class_names=['NotFraud','isFraud'], \n",
    "                      filled=True, rounded=True,  \n",
    "                      special_characters=True)  \n",
    "graph = graphviz.Source(dot_data)  \n",
    "graph "
   ]
  },
  {
   "cell_type": "markdown",
   "metadata": {},
   "source": [
    "## Log Loss Cross-Entropy\n",
    "\n",
    "_A more intensive metric for measuring the performance of your models._ So far, everything we've discussed uses \"hard-predictions\" to determine how well the model is doing. You apply some threshold and decided, \"yes, I believe this is class XYZ\" before checking to see if it's actually XYZ. \n",
    "\n",
    "That's an okay method, but it doesn't really give us a sense of how close the model was to being wrong. E.g., if we have a threshold of `0.5` and a record that's actually class 1, precision, recall, accuracy, etc. all give equal credit to a prediction that got the class correct, whether it was with `p = 0.51` or `p=0.99`. The second is much higher confidence though! \n",
    "\n",
    "Similarly, they give equal penalty to `p = 0.49` and `p=0.01`, though we were much more confident (in the wrong direction) in the second case. Guesses around `0.5` shouldn't be penalized as much, because our model is already admitting \"hey, I don't really know what this observation is.\" \n",
    "\n",
    "Enter log-loss. For the binary case, we can define log-loss:\n",
    "\n",
    "$$ LLCE = - \\sum_{i=1}^{N} y \\cdot log(p_{y}) + (1-y) \\cdot log((1-p_{y}))$$\n",
    "\n",
    "What does this do? It says, \"If the class is actually 1, did you predict close to p=1? If not, that's a big penalty. Though, we'll penalize you way more if you predicted close to p=0. If the class is actually 0, did you predict close to p=0? If not, that's another big penalty.\"\n",
    "\n",
    "The main take-aways here are:\n",
    "\n",
    ">- Log-loss allows us to measure not just \"did our model get XYZ right?\" but \"how confident was it in when predicting?\"\n",
    ">\n",
    ">- A lower log-loss is better\n",
    "\n",
    "The cost function typically used for Gradient Descent on classification is log-loss-cross-entropy!"
   ]
  },
  {
   "cell_type": "markdown",
   "metadata": {},
   "source": [
    "# Plotly "
   ]
  },
  {
   "cell_type": "code",
   "execution_count": null,
   "metadata": {},
   "outputs": [],
   "source": [
    "# load packages\n",
    "import sklearn\n",
    "import plotly.plotly as py\n",
    "import plotly.graph_objs as go\n",
    "from plotly import tools\n",
    "\n",
    "import numpy as np\n",
    "import matplotlib.pyplot as plt\n",
    "from sklearn import svm, datasets"
   ]
  },
  {
   "cell_type": "code",
   "execution_count": null,
   "metadata": {},
   "outputs": [],
   "source": [
    "# import some data to play with\n",
    "X = X_train_under  # we only take the first two features. We could\n",
    "                      # avoid this ugly slicing by using a two-dim dataset\n",
    "y = y_train_under\n",
    "\n",
    "h = .02  # step size in the mesh\n",
    "\n",
    "# we create an instance of SVM and fit out data. We do not scale our\n",
    "# data since we want to plot the support vectors\n",
    "C = 1.0  # SVM regularization parameter\n",
    "svc = svm.SVC(kernel='linear', verbose=30, gamma='auto' C=C).fit(X, y)\n",
    "rbf_svc = svm.SVC(kernel='rbf',verbose=30, gamma=0.7, C=C).fit(X, y)\n",
    "poly_svc = svm.SVC(kernel='poly',verbose=30, degree=3, C=C).fit(X, y)\n",
    "lin_svc = svm.LinearSVC(verbose=30,C=C).fit(X, y)\n",
    "\n",
    "# create a mesh to plot in\n",
    "x_min, x_max = X[:, 0].min() - 1, X[:, 0].max() + 1\n",
    "y_min, y_max = X[:, 1].min() - 1, X[:, 1].max() + 1\n",
    "x_ = np.arange(x_min, x_max) #,h\n",
    "y_ = np.arange(y_min, y_max) #,h\n",
    "xx, yy = np.meshgrid(x_, y_)\n",
    "\n",
    "# title for the plots\n",
    "titles = ('SVC with linear kernel',\n",
    "          'LinearSVC (linear kernel)',\n",
    "          'SVC with RBF kernel',\n",
    "          'SVC with polynomial (degree 3) kernel')"
   ]
  },
  {
   "cell_type": "code",
   "execution_count": null,
   "metadata": {},
   "outputs": [],
   "source": [
    "def matplotlib_to_plotly(cmap, pl_entries):\n",
    "    h = 1.0/(pl_entries-1)\n",
    "    pl_colorscale = []\n",
    "    \n",
    "    for k in range(pl_entries):\n",
    "        C = map(np.uint8, np.array(cmap(k*h)[:3])*255)\n",
    "        pl_colorscale.append([k*h, 'rgb'+str((C[0], C[1], C[2]))])\n",
    "        \n",
    "    return pl_colorscale\n",
    "\n",
    "cmap = matplotlib_to_plotly(plt.cm.coolwarm, 5)\n",
    "\n",
    "fig = tools.make_subplots(rows=2, cols=2,\n",
    "                          print_grid=False,\n",
    "                          subplot_titles=titles)"
   ]
  },
  {
   "cell_type": "code",
   "execution_count": null,
   "metadata": {},
   "outputs": [],
   "source": [
    "for i, clf in enumerate((svc, lin_svc, rbf_svc, poly_svc)):\n",
    "    # Plot the decision boundary. For that, we will assign a color to each\n",
    "    # point in the mesh [x_min, x_max]x[y_min, y_max].\n",
    "    Z = clf.predict(np.c_[xx.ravel(), yy.ravel()])\n",
    "\n",
    "    # Put the result into a color plot\n",
    "    Z = Z.reshape(xx.shape)\n",
    "    p1 = go.Contour(x=x_, y=y_, z=Z, \n",
    "                    colorscale=cmap,\n",
    "                    showscale=False)\n",
    "    fig.append_trace(p1, i/2+1, i%2+1)\n",
    "\n",
    "    # Plot also the training points\n",
    "    p2 = go.Scatter(x=X[:, 0], y=X[:, 1], \n",
    "                    mode='markers',\n",
    "                    marker=dict(color=y,\n",
    "                                colorscale=cmap,\n",
    "                                showscale=False,\n",
    "                                line=dict(color='black', width=1))\n",
    "                   )   \n",
    "    fig.append_trace(p2, i/2+1, i%2+1)"
   ]
  },
  {
   "cell_type": "code",
   "execution_count": null,
   "metadata": {},
   "outputs": [],
   "source": [
    "for i in map(str, range(1, 5)):\n",
    "    y = 'yaxis'+ i\n",
    "    x = 'xaxis'+i\n",
    "    fig['layout'][y].update(showticklabels=False, ticks='',\n",
    "                            title=\"Sepal Length\")\n",
    "    fig['layout'][x].update(showticklabels=False, ticks='',\n",
    "                            title=\"Sepal Width\")\n",
    "\n",
    "fig['layout'].update(height=700, showlegend=False)\n",
    "\n",
    "py.iplot(fig)"
   ]
  },
  {
   "cell_type": "code",
   "execution_count": null,
   "metadata": {},
   "outputs": [],
   "source": []
  },
  {
   "cell_type": "code",
   "execution_count": null,
   "metadata": {},
   "outputs": [],
   "source": []
  },
  {
   "cell_type": "code",
   "execution_count": null,
   "metadata": {},
   "outputs": [],
   "source": []
  },
  {
   "cell_type": "code",
   "execution_count": null,
   "metadata": {},
   "outputs": [],
   "source": []
  },
  {
   "cell_type": "code",
   "execution_count": null,
   "metadata": {},
   "outputs": [],
   "source": []
  }
 ],
 "metadata": {
  "kernelspec": {
   "display_name": "Python 3",
   "language": "python",
   "name": "python3"
  },
  "language_info": {
   "codemirror_mode": {
    "name": "ipython",
    "version": 3
   },
   "file_extension": ".py",
   "mimetype": "text/x-python",
   "name": "python",
   "nbconvert_exporter": "python",
   "pygments_lexer": "ipython3",
   "version": "3.7.3"
  }
 },
 "nbformat": 4,
 "nbformat_minor": 2
}
