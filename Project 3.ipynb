{
 "cells": [
  {
   "cell_type": "code",
   "execution_count": 1,
   "metadata": {},
   "outputs": [],
   "source": [
    "import numpy as np\n",
    "import pandas as pd\n",
    "import seaborn as sns\n",
    "import matplotlib.pyplot as plt\n",
    "from sklearn.model_selection import train_test_split\n",
    "from sklearn.model_selection import StratifiedShuffleSplit\n",
    "from sklearn.preprocessing import StandardScaler\n",
    "from sklearn.neighbors import KNeighborsClassifier\n",
    "from sklearn.model_selection import GridSearchCV\n",
    "from sklearn import linear_model\n",
    "from sklearn import svm\n",
    "from sklearn.naive_bayes import GaussianNB\n",
    "from sklearn.ensemble import RandomForestClassifier\n",
    "from sklearn.ensemble import RandomForestRegressor\n",
    "from sklearn.tree import DecisionTreeClassifier\n",
    "import sklearn.metrics as metrics\n",
    "from sklearn.linear_model import LogisticRegression\n",
    "from sklearn.metrics import confusion_matrix\n",
    "from sklearn.metrics import precision_score, recall_score, precision_recall_curve,f1_score, fbeta_score\n",
    "from sklearn.metrics import roc_auc_score, roc_curve\n",
    "from sklearn.metrics import precision_recall_curve\n",
    "from sklearn.tree import export_graphviz\n",
    "from sklearn import tree\n",
    "import graphviz \n",
    "from IPython import display\n",
    "from IPython.display import Image\n",
    "import pydotplus\n",
    "from sklearn.dummy import DummyClassifier\n",
    "from patsy import dmatrices, build_design_matrices, dmatrix\n",
    "\n",
    "%matplotlib inline\n",
    "np.set_printoptions(suppress=True) # Suppress scientific notation where possible\n",
    "\n",
    "pd.set_option('display.float_format', lambda x: '%.2f' % x)"
   ]
  },
  {
   "cell_type": "markdown",
   "metadata": {},
   "source": [
    "step - Maps a unit of time in the real world. In this case 1 step is 1 hour of time.  \n",
    "type - CASH-IN, CASH-OUT, DEBIT, PAYMENT and TRANSFER  \n",
    "- CASH-IN\n",
    "    - \n",
    "- CASH-OUT\n",
    "- DEBIT\n",
    "- PAYMENT\n",
    "- TRANSFER  \n",
    "  \n",
    "amount - amount of the transaction in local currency  \n",
    "  \n",
    "nameOrig - customer who started the transaction  \n",
    "  \n",
    "oldbalanceOrg - initial balance before the transaction  \n",
    "  \n",
    "newbalanceOrig - customer's balance after the transaction.  \n",
    "  \n",
    "nameDest - recipient ID of the transaction.  \n",
    "  \n",
    "oldbalanceDest - initial balance recipient before the transaction. Note that there is not information for customers that start with M (Merchants).  \n",
    "  \n",
    "newbalanceDest - new balance recipient after the transaction. Note that there is not information for customers that start with M (Merchants).  \n",
    "  \n",
    "isFraud - This is the transactions made by the fraudulent agents inside the simulation. In this specific dataset the fraudulent behavior of the agents aims to profit by taking control or customers accounts and try to empty the funds by transferring to another account and then cashing out of the system.  \n",
    "  \n",
    "isFlaggedFraud - The business model aims to control massive transfers from one account to another and flags illegal attempts. An illegal attempt in this dataset is an attempt to transfer more than 200.000 in a single transaction.  "
   ]
  },
  {
   "cell_type": "code",
   "execution_count": 2,
   "metadata": {},
   "outputs": [],
   "source": [
    "# Image(\"/Users/randy/Downloads/Screen Shot 2019-04-26 at 10.32.16 AM.png\", width='200')"
   ]
  },
  {
   "cell_type": "markdown",
   "metadata": {},
   "source": [
    "When comparing Machine Fraud to Actual Fraud:\n",
    "  \n",
    "| Category | Machine  | Actual |\n",
    "| --- | --- | --- |\n",
    "| True Positive | Fraud | Fraud |\n",
    "| False Positive | Fraud | Not Fraud |\n",
    "| True Negative | Not Fraud | Not Fraud |\n",
    "| False Negative | Not Fraud | Fraud |"
   ]
  },
  {
   "cell_type": "code",
   "execution_count": 3,
   "metadata": {},
   "outputs": [],
   "source": [
    "data = pd.read_csv('/Users/randy/Downloads/PaySim_Synthetic_Dataset-Fraud.csv')"
   ]
  },
  {
   "cell_type": "code",
   "execution_count": 4,
   "metadata": {
    "scrolled": true
   },
   "outputs": [
    {
     "data": {
      "text/html": [
       "<div>\n",
       "<style scoped>\n",
       "    .dataframe tbody tr th:only-of-type {\n",
       "        vertical-align: middle;\n",
       "    }\n",
       "\n",
       "    .dataframe tbody tr th {\n",
       "        vertical-align: top;\n",
       "    }\n",
       "\n",
       "    .dataframe thead th {\n",
       "        text-align: right;\n",
       "    }\n",
       "</style>\n",
       "<table border=\"1\" class=\"dataframe\">\n",
       "  <thead>\n",
       "    <tr style=\"text-align: right;\">\n",
       "      <th></th>\n",
       "      <th>step</th>\n",
       "      <th>type</th>\n",
       "      <th>amount</th>\n",
       "      <th>nameOrig</th>\n",
       "      <th>oldbalanceOrg</th>\n",
       "      <th>newbalanceOrig</th>\n",
       "      <th>nameDest</th>\n",
       "      <th>oldbalanceDest</th>\n",
       "      <th>newbalanceDest</th>\n",
       "      <th>isFraud</th>\n",
       "      <th>isFlaggedFraud</th>\n",
       "    </tr>\n",
       "  </thead>\n",
       "  <tbody>\n",
       "    <tr>\n",
       "      <th>0</th>\n",
       "      <td>1</td>\n",
       "      <td>PAYMENT</td>\n",
       "      <td>9839.64</td>\n",
       "      <td>C1231006815</td>\n",
       "      <td>170136.00</td>\n",
       "      <td>160296.36</td>\n",
       "      <td>M1979787155</td>\n",
       "      <td>0.00</td>\n",
       "      <td>0.00</td>\n",
       "      <td>0</td>\n",
       "      <td>0</td>\n",
       "    </tr>\n",
       "    <tr>\n",
       "      <th>1</th>\n",
       "      <td>1</td>\n",
       "      <td>PAYMENT</td>\n",
       "      <td>1864.28</td>\n",
       "      <td>C1666544295</td>\n",
       "      <td>21249.00</td>\n",
       "      <td>19384.72</td>\n",
       "      <td>M2044282225</td>\n",
       "      <td>0.00</td>\n",
       "      <td>0.00</td>\n",
       "      <td>0</td>\n",
       "      <td>0</td>\n",
       "    </tr>\n",
       "    <tr>\n",
       "      <th>2</th>\n",
       "      <td>1</td>\n",
       "      <td>TRANSFER</td>\n",
       "      <td>181.00</td>\n",
       "      <td>C1305486145</td>\n",
       "      <td>181.00</td>\n",
       "      <td>0.00</td>\n",
       "      <td>C553264065</td>\n",
       "      <td>0.00</td>\n",
       "      <td>0.00</td>\n",
       "      <td>1</td>\n",
       "      <td>0</td>\n",
       "    </tr>\n",
       "    <tr>\n",
       "      <th>3</th>\n",
       "      <td>1</td>\n",
       "      <td>CASH_OUT</td>\n",
       "      <td>181.00</td>\n",
       "      <td>C840083671</td>\n",
       "      <td>181.00</td>\n",
       "      <td>0.00</td>\n",
       "      <td>C38997010</td>\n",
       "      <td>21182.00</td>\n",
       "      <td>0.00</td>\n",
       "      <td>1</td>\n",
       "      <td>0</td>\n",
       "    </tr>\n",
       "    <tr>\n",
       "      <th>4</th>\n",
       "      <td>1</td>\n",
       "      <td>PAYMENT</td>\n",
       "      <td>11668.14</td>\n",
       "      <td>C2048537720</td>\n",
       "      <td>41554.00</td>\n",
       "      <td>29885.86</td>\n",
       "      <td>M1230701703</td>\n",
       "      <td>0.00</td>\n",
       "      <td>0.00</td>\n",
       "      <td>0</td>\n",
       "      <td>0</td>\n",
       "    </tr>\n",
       "  </tbody>\n",
       "</table>\n",
       "</div>"
      ],
      "text/plain": [
       "   step      type   amount     nameOrig  oldbalanceOrg  newbalanceOrig  \\\n",
       "0     1   PAYMENT  9839.64  C1231006815      170136.00       160296.36   \n",
       "1     1   PAYMENT  1864.28  C1666544295       21249.00        19384.72   \n",
       "2     1  TRANSFER   181.00  C1305486145         181.00            0.00   \n",
       "3     1  CASH_OUT   181.00   C840083671         181.00            0.00   \n",
       "4     1   PAYMENT 11668.14  C2048537720       41554.00        29885.86   \n",
       "\n",
       "      nameDest  oldbalanceDest  newbalanceDest  isFraud  isFlaggedFraud  \n",
       "0  M1979787155            0.00            0.00        0               0  \n",
       "1  M2044282225            0.00            0.00        0               0  \n",
       "2   C553264065            0.00            0.00        1               0  \n",
       "3    C38997010        21182.00            0.00        1               0  \n",
       "4  M1230701703            0.00            0.00        0               0  "
      ]
     },
     "execution_count": 4,
     "metadata": {},
     "output_type": "execute_result"
    }
   ],
   "source": [
    "data.head()"
   ]
  },
  {
   "cell_type": "code",
   "execution_count": 5,
   "metadata": {},
   "outputs": [],
   "source": [
    "#I want to change all of the column names to something cleaner\n",
    "df = data.rename(columns = {'step':'HoursPassed',\n",
    "                          'type':'TransactionType',\n",
    "                          'amount':'Amount',\n",
    "                          'nameOrig':'OriginatorID',\n",
    "                          'oldbalanceOrg':'OldBalORIG',\n",
    "                          'newbalanceOrig':'NewBalORIG', \n",
    "                          'nameDest':'RecipientID',\n",
    "                          'oldbalanceDest':'OldBalRCPT', \n",
    "                          'newbalanceDest':'NewBalRCPT', \n",
    "                          'isFraud':'Fraud',\n",
    "                          'isFlaggedFraud':'FlaggedFraud'\n",
    "                         })"
   ]
  },
  {
   "cell_type": "code",
   "execution_count": 6,
   "metadata": {},
   "outputs": [
    {
     "data": {
      "text/html": [
       "<div>\n",
       "<style scoped>\n",
       "    .dataframe tbody tr th:only-of-type {\n",
       "        vertical-align: middle;\n",
       "    }\n",
       "\n",
       "    .dataframe tbody tr th {\n",
       "        vertical-align: top;\n",
       "    }\n",
       "\n",
       "    .dataframe thead th {\n",
       "        text-align: right;\n",
       "    }\n",
       "</style>\n",
       "<table border=\"1\" class=\"dataframe\">\n",
       "  <thead>\n",
       "    <tr style=\"text-align: right;\">\n",
       "      <th></th>\n",
       "      <th>HoursPassed</th>\n",
       "      <th>Amount</th>\n",
       "      <th>OldBalORIG</th>\n",
       "      <th>NewBalORIG</th>\n",
       "      <th>OldBalRCPT</th>\n",
       "      <th>NewBalRCPT</th>\n",
       "      <th>Fraud</th>\n",
       "      <th>FlaggedFraud</th>\n",
       "    </tr>\n",
       "  </thead>\n",
       "  <tbody>\n",
       "    <tr>\n",
       "      <th>count</th>\n",
       "      <td>6362620.00</td>\n",
       "      <td>6362620.00</td>\n",
       "      <td>6362620.00</td>\n",
       "      <td>6362620.00</td>\n",
       "      <td>6362620.00</td>\n",
       "      <td>6362620.00</td>\n",
       "      <td>6362620.00</td>\n",
       "      <td>6362620.00</td>\n",
       "    </tr>\n",
       "    <tr>\n",
       "      <th>mean</th>\n",
       "      <td>243.40</td>\n",
       "      <td>179861.90</td>\n",
       "      <td>833883.10</td>\n",
       "      <td>855113.67</td>\n",
       "      <td>1100701.67</td>\n",
       "      <td>1224996.40</td>\n",
       "      <td>0.00</td>\n",
       "      <td>0.00</td>\n",
       "    </tr>\n",
       "    <tr>\n",
       "      <th>std</th>\n",
       "      <td>142.33</td>\n",
       "      <td>603858.23</td>\n",
       "      <td>2888242.67</td>\n",
       "      <td>2924048.50</td>\n",
       "      <td>3399180.11</td>\n",
       "      <td>3674128.94</td>\n",
       "      <td>0.04</td>\n",
       "      <td>0.00</td>\n",
       "    </tr>\n",
       "    <tr>\n",
       "      <th>min</th>\n",
       "      <td>1.00</td>\n",
       "      <td>0.00</td>\n",
       "      <td>0.00</td>\n",
       "      <td>0.00</td>\n",
       "      <td>0.00</td>\n",
       "      <td>0.00</td>\n",
       "      <td>0.00</td>\n",
       "      <td>0.00</td>\n",
       "    </tr>\n",
       "    <tr>\n",
       "      <th>25%</th>\n",
       "      <td>156.00</td>\n",
       "      <td>13389.57</td>\n",
       "      <td>0.00</td>\n",
       "      <td>0.00</td>\n",
       "      <td>0.00</td>\n",
       "      <td>0.00</td>\n",
       "      <td>0.00</td>\n",
       "      <td>0.00</td>\n",
       "    </tr>\n",
       "    <tr>\n",
       "      <th>50%</th>\n",
       "      <td>239.00</td>\n",
       "      <td>74871.94</td>\n",
       "      <td>14208.00</td>\n",
       "      <td>0.00</td>\n",
       "      <td>132705.66</td>\n",
       "      <td>214661.44</td>\n",
       "      <td>0.00</td>\n",
       "      <td>0.00</td>\n",
       "    </tr>\n",
       "    <tr>\n",
       "      <th>75%</th>\n",
       "      <td>335.00</td>\n",
       "      <td>208721.48</td>\n",
       "      <td>107315.18</td>\n",
       "      <td>144258.41</td>\n",
       "      <td>943036.71</td>\n",
       "      <td>1111909.25</td>\n",
       "      <td>0.00</td>\n",
       "      <td>0.00</td>\n",
       "    </tr>\n",
       "    <tr>\n",
       "      <th>max</th>\n",
       "      <td>743.00</td>\n",
       "      <td>92445516.64</td>\n",
       "      <td>59585040.37</td>\n",
       "      <td>49585040.37</td>\n",
       "      <td>356015889.35</td>\n",
       "      <td>356179278.92</td>\n",
       "      <td>1.00</td>\n",
       "      <td>1.00</td>\n",
       "    </tr>\n",
       "  </tbody>\n",
       "</table>\n",
       "</div>"
      ],
      "text/plain": [
       "       HoursPassed      Amount  OldBalORIG  NewBalORIG   OldBalRCPT  \\\n",
       "count   6362620.00  6362620.00  6362620.00  6362620.00   6362620.00   \n",
       "mean        243.40   179861.90   833883.10   855113.67   1100701.67   \n",
       "std         142.33   603858.23  2888242.67  2924048.50   3399180.11   \n",
       "min           1.00        0.00        0.00        0.00         0.00   \n",
       "25%         156.00    13389.57        0.00        0.00         0.00   \n",
       "50%         239.00    74871.94    14208.00        0.00    132705.66   \n",
       "75%         335.00   208721.48   107315.18   144258.41    943036.71   \n",
       "max         743.00 92445516.64 59585040.37 49585040.37 356015889.35   \n",
       "\n",
       "        NewBalRCPT      Fraud  FlaggedFraud  \n",
       "count   6362620.00 6362620.00    6362620.00  \n",
       "mean    1224996.40       0.00          0.00  \n",
       "std     3674128.94       0.04          0.00  \n",
       "min           0.00       0.00          0.00  \n",
       "25%           0.00       0.00          0.00  \n",
       "50%      214661.44       0.00          0.00  \n",
       "75%     1111909.25       0.00          0.00  \n",
       "max   356179278.92       1.00          1.00  "
      ]
     },
     "execution_count": 6,
     "metadata": {},
     "output_type": "execute_result"
    }
   ],
   "source": [
    "#use the pandas_profiling tool to get a summary of all the data\n",
    "df.describe()\n",
    "\n",
    "# pandas_profiling.ProfileReport(df)"
   ]
  },
  {
   "cell_type": "markdown",
   "metadata": {},
   "source": [
    "# Initial Findings and Thoughts:\n",
    "\n",
    "- Transfers and Cash_Out are related in many transactions. Ex. fraudsters transfer funds then cash out fast.\n",
    "- In the IDs, C = Customer, M = Merchant\n",
    "    - There are no Originator IDs that match Recipient IDs\n",
    "    - Maybe do one-hot-encoding for C and M\n",
    "- Do one-hot-encoding for Transaction Type (drop_first = True)\n",
    "- One-hot-encoding (pd.get_dummies(my_series, drop_first=True)\n",
    "- Feature engineering - add ratio of transaction amount to old bal\n",
    "    - Ex. (ORIG) Old Bal > New Bal = negative delta\n",
    "    - Ex. (RCPT) Old Bal < New Bal = positive delta\n",
    "    \n",
    "- Given that our data is extremely one-sided (imbalanced classification problem) The metric our intuition tells us we should maximize is known in statistics as recall, or the ability of a model to find all the relevant cases within a dataset.  \n",
    "    - Not Fraud represents the overwhelming majority of the data points\n",
    "    - I could have an extremely high accuracy by just saying \"all are not fraud\" but the recall would be terrible."
   ]
  },
  {
   "cell_type": "code",
   "execution_count": 7,
   "metadata": {},
   "outputs": [
    {
     "data": {
      "text/plain": [
       "False"
      ]
     },
     "execution_count": 7,
     "metadata": {},
     "output_type": "execute_result"
    }
   ],
   "source": [
    "#no matching Originator IDs to the Recipient IDs. I assumed this means the originator is not \n",
    "df['OriginatorID'].equals(df['RecipientID'])"
   ]
  },
  {
   "cell_type": "code",
   "execution_count": 8,
   "metadata": {},
   "outputs": [
    {
     "data": {
      "text/html": [
       "<div>\n",
       "<style scoped>\n",
       "    .dataframe tbody tr th:only-of-type {\n",
       "        vertical-align: middle;\n",
       "    }\n",
       "\n",
       "    .dataframe tbody tr th {\n",
       "        vertical-align: top;\n",
       "    }\n",
       "\n",
       "    .dataframe thead th {\n",
       "        text-align: right;\n",
       "    }\n",
       "</style>\n",
       "<table border=\"1\" class=\"dataframe\">\n",
       "  <thead>\n",
       "    <tr style=\"text-align: right;\">\n",
       "      <th></th>\n",
       "      <th>HoursPassed</th>\n",
       "      <th>TransactionType</th>\n",
       "      <th>Amount</th>\n",
       "      <th>OriginatorID</th>\n",
       "      <th>OldBalORIG</th>\n",
       "      <th>NewBalORIG</th>\n",
       "      <th>RecipientID</th>\n",
       "      <th>OldBalRCPT</th>\n",
       "      <th>NewBalRCPT</th>\n",
       "      <th>Fraud</th>\n",
       "      <th>FlaggedFraud</th>\n",
       "    </tr>\n",
       "  </thead>\n",
       "  <tbody>\n",
       "    <tr>\n",
       "      <th>6362615</th>\n",
       "      <td>743</td>\n",
       "      <td>CASH_OUT</td>\n",
       "      <td>339682.13</td>\n",
       "      <td>C786484425</td>\n",
       "      <td>339682.13</td>\n",
       "      <td>0.00</td>\n",
       "      <td>C776919290</td>\n",
       "      <td>0.00</td>\n",
       "      <td>339682.13</td>\n",
       "      <td>1</td>\n",
       "      <td>0</td>\n",
       "    </tr>\n",
       "    <tr>\n",
       "      <th>6362616</th>\n",
       "      <td>743</td>\n",
       "      <td>TRANSFER</td>\n",
       "      <td>6311409.28</td>\n",
       "      <td>C1529008245</td>\n",
       "      <td>6311409.28</td>\n",
       "      <td>0.00</td>\n",
       "      <td>C1881841831</td>\n",
       "      <td>0.00</td>\n",
       "      <td>0.00</td>\n",
       "      <td>1</td>\n",
       "      <td>0</td>\n",
       "    </tr>\n",
       "    <tr>\n",
       "      <th>6362617</th>\n",
       "      <td>743</td>\n",
       "      <td>CASH_OUT</td>\n",
       "      <td>6311409.28</td>\n",
       "      <td>C1162922333</td>\n",
       "      <td>6311409.28</td>\n",
       "      <td>0.00</td>\n",
       "      <td>C1365125890</td>\n",
       "      <td>68488.84</td>\n",
       "      <td>6379898.11</td>\n",
       "      <td>1</td>\n",
       "      <td>0</td>\n",
       "    </tr>\n",
       "    <tr>\n",
       "      <th>6362618</th>\n",
       "      <td>743</td>\n",
       "      <td>TRANSFER</td>\n",
       "      <td>850002.52</td>\n",
       "      <td>C1685995037</td>\n",
       "      <td>850002.52</td>\n",
       "      <td>0.00</td>\n",
       "      <td>C2080388513</td>\n",
       "      <td>0.00</td>\n",
       "      <td>0.00</td>\n",
       "      <td>1</td>\n",
       "      <td>0</td>\n",
       "    </tr>\n",
       "    <tr>\n",
       "      <th>6362619</th>\n",
       "      <td>743</td>\n",
       "      <td>CASH_OUT</td>\n",
       "      <td>850002.52</td>\n",
       "      <td>C1280323807</td>\n",
       "      <td>850002.52</td>\n",
       "      <td>0.00</td>\n",
       "      <td>C873221189</td>\n",
       "      <td>6510099.11</td>\n",
       "      <td>7360101.63</td>\n",
       "      <td>1</td>\n",
       "      <td>0</td>\n",
       "    </tr>\n",
       "  </tbody>\n",
       "</table>\n",
       "</div>"
      ],
      "text/plain": [
       "         HoursPassed TransactionType     Amount OriginatorID  OldBalORIG  \\\n",
       "6362615          743        CASH_OUT  339682.13   C786484425   339682.13   \n",
       "6362616          743        TRANSFER 6311409.28  C1529008245  6311409.28   \n",
       "6362617          743        CASH_OUT 6311409.28  C1162922333  6311409.28   \n",
       "6362618          743        TRANSFER  850002.52  C1685995037   850002.52   \n",
       "6362619          743        CASH_OUT  850002.52  C1280323807   850002.52   \n",
       "\n",
       "         NewBalORIG  RecipientID  OldBalRCPT  NewBalRCPT  Fraud  FlaggedFraud  \n",
       "6362615        0.00   C776919290        0.00   339682.13      1             0  \n",
       "6362616        0.00  C1881841831        0.00        0.00      1             0  \n",
       "6362617        0.00  C1365125890    68488.84  6379898.11      1             0  \n",
       "6362618        0.00  C2080388513        0.00        0.00      1             0  \n",
       "6362619        0.00   C873221189  6510099.11  7360101.63      1             0  "
      ]
     },
     "execution_count": 8,
     "metadata": {},
     "output_type": "execute_result"
    }
   ],
   "source": [
    "df.tail()"
   ]
  },
  {
   "cell_type": "code",
   "execution_count": 9,
   "metadata": {},
   "outputs": [],
   "source": [
    "#create dummies for transaction types\n",
    "df_trans = pd.get_dummies(df['TransactionType'],drop_first=True)\n",
    "df1 = df\n",
    "frames = [df1,df_trans]\n",
    "result = pd.concat(frames,axis=1)\n",
    "\n",
    "#drop the original transaction types\n",
    "result = result.drop(columns=['TransactionType'])"
   ]
  },
  {
   "cell_type": "code",
   "execution_count": 10,
   "metadata": {},
   "outputs": [],
   "source": [
    "#remove all numbers in Originator ID and Recipient ID\n",
    "result['OriginatorID'] = result['OriginatorID'].str.replace('\\d+', '')\n",
    "result['RecipientID'] = result['RecipientID'].str.replace('\\d+', '')\n",
    "\n",
    "#removing all the numbers in Originator ID leaves only 'C' so I drop the whole column\n",
    "result = result.drop(columns = ['OriginatorID'])\n",
    "\n",
    "#do a get_dummies for Recipient ID since there are Merchants ('M') and Customers ('C')\n",
    "result_recip = pd.get_dummies(result['RecipientID'],drop_first=True)\n",
    "result1 = result\n",
    "frames = [result1,result_recip]\n",
    "new_result = pd.concat(frames,axis=1)\n",
    "\n",
    "new_result = new_result.drop(columns = ['RecipientID'])\n"
   ]
  },
  {
   "cell_type": "code",
   "execution_count": 11,
   "metadata": {},
   "outputs": [],
   "source": [
    "#ok, all of the variables are now either binary or some other numerical value\n",
    "# new_result.info()\n",
    "# new_result_tail.describe()\n",
    "new_result['isFraud'] = new_result['Fraud']\n",
    "new_result = new_result.drop(columns = ['Fraud'])"
   ]
  },
  {
   "cell_type": "code",
   "execution_count": 12,
   "metadata": {},
   "outputs": [],
   "source": [
    "#create new columns for difference in Originator ID and Recipient ID\n",
    "new_result.insert(2, 'ChangeORIG', (new_result['NewBalORIG']-new_result['OldBalORIG']))\n",
    "new_result.insert(4, 'ChangeRCPT', (new_result['NewBalRCPT']-new_result['OldBalRCPT']))\n",
    "\n",
    "#drop original ORIG and RCPT transactions\n",
    "final_result = new_result.drop(columns = ['OldBalORIG','NewBalORIG','OldBalRCPT','NewBalRCPT','Amount'])\n",
    "#,'TRANSFER','M','PAYMENT','HoursPassed', 'FlaggedFraud'"
   ]
  },
  {
   "cell_type": "code",
   "execution_count": 13,
   "metadata": {},
   "outputs": [],
   "source": [
    "final_result = final_result.drop(columns = ['HoursPassed'])"
   ]
  },
  {
   "cell_type": "code",
   "execution_count": 14,
   "metadata": {},
   "outputs": [
    {
     "data": {
      "text/plain": [
       "6362620"
      ]
     },
     "execution_count": 14,
     "metadata": {},
     "output_type": "execute_result"
    }
   ],
   "source": [
    "len(final_result)"
   ]
  },
  {
   "cell_type": "code",
   "execution_count": 15,
   "metadata": {},
   "outputs": [],
   "source": [
    "result_df = final_result.drop_duplicates(['ChangeORIG'],keep='first')"
   ]
  },
  {
   "cell_type": "code",
   "execution_count": 19,
   "metadata": {},
   "outputs": [
    {
     "data": {
      "text/plain": [
       "2962285"
      ]
     },
     "execution_count": 19,
     "metadata": {},
     "output_type": "execute_result"
    }
   ],
   "source": [
    "len(result_df)"
   ]
  },
  {
   "cell_type": "code",
   "execution_count": 20,
   "metadata": {},
   "outputs": [],
   "source": [
    "no_fraud_result = result_df.drop(columns=['isFraud'])"
   ]
  },
  {
   "cell_type": "code",
   "execution_count": 21,
   "metadata": {},
   "outputs": [
    {
     "name": "stdout",
     "output_type": "stream",
     "text": [
      "ratio of Fraud to NotFraud:  0.0012924888191769902\n",
      "0    2958463\n",
      "1       3822\n",
      "Name: isFraud, dtype: int64\n"
     ]
    },
    {
     "data": {
      "image/png": "[encoded data removed]",
      "text/plain": [
       "<Figure size 432x288 with 1 Axes>"
      ]
     },
     "metadata": {
      "needs_background": "light"
     },
     "output_type": "display_data"
    }
   ],
   "source": [
    "# data.info()\n",
    "#EDA and Baselining\n",
    "target_pcts = result_df.isFraud.value_counts(normalize=False) \n",
    "print('ratio of Fraud to NotFraud: ', 8213/6354407)\n",
    "print(target_pcts)\n",
    "\n",
    "target_pcts.plot(kind='bar', color='blue');"
   ]
  },
  {
   "cell_type": "code",
   "execution_count": 22,
   "metadata": {},
   "outputs": [],
   "source": [
    "X_break, X_test, y_break, y_test = train_test_split(no_fraud_result, result_df['isFraud'], \\\n",
    "                                                    test_size=0.2, stratify=result_df['isFraud'],\n",
    "                                                    random_state=12345)\n",
    "#random_state generates a set kind of deck for each random state. 41 will always be the same kind of split\n",
    "\n",
    "X_train, X_val, y_train, y_val = train_test_split(X_break, y_break, \\\n",
    "                                                    test_size=0.25, stratify=y_break,\n",
    "                                                    random_state=12345)"
   ]
  },
  {
   "cell_type": "code",
   "execution_count": null,
   "metadata": {},
   "outputs": [],
   "source": [
    "no_fra"
   ]
  },
  {
   "cell_type": "code",
   "execution_count": null,
   "metadata": {},
   "outputs": [],
   "source": [
    "# Normalize my variables\n",
    "scaler = StandardScaler()\n",
    "scaler.fit(X_train)\n",
    "X_train = scaler.transform(X_train)\n",
    "X_val = scaler.transform(X_val)\n",
    "X_test = scaler.transform(X_test)"
   ]
  },
  {
   "cell_type": "code",
   "execution_count": null,
   "metadata": {},
   "outputs": [],
   "source": [
    "final_result.head()"
   ]
  },
  {
   "cell_type": "code",
   "execution_count": null,
   "metadata": {},
   "outputs": [],
   "source": [
    "# # Run CV with 5 folds (knn)\n",
    "\n",
    "# ks = [501]\n",
    "# param_grid = [{'n_neighbors': ks}]\n",
    "\n",
    "# knn = KNeighborsClassifier()\n",
    "# knn_grid = GridSearchCV(knn, param_grid, cv=5, scoring='roc_auc', verbose=30, n_jobs=-1)\n",
    "# knn_grid.fit(x_norm_train, y_train)"
   ]
  },
  {
   "cell_type": "code",
   "execution_count": 23,
   "metadata": {},
   "outputs": [],
   "source": [
    "def make_confusion_matrix(model, threshold=0.5):\n",
    "    # Predict class 1 if probability of being in class 1 is greater than threshold\n",
    "    # (model.predict(X_test) does this automatically with a threshold of 0.5)\n",
    "    y_predict = (model.predict_proba(X_val)[:, 1] >= threshold)\n",
    "    fraud_confusion = confusion_matrix(y_val, y_predict)\n",
    "    plt.figure(dpi=80)\n",
    "    sns.heatmap(fraud_confusion, cmap=plt.cm.Blues, annot=True, square=True, fmt='d',\n",
    "           xticklabels=['Not Fraud', 'Fraud'],\n",
    "           yticklabels=['Not Fraud', 'Fraud']);\n",
    "    plt.xlabel('Predicted')\n",
    "    plt.ylabel('Actual')"
   ]
  },
  {
   "cell_type": "code",
   "execution_count": 24,
   "metadata": {},
   "outputs": [
    {
     "name": "stderr",
     "output_type": "stream",
     "text": [
      "/Users/randy/anaconda3/lib/python3.7/site-packages/sklearn/linear_model/logistic.py:433: FutureWarning: Default solver will be changed to 'lbfgs' in 0.22. Specify a solver to silence this warning.\n",
      "  FutureWarning)\n"
     ]
    },
    {
     "name": "stdout",
     "output_type": "stream",
     "text": [
      "The score for logistic regression is\n",
      "Training set:  99.92%\n",
      "Validation set:  99.92%\n"
     ]
    }
   ],
   "source": [
    "logit = LogisticRegression(C = 0.95)\n",
    "logit.fit(X_train, y_train)\n",
    "print(\"The score for logistic regression is\")\n",
    "print(\"Training set: {:6.2f}%\".format(100*logit.score(X_train, y_train)))\n",
    "print(\"Validation set: {:6.2f}%\".format(100*logit.score(X_val, y_val)))"
   ]
  },
  {
   "cell_type": "code",
   "execution_count": 25,
   "metadata": {},
   "outputs": [
    {
     "data": {
      "image/png": "[encoded data removed]",
      "text/plain": [
       "<Figure size 480x320 with 2 Axes>"
      ]
     },
     "metadata": {
      "needs_background": "light"
     },
     "output_type": "display_data"
    }
   ],
   "source": [
    "#base, threshold 0.5\n",
    "make_confusion_matrix(logit)\n"
   ]
  },
  {
   "cell_type": "code",
   "execution_count": 26,
   "metadata": {},
   "outputs": [
    {
     "data": {
      "application/vnd.jupyter.widget-view+json": {
       "model_id": "e6da5e678d244790ac0b3bf52e56b664",
       "version_major": 2,
       "version_minor": 0
      },
      "text/plain": [
       "interactive(children=(FloatSlider(value=0.5, description='threshold', max=1.0, step=0.02), Output()), _dom_cla…"
      ]
     },
     "metadata": {},
     "output_type": "display_data"
    }
   ],
   "source": [
    "from ipywidgets import interactive, FloatSlider\n",
    "\n",
    "interactive(lambda threshold: make_confusion_matrix(logit, threshold), threshold=(0.0,1.0,0.02))"
   ]
  },
  {
   "cell_type": "code",
   "execution_count": 27,
   "metadata": {},
   "outputs": [],
   "source": [
    "# using the new threshold of n\n",
    "def check_threshold(n):\n",
    "    y_predict = (logit.predict_proba(X_val)[:,1] > float(n))\n",
    "    print(f'Threshold of {n}:')\n",
    "    print('Precision: {:6.4f},   Recall: {:6.4f}'.format(precision_score(y_val, y_predict), \n",
    "                                                     recall_score(y_val, y_predict)))\n",
    "    print(f'Total Score: {precision_score(y_val, y_predict) + recall_score(y_val, y_predict)}')\n",
    "    print('')"
   ]
  },
  {
   "cell_type": "code",
   "execution_count": 28,
   "metadata": {},
   "outputs": [
    {
     "name": "stdout",
     "output_type": "stream",
     "text": [
      "Default threshold: 0.5\n",
      "Precision: 0.8333,   Recall: 0.5039\n"
     ]
    }
   ],
   "source": [
    "# using the default threshold of 0.5, which is what vanilla predict does\n",
    "y_predict = logit.predict(X_val)\n",
    "print(\"Default threshold: 0.5\")\n",
    "print(\"Precision: {:6.4f},   Recall: {:6.4f}\".format(precision_score(y_val, y_predict), \n",
    "                                                     recall_score(y_val, y_predict)))"
   ]
  },
  {
   "cell_type": "code",
   "execution_count": 29,
   "metadata": {
    "scrolled": true
   },
   "outputs": [
    {
     "name": "stdout",
     "output_type": "stream",
     "text": [
      "Threshold of 0.0:\n",
      "Precision: 0.0013,   Recall: 1.0000\n",
      "Total Score: 1.00128954506403\n",
      "\n",
      "Threshold of 0.02:\n",
      "Precision: 0.1856,   Recall: 0.7618\n",
      "Total Score: 0.9473668394059195\n",
      "\n",
      "Threshold of 0.04:\n",
      "Precision: 0.3286,   Recall: 0.6950\n",
      "Total Score: 1.0236152869213622\n",
      "\n",
      "Threshold of 0.06:\n",
      "Precision: 0.4252,   Recall: 0.6584\n",
      "Total Score: 1.083567157771749\n",
      "\n",
      "Threshold of 0.08:\n",
      "Precision: 0.4827,   Recall: 0.6217\n",
      "Total Score: 1.1044513259268718\n",
      "\n",
      "Threshold of 0.1:\n",
      "Precision: 0.5439,   Recall: 0.6086\n",
      "Total Score: 1.1524983925783046\n",
      "\n",
      "Threshold of 0.12:\n",
      "Precision: 0.5891,   Recall: 0.5969\n",
      "Total Score: 1.186005925565161\n",
      "\n",
      "Threshold of 0.14:\n",
      "Precision: 0.6183,   Recall: 0.5851\n",
      "Total Score: 1.203335795442202\n",
      "\n",
      "Threshold of 0.16:\n",
      "Precision: 0.6529,   Recall: 0.5785\n",
      "Total Score: 1.2314143859187825\n",
      "\n",
      "Threshold of 0.18:\n",
      "Precision: 0.6776,   Recall: 0.5694\n",
      "Total Score: 1.246941821206635\n",
      "\n",
      "Threshold of 0.2:\n",
      "Precision: 0.6976,   Recall: 0.5615\n",
      "Total Score: 1.259079300217086\n",
      "\n",
      "Threshold of 0.22:\n",
      "Precision: 0.7221,   Recall: 0.5510\n",
      "Total Score: 1.2731740500929476\n",
      "\n",
      "Threshold of 0.24:\n",
      "Precision: 0.7412,   Recall: 0.5510\n",
      "Total Score: 1.2922443035174398\n",
      "\n",
      "Threshold of 0.26:\n",
      "Precision: 0.7491,   Recall: 0.5471\n",
      "Total Score: 1.2962243615004971\n",
      "\n",
      "Threshold of 0.28:\n",
      "Precision: 0.7606,   Recall: 0.5406\n",
      "Total Score: 1.3011652348307348\n",
      "\n",
      "Threshold of 0.3:\n",
      "Precision: 0.7668,   Recall: 0.5380\n",
      "Total Score: 1.3047491599593655\n",
      "\n",
      "Threshold of 0.32:\n",
      "Precision: 0.7827,   Recall: 0.5327\n",
      "Total Score: 1.3154148207813128\n",
      "\n",
      "Threshold of 0.34:\n",
      "Precision: 0.7902,   Recall: 0.5275\n",
      "Total Score: 1.317682989426137\n",
      "\n",
      "Threshold of 0.36:\n",
      "Precision: 0.7929,   Recall: 0.5262\n",
      "Total Score: 1.3190774187552279\n",
      "\n",
      "Threshold of 0.38:\n",
      "Precision: 0.8020,   Recall: 0.5249\n",
      "Total Score: 1.3268691099476442\n",
      "\n",
      "Threshold of 0.4:\n",
      "Precision: 0.8119,   Recall: 0.5196\n",
      "Total Score: 1.3314944485486997\n",
      "\n",
      "Threshold of 0.42:\n",
      "Precision: 0.8201,   Recall: 0.5131\n",
      "Total Score: 1.3331726872439704\n",
      "\n",
      "Threshold of 0.44:\n",
      "Precision: 0.8232,   Recall: 0.5118\n",
      "Total Score: 1.3349379994488841\n",
      "\n",
      "Threshold of 0.46:\n",
      "Precision: 0.8280,   Recall: 0.5105\n",
      "Total Score: 1.3384966818954882\n",
      "\n",
      "Threshold of 0.48:\n",
      "Precision: 0.8330,   Recall: 0.5092\n",
      "Total Score: 1.342138749061067\n",
      "\n",
      "Threshold of 0.5:\n",
      "Precision: 0.8333,   Recall: 0.5039\n",
      "Total Score: 1.337260034904014\n",
      "\n",
      "Threshold of 0.52:\n",
      "Precision: 0.8436,   Recall: 0.5013\n",
      "Total Score: 1.3449212353253224\n",
      "\n",
      "Threshold of 0.54:\n",
      "Precision: 0.8491,   Recall: 0.4935\n",
      "Total Score: 1.342554596481298\n",
      "\n",
      "Threshold of 0.56:\n",
      "Precision: 0.8545,   Recall: 0.4921\n",
      "Total Score: 1.3466920514040932\n",
      "\n",
      "Threshold of 0.58:\n",
      "Precision: 0.8584,   Recall: 0.4921\n",
      "Total Score: 1.3505940854431135\n",
      "\n",
      "Threshold of 0.6:\n",
      "Precision: 0.8618,   Recall: 0.4895\n",
      "Total Score: 1.351279947885251\n",
      "\n",
      "Threshold of 0.62:\n",
      "Precision: 0.8645,   Recall: 0.4843\n",
      "Total Score: 1.3487791750256888\n",
      "\n",
      "Threshold of 0.64:\n",
      "Precision: 0.8663,   Recall: 0.4751\n",
      "Total Score: 1.3414793387397068\n",
      "\n",
      "Threshold of 0.66:\n",
      "Precision: 0.8699,   Recall: 0.4725\n",
      "Total Score: 1.3423926070775247\n",
      "\n",
      "Threshold of 0.68:\n",
      "Precision: 0.8756,   Recall: 0.4699\n",
      "Total Score: 1.3455050440556762\n",
      "\n",
      "Threshold of 0.7000000000000001:\n",
      "Precision: 0.8765,   Recall: 0.4647\n",
      "Total Score: 1.3412028957404176\n",
      "\n",
      "Threshold of 0.72:\n",
      "Precision: 0.8787,   Recall: 0.4647\n",
      "Total Score: 1.3433725571510031\n",
      "\n",
      "Threshold of 0.74:\n",
      "Precision: 0.8806,   Recall: 0.4634\n",
      "Total Score: 1.3439478002656873\n",
      "\n",
      "Threshold of 0.76:\n",
      "Precision: 0.8847,   Recall: 0.4620\n",
      "Total Score: 1.3467536642653755\n",
      "\n",
      "Threshold of 0.78:\n",
      "Precision: 0.8886,   Recall: 0.4594\n",
      "Total Score: 1.3480316787063424\n",
      "\n",
      "Threshold of 0.8:\n",
      "Precision: 0.8941,   Recall: 0.4529\n",
      "Total Score: 1.346936428697052\n",
      "\n",
      "Threshold of 0.8200000000000001:\n",
      "Precision: 0.8932,   Recall: 0.4490\n",
      "Total Score: 1.3421820462478184\n",
      "\n",
      "Threshold of 0.84:\n",
      "Precision: 0.8966,   Recall: 0.4424\n",
      "Total Score: 1.3389601011012817\n",
      "\n",
      "Threshold of 0.86:\n",
      "Precision: 0.9054,   Recall: 0.4385\n",
      "Total Score: 1.3438870807980754\n",
      "\n",
      "Threshold of 0.88:\n",
      "Precision: 0.9118,   Recall: 0.4332\n",
      "Total Score: 1.3450918033259776\n",
      "\n",
      "Threshold of 0.9:\n",
      "Precision: 0.9164,   Recall: 0.4306\n",
      "Total Score: 1.3470628126412811\n",
      "\n",
      "Threshold of 0.92:\n",
      "Precision: 0.9176,   Recall: 0.4228\n",
      "Total Score: 1.340388505473584\n",
      "\n",
      "Threshold of 0.9400000000000001:\n",
      "Precision: 0.9217,   Recall: 0.4162\n",
      "Total Score: 1.3379694969269291\n",
      "\n",
      "Threshold of 0.96:\n",
      "Precision: 0.9311,   Recall: 0.4071\n",
      "Total Score: 1.3382057873781232\n",
      "\n",
      "Threshold of 0.98:\n",
      "Precision: 0.9429,   Recall: 0.3887\n",
      "Total Score: 1.331600598354525\n",
      "\n"
     ]
    }
   ],
   "source": [
    "for threshhold in np.arange(0.0, 1.0, 0.02):\n",
    "    check_threshold(threshhold)\n",
    "    #threshold of 0.52 holds the highest Total Score at 1.44\n"
   ]
  },
  {
   "cell_type": "code",
   "execution_count": 30,
   "metadata": {
    "scrolled": true
   },
   "outputs": [
    {
     "data": {
      "image/png": "[encoded data removed]",
      "text/plain": [
       "<Figure size 1080x1080 with 2 Axes>"
      ]
     },
     "metadata": {
      "needs_background": "light"
     },
     "output_type": "display_data"
    }
   ],
   "source": [
    "fig, ax = plt.subplots(figsize=(15,15))\n",
    "sns.heatmap(final_result.corr(), cmap=\"seismic\", ax=ax, annot=True)\n",
    "plt.show()"
   ]
  },
  {
   "cell_type": "code",
   "execution_count": 31,
   "metadata": {},
   "outputs": [
    {
     "data": {
      "image/png": "[encoded data removed]",
      "text/plain": [
       "<Figure size 480x320 with 1 Axes>"
      ]
     },
     "metadata": {
      "needs_background": "light"
     },
     "output_type": "display_data"
    }
   ],
   "source": [
    "# We can also use the probabilities to make a curve showing us how recall \n",
    "# and thresholds trade off \n",
    "\n",
    "precision_curve, recall_curve, threshold_curve = precision_recall_curve(y_test, logit.predict_proba(X_test)[:,1] )\n",
    "\n",
    "plt.figure(dpi=80)\n",
    "plt.plot(threshold_curve, precision_curve[1:],label='precision')\n",
    "plt.plot(threshold_curve, recall_curve[1:], label='recall')\n",
    "plt.legend(loc='lower left')\n",
    "plt.xlabel('Threshold (above this probability, label as fraud)');\n",
    "plt.title('Precision and Recall Curves');"
   ]
  },
  {
   "cell_type": "code",
   "execution_count": 32,
   "metadata": {},
   "outputs": [
    {
     "data": {
      "image/png": "[encoded data removed]",
      "text/plain": [
       "<Figure size 480x320 with 1 Axes>"
      ]
     },
     "metadata": {
      "needs_background": "light"
     },
     "output_type": "display_data"
    }
   ],
   "source": [
    "plt.figure(dpi=80)\n",
    "plt.plot(recall_curve[1:], precision_curve[1:],label='precision')\n",
    "plt.xlabel(\"Recall\")\n",
    "plt.ylabel(\"Precision\")\n",
    "plt.title(\"Precision-Recall Curve\");"
   ]
  },
  {
   "cell_type": "markdown",
   "metadata": {},
   "source": [
    "# The ROC Curve"
   ]
  },
  {
   "cell_type": "code",
   "execution_count": 33,
   "metadata": {},
   "outputs": [],
   "source": [
    "# Precision = TP / (TP + FP)\n",
    "# Recall = TP/P = True positive rate\n",
    "# false positive rate = FP / true negatives = FP / (FP + TN) "
   ]
  },
  {
   "cell_type": "code",
   "execution_count": 34,
   "metadata": {
    "scrolled": true
   },
   "outputs": [
    {
     "name": "stdout",
     "output_type": "stream",
     "text": [
      "ROC AUC score =  0.9930951904333649\n"
     ]
    },
    {
     "data": {
      "image/png": "[encoded data removed]",
      "text/plain": [
       "<Figure size 432x288 with 1 Axes>"
      ]
     },
     "metadata": {
      "needs_background": "light"
     },
     "output_type": "display_data"
    }
   ],
   "source": [
    "fpr, tpr, thresholds = roc_curve(y_val, logit.predict_proba(X_val)[:,1])\n",
    "\n",
    "plt.plot(fpr, tpr,lw=2)\n",
    "plt.plot([0,1],[0,1],c='violet',ls='--')\n",
    "plt.xlim([-0.05,1.05])\n",
    "plt.ylim([-0.05,1.05])\n",
    "\n",
    "#Precision = True Positive Rate\n",
    "\n",
    "plt.xlabel('False Positive rate (1 - Recall)')\n",
    "plt.ylabel('True Positive rate k(Precision)')\n",
    "plt.title('ROC curve for fraud problem');\n",
    "print(\"ROC AUC score = \", roc_auc_score(y_val, logit.predict_proba(X_val)[:,1]))"
   ]
  },
  {
   "cell_type": "code",
   "execution_count": 35,
   "metadata": {},
   "outputs": [
    {
     "name": "stderr",
     "output_type": "stream",
     "text": [
      "/Users/randy/anaconda3/lib/python3.7/site-packages/sklearn/linear_model/logistic.py:433: FutureWarning: Default solver will be changed to 'lbfgs' in 0.22. Specify a solver to silence this warning.\n",
      "  FutureWarning)\n"
     ]
    },
    {
     "name": "stdout",
     "output_type": "stream",
     "text": [
      "The score for logistic regression is\n",
      "Training set:  99.92%\n",
      "Validation set:  99.92%\n"
     ]
    }
   ],
   "source": [
    "logit = LogisticRegression(C = 0.95)\n",
    "logit.fit(X_train, y_train)\n",
    "print(\"The score for logistic regression is\")\n",
    "print(\"Training set: {:6.2f}%\".format(100*logit.score(X_train, y_train)))\n",
    "print(\"Validation set: {:6.2f}%\".format(100*logit.score(X_val, y_val)))"
   ]
  },
  {
   "cell_type": "code",
   "execution_count": 36,
   "metadata": {
    "scrolled": true
   },
   "outputs": [
    {
     "name": "stdout",
     "output_type": "stream",
     "text": [
      "Fitting 5 folds for each of 10 candidates, totalling 50 fits\n"
     ]
    },
    {
     "name": "stderr",
     "output_type": "stream",
     "text": [
      "[Parallel(n_jobs=-1)]: Using backend LokyBackend with 12 concurrent workers.\n",
      "[Parallel(n_jobs=-1)]: Done   1 tasks      | elapsed:   11.1s\n",
      "[Parallel(n_jobs=-1)]: Done   2 tasks      | elapsed:   11.5s\n",
      "[Parallel(n_jobs=-1)]: Done   3 tasks      | elapsed:   11.5s\n",
      "[Parallel(n_jobs=-1)]: Done   4 tasks      | elapsed:   11.6s\n",
      "[Parallel(n_jobs=-1)]: Done   5 tasks      | elapsed:   11.6s\n",
      "[Parallel(n_jobs=-1)]: Done   6 tasks      | elapsed:   11.6s\n",
      "[Parallel(n_jobs=-1)]: Done   7 tasks      | elapsed:   11.8s\n",
      "[Parallel(n_jobs=-1)]: Done   8 tasks      | elapsed:   11.8s\n",
      "[Parallel(n_jobs=-1)]: Done   9 tasks      | elapsed:   11.8s\n",
      "[Parallel(n_jobs=-1)]: Done  10 tasks      | elapsed:   11.8s\n",
      "[Parallel(n_jobs=-1)]: Done  11 tasks      | elapsed:   11.8s\n",
      "[Parallel(n_jobs=-1)]: Done  12 tasks      | elapsed:   11.9s\n",
      "[Parallel(n_jobs=-1)]: Done  13 tasks      | elapsed:   20.0s\n",
      "[Parallel(n_jobs=-1)]: Done  14 tasks      | elapsed:   20.4s\n",
      "[Parallel(n_jobs=-1)]: Done  15 tasks      | elapsed:   20.4s\n",
      "[Parallel(n_jobs=-1)]: Done  16 tasks      | elapsed:   20.5s\n",
      "[Parallel(n_jobs=-1)]: Done  17 tasks      | elapsed:   20.5s\n",
      "[Parallel(n_jobs=-1)]: Done  18 tasks      | elapsed:   20.5s\n",
      "[Parallel(n_jobs=-1)]: Done  19 tasks      | elapsed:   20.7s\n",
      "[Parallel(n_jobs=-1)]: Done  20 tasks      | elapsed:   20.8s\n",
      "[Parallel(n_jobs=-1)]: Done  21 tasks      | elapsed:   20.9s\n",
      "[Parallel(n_jobs=-1)]: Done  22 tasks      | elapsed:   21.0s\n",
      "[Parallel(n_jobs=-1)]: Done  23 tasks      | elapsed:   21.0s\n",
      "[Parallel(n_jobs=-1)]: Done  24 tasks      | elapsed:   21.1s\n",
      "[Parallel(n_jobs=-1)]: Done  25 tasks      | elapsed:   28.4s\n",
      "[Parallel(n_jobs=-1)]: Done  26 tasks      | elapsed:   28.9s\n",
      "[Parallel(n_jobs=-1)]: Done  27 tasks      | elapsed:   29.0s\n",
      "[Parallel(n_jobs=-1)]: Done  29 out of  50 | elapsed:   29.1s remaining:   21.1s\n",
      "[Parallel(n_jobs=-1)]: Done  31 out of  50 | elapsed:   29.4s remaining:   18.0s\n",
      "[Parallel(n_jobs=-1)]: Done  33 out of  50 | elapsed:   29.4s remaining:   15.1s\n",
      "[Parallel(n_jobs=-1)]: Done  35 out of  50 | elapsed:   29.6s remaining:   12.7s\n",
      "[Parallel(n_jobs=-1)]: Done  37 out of  50 | elapsed:   37.2s remaining:   13.1s\n",
      "[Parallel(n_jobs=-1)]: Done  39 out of  50 | elapsed:   37.8s remaining:   10.7s\n",
      "[Parallel(n_jobs=-1)]: Done  41 out of  50 | elapsed:   38.0s remaining:    8.3s\n",
      "[Parallel(n_jobs=-1)]: Done  43 out of  50 | elapsed:   38.0s remaining:    6.2s\n",
      "[Parallel(n_jobs=-1)]: Done  45 out of  50 | elapsed:   38.2s remaining:    4.2s\n",
      "[Parallel(n_jobs=-1)]: Done  47 out of  50 | elapsed:   38.2s remaining:    2.4s\n",
      "[Parallel(n_jobs=-1)]: Done  50 out of  50 | elapsed:   40.5s finished\n"
     ]
    },
    {
     "data": {
      "text/plain": [
       "GridSearchCV(cv=5, error_score='raise-deprecating',\n",
       "       estimator=LogisticRegression(C=1.0, class_weight=None, dual=False, fit_intercept=True,\n",
       "          intercept_scaling=1, max_iter=10000, multi_class='warn',\n",
       "          n_jobs=None, penalty='l2', random_state=None, solver='lbfgs',\n",
       "          tol=0.0001, verbose=0, warm_start=False),\n",
       "       fit_params=None, iid='warn', n_jobs=-1,\n",
       "       param_grid={'C': array([    1.     ,     2.78256,     7.74264,    21.54435,    59.94843,\n",
       "         166.81005,   464.15888,  1291.54967,  3593.81366, 10000.     ]), 'penalty': ['l2']},\n",
       "       pre_dispatch='2*n_jobs', refit=True, return_train_score='warn',\n",
       "       scoring='roc_auc', verbose=30)"
      ]
     },
     "execution_count": 36,
     "metadata": {},
     "output_type": "execute_result"
    }
   ],
   "source": [
    "# Run CV with 5 folds (logit)\n",
    "\n",
    "penalty = ['l2']\n",
    "C = np.logspace(0, 4, 10)\n",
    "param_grid = dict(C=C, penalty=penalty)\n",
    "\n",
    "logistic = linear_model.LogisticRegression(solver='lbfgs', max_iter=10000)\n",
    "logistic_grid = GridSearchCV(logistic, param_grid, cv=5, scoring='roc_auc', verbose=30, n_jobs=-1)\n",
    "logistic_grid.fit(X_train, y_train)"
   ]
  },
  {
   "cell_type": "code",
   "execution_count": 49,
   "metadata": {},
   "outputs": [
    {
     "name": "stdout",
     "output_type": "stream",
     "text": [
      "Fitting 5 folds for each of 2 candidates, totalling 10 fits\n"
     ]
    },
    {
     "name": "stderr",
     "output_type": "stream",
     "text": [
      "[Parallel(n_jobs=-1)]: Using backend LokyBackend with 12 concurrent workers.\n",
      "[Parallel(n_jobs=-1)]: Done   1 tasks      | elapsed:   23.9s\n",
      "[Parallel(n_jobs=-1)]: Done   2 out of  10 | elapsed:   23.9s remaining:  1.6min\n",
      "[Parallel(n_jobs=-1)]: Done   3 out of  10 | elapsed:   23.9s remaining:   55.7s\n",
      "[Parallel(n_jobs=-1)]: Done   4 out of  10 | elapsed:   23.9s remaining:   35.8s\n",
      "[Parallel(n_jobs=-1)]: Done   5 out of  10 | elapsed:   23.9s remaining:   23.9s\n",
      "[Parallel(n_jobs=-1)]: Done   6 out of  10 | elapsed:   23.9s remaining:   15.9s\n",
      "[Parallel(n_jobs=-1)]: Done   7 out of  10 | elapsed:   23.9s remaining:   10.2s\n",
      "[Parallel(n_jobs=-1)]: Done   8 out of  10 | elapsed:   23.9s remaining:    6.0s\n",
      "[Parallel(n_jobs=-1)]: Done  10 out of  10 | elapsed:   23.9s remaining:    0.0s\n"
     ]
    },
    {
     "ename": "KeyboardInterrupt",
     "evalue": "",
     "output_type": "error",
     "traceback": [
      "\u001b[0;31m---------------------------------------------------------------------------\u001b[0m",
      "\u001b[0;31mKeyboardInterrupt\u001b[0m                         Traceback (most recent call last)",
      "\u001b[0;32m<ipython-input-49-e503e786d10b>\u001b[0m in \u001b[0;36m<module>\u001b[0;34m\u001b[0m\n\u001b[1;32m      7\u001b[0m \u001b[0msvm1\u001b[0m \u001b[0;34m=\u001b[0m \u001b[0msvm\u001b[0m\u001b[0;34m.\u001b[0m\u001b[0mSVC\u001b[0m\u001b[0;34m(\u001b[0m\u001b[0mkernel\u001b[0m\u001b[0;34m=\u001b[0m\u001b[0;34m'rbf'\u001b[0m\u001b[0;34m,\u001b[0m \u001b[0mprobability\u001b[0m\u001b[0;34m=\u001b[0m\u001b[0;32mTrue\u001b[0m\u001b[0;34m)\u001b[0m\u001b[0;34m\u001b[0m\u001b[0;34m\u001b[0m\u001b[0m\n\u001b[1;32m      8\u001b[0m \u001b[0msvm_grid\u001b[0m \u001b[0;34m=\u001b[0m \u001b[0mGridSearchCV\u001b[0m\u001b[0;34m(\u001b[0m\u001b[0msvm1\u001b[0m\u001b[0;34m,\u001b[0m \u001b[0mparam_grid\u001b[0m\u001b[0;34m,\u001b[0m \u001b[0mcv\u001b[0m\u001b[0;34m=\u001b[0m\u001b[0;36m5\u001b[0m\u001b[0;34m,\u001b[0m \u001b[0mscoring\u001b[0m\u001b[0;34m=\u001b[0m\u001b[0;34m'roc_auc'\u001b[0m\u001b[0;34m,\u001b[0m \u001b[0mverbose\u001b[0m\u001b[0;34m=\u001b[0m\u001b[0;36m30\u001b[0m\u001b[0;34m,\u001b[0m \u001b[0mn_jobs\u001b[0m\u001b[0;34m=\u001b[0m\u001b[0;34m-\u001b[0m\u001b[0;36m1\u001b[0m\u001b[0;34m)\u001b[0m\u001b[0;34m\u001b[0m\u001b[0;34m\u001b[0m\u001b[0m\n\u001b[0;32m----> 9\u001b[0;31m \u001b[0msvm_grid\u001b[0m\u001b[0;34m.\u001b[0m\u001b[0mfit\u001b[0m\u001b[0;34m(\u001b[0m\u001b[0mX_train\u001b[0m\u001b[0;34m,\u001b[0m \u001b[0my_train\u001b[0m\u001b[0;34m)\u001b[0m\u001b[0;34m\u001b[0m\u001b[0;34m\u001b[0m\u001b[0m\n\u001b[0m",
      "\u001b[0;32m~/anaconda3/lib/python3.7/site-packages/sklearn/model_selection/_search.py\u001b[0m in \u001b[0;36mfit\u001b[0;34m(self, X, y, groups, **fit_params)\u001b[0m\n\u001b[1;32m    720\u001b[0m                 \u001b[0;32mreturn\u001b[0m \u001b[0mresults_container\u001b[0m\u001b[0;34m[\u001b[0m\u001b[0;36m0\u001b[0m\u001b[0;34m]\u001b[0m\u001b[0;34m\u001b[0m\u001b[0;34m\u001b[0m\u001b[0m\n\u001b[1;32m    721\u001b[0m \u001b[0;34m\u001b[0m\u001b[0m\n\u001b[0;32m--> 722\u001b[0;31m             \u001b[0mself\u001b[0m\u001b[0;34m.\u001b[0m\u001b[0m_run_search\u001b[0m\u001b[0;34m(\u001b[0m\u001b[0mevaluate_candidates\u001b[0m\u001b[0;34m)\u001b[0m\u001b[0;34m\u001b[0m\u001b[0;34m\u001b[0m\u001b[0m\n\u001b[0m\u001b[1;32m    723\u001b[0m \u001b[0;34m\u001b[0m\u001b[0m\n\u001b[1;32m    724\u001b[0m         \u001b[0mresults\u001b[0m \u001b[0;34m=\u001b[0m \u001b[0mresults_container\u001b[0m\u001b[0;34m[\u001b[0m\u001b[0;36m0\u001b[0m\u001b[0;34m]\u001b[0m\u001b[0;34m\u001b[0m\u001b[0;34m\u001b[0m\u001b[0m\n",
      "\u001b[0;32m~/anaconda3/lib/python3.7/site-packages/sklearn/model_selection/_search.py\u001b[0m in \u001b[0;36m_run_search\u001b[0;34m(self, evaluate_candidates)\u001b[0m\n\u001b[1;32m   1189\u001b[0m     \u001b[0;32mdef\u001b[0m \u001b[0m_run_search\u001b[0m\u001b[0;34m(\u001b[0m\u001b[0mself\u001b[0m\u001b[0;34m,\u001b[0m \u001b[0mevaluate_candidates\u001b[0m\u001b[0;34m)\u001b[0m\u001b[0;34m:\u001b[0m\u001b[0;34m\u001b[0m\u001b[0;34m\u001b[0m\u001b[0m\n\u001b[1;32m   1190\u001b[0m         \u001b[0;34m\"\"\"Search all candidates in param_grid\"\"\"\u001b[0m\u001b[0;34m\u001b[0m\u001b[0;34m\u001b[0m\u001b[0m\n\u001b[0;32m-> 1191\u001b[0;31m         \u001b[0mevaluate_candidates\u001b[0m\u001b[0;34m(\u001b[0m\u001b[0mParameterGrid\u001b[0m\u001b[0;34m(\u001b[0m\u001b[0mself\u001b[0m\u001b[0;34m.\u001b[0m\u001b[0mparam_grid\u001b[0m\u001b[0;34m)\u001b[0m\u001b[0;34m)\u001b[0m\u001b[0;34m\u001b[0m\u001b[0;34m\u001b[0m\u001b[0m\n\u001b[0m\u001b[1;32m   1192\u001b[0m \u001b[0;34m\u001b[0m\u001b[0m\n\u001b[1;32m   1193\u001b[0m \u001b[0;34m\u001b[0m\u001b[0m\n",
      "\u001b[0;32m~/anaconda3/lib/python3.7/site-packages/sklearn/model_selection/_search.py\u001b[0m in \u001b[0;36mevaluate_candidates\u001b[0;34m(candidate_params)\u001b[0m\n\u001b[1;32m    709\u001b[0m                                \u001b[0;32mfor\u001b[0m \u001b[0mparameters\u001b[0m\u001b[0;34m,\u001b[0m \u001b[0;34m(\u001b[0m\u001b[0mtrain\u001b[0m\u001b[0;34m,\u001b[0m \u001b[0mtest\u001b[0m\u001b[0;34m)\u001b[0m\u001b[0;34m\u001b[0m\u001b[0;34m\u001b[0m\u001b[0m\n\u001b[1;32m    710\u001b[0m                                in product(candidate_params,\n\u001b[0;32m--> 711\u001b[0;31m                                           cv.split(X, y, groups)))\n\u001b[0m\u001b[1;32m    712\u001b[0m \u001b[0;34m\u001b[0m\u001b[0m\n\u001b[1;32m    713\u001b[0m                 \u001b[0mall_candidate_params\u001b[0m\u001b[0;34m.\u001b[0m\u001b[0mextend\u001b[0m\u001b[0;34m(\u001b[0m\u001b[0mcandidate_params\u001b[0m\u001b[0;34m)\u001b[0m\u001b[0;34m\u001b[0m\u001b[0;34m\u001b[0m\u001b[0m\n",
      "\u001b[0;32m~/anaconda3/lib/python3.7/site-packages/sklearn/externals/joblib/parallel.py\u001b[0m in \u001b[0;36m__call__\u001b[0;34m(self, iterable)\u001b[0m\n\u001b[1;32m    928\u001b[0m \u001b[0;34m\u001b[0m\u001b[0m\n\u001b[1;32m    929\u001b[0m             \u001b[0;32mwith\u001b[0m \u001b[0mself\u001b[0m\u001b[0;34m.\u001b[0m\u001b[0m_backend\u001b[0m\u001b[0;34m.\u001b[0m\u001b[0mretrieval_context\u001b[0m\u001b[0;34m(\u001b[0m\u001b[0;34m)\u001b[0m\u001b[0;34m:\u001b[0m\u001b[0;34m\u001b[0m\u001b[0;34m\u001b[0m\u001b[0m\n\u001b[0;32m--> 930\u001b[0;31m                 \u001b[0mself\u001b[0m\u001b[0;34m.\u001b[0m\u001b[0mretrieve\u001b[0m\u001b[0;34m(\u001b[0m\u001b[0;34m)\u001b[0m\u001b[0;34m\u001b[0m\u001b[0;34m\u001b[0m\u001b[0m\n\u001b[0m\u001b[1;32m    931\u001b[0m             \u001b[0;31m# Make sure that we get a last message telling us we are done\u001b[0m\u001b[0;34m\u001b[0m\u001b[0;34m\u001b[0m\u001b[0;34m\u001b[0m\u001b[0m\n\u001b[1;32m    932\u001b[0m             \u001b[0melapsed_time\u001b[0m \u001b[0;34m=\u001b[0m \u001b[0mtime\u001b[0m\u001b[0;34m.\u001b[0m\u001b[0mtime\u001b[0m\u001b[0;34m(\u001b[0m\u001b[0;34m)\u001b[0m \u001b[0;34m-\u001b[0m \u001b[0mself\u001b[0m\u001b[0;34m.\u001b[0m\u001b[0m_start_time\u001b[0m\u001b[0;34m\u001b[0m\u001b[0;34m\u001b[0m\u001b[0m\n",
      "\u001b[0;32m~/anaconda3/lib/python3.7/site-packages/sklearn/externals/joblib/parallel.py\u001b[0m in \u001b[0;36mretrieve\u001b[0;34m(self)\u001b[0m\n\u001b[1;32m    831\u001b[0m             \u001b[0;32mtry\u001b[0m\u001b[0;34m:\u001b[0m\u001b[0;34m\u001b[0m\u001b[0;34m\u001b[0m\u001b[0m\n\u001b[1;32m    832\u001b[0m                 \u001b[0;32mif\u001b[0m \u001b[0mgetattr\u001b[0m\u001b[0;34m(\u001b[0m\u001b[0mself\u001b[0m\u001b[0;34m.\u001b[0m\u001b[0m_backend\u001b[0m\u001b[0;34m,\u001b[0m \u001b[0;34m'supports_timeout'\u001b[0m\u001b[0;34m,\u001b[0m \u001b[0;32mFalse\u001b[0m\u001b[0;34m)\u001b[0m\u001b[0;34m:\u001b[0m\u001b[0;34m\u001b[0m\u001b[0;34m\u001b[0m\u001b[0m\n\u001b[0;32m--> 833\u001b[0;31m                     \u001b[0mself\u001b[0m\u001b[0;34m.\u001b[0m\u001b[0m_output\u001b[0m\u001b[0;34m.\u001b[0m\u001b[0mextend\u001b[0m\u001b[0;34m(\u001b[0m\u001b[0mjob\u001b[0m\u001b[0;34m.\u001b[0m\u001b[0mget\u001b[0m\u001b[0;34m(\u001b[0m\u001b[0mtimeout\u001b[0m\u001b[0;34m=\u001b[0m\u001b[0mself\u001b[0m\u001b[0;34m.\u001b[0m\u001b[0mtimeout\u001b[0m\u001b[0;34m)\u001b[0m\u001b[0;34m)\u001b[0m\u001b[0;34m\u001b[0m\u001b[0;34m\u001b[0m\u001b[0m\n\u001b[0m\u001b[1;32m    834\u001b[0m                 \u001b[0;32melse\u001b[0m\u001b[0;34m:\u001b[0m\u001b[0;34m\u001b[0m\u001b[0;34m\u001b[0m\u001b[0m\n\u001b[1;32m    835\u001b[0m                     \u001b[0mself\u001b[0m\u001b[0;34m.\u001b[0m\u001b[0m_output\u001b[0m\u001b[0;34m.\u001b[0m\u001b[0mextend\u001b[0m\u001b[0;34m(\u001b[0m\u001b[0mjob\u001b[0m\u001b[0;34m.\u001b[0m\u001b[0mget\u001b[0m\u001b[0;34m(\u001b[0m\u001b[0;34m)\u001b[0m\u001b[0;34m)\u001b[0m\u001b[0;34m\u001b[0m\u001b[0;34m\u001b[0m\u001b[0m\n",
      "\u001b[0;32m~/anaconda3/lib/python3.7/site-packages/sklearn/externals/joblib/_parallel_backends.py\u001b[0m in \u001b[0;36mwrap_future_result\u001b[0;34m(future, timeout)\u001b[0m\n\u001b[1;32m    519\u001b[0m         AsyncResults.get from multiprocessing.\"\"\"\n\u001b[1;32m    520\u001b[0m         \u001b[0;32mtry\u001b[0m\u001b[0;34m:\u001b[0m\u001b[0;34m\u001b[0m\u001b[0;34m\u001b[0m\u001b[0m\n\u001b[0;32m--> 521\u001b[0;31m             \u001b[0;32mreturn\u001b[0m \u001b[0mfuture\u001b[0m\u001b[0;34m.\u001b[0m\u001b[0mresult\u001b[0m\u001b[0;34m(\u001b[0m\u001b[0mtimeout\u001b[0m\u001b[0;34m=\u001b[0m\u001b[0mtimeout\u001b[0m\u001b[0;34m)\u001b[0m\u001b[0;34m\u001b[0m\u001b[0;34m\u001b[0m\u001b[0m\n\u001b[0m\u001b[1;32m    522\u001b[0m         \u001b[0;32mexcept\u001b[0m \u001b[0mLokyTimeoutError\u001b[0m\u001b[0;34m:\u001b[0m\u001b[0;34m\u001b[0m\u001b[0;34m\u001b[0m\u001b[0m\n\u001b[1;32m    523\u001b[0m             \u001b[0;32mraise\u001b[0m \u001b[0mTimeoutError\u001b[0m\u001b[0;34m(\u001b[0m\u001b[0;34m)\u001b[0m\u001b[0;34m\u001b[0m\u001b[0;34m\u001b[0m\u001b[0m\n",
      "\u001b[0;32m~/anaconda3/lib/python3.7/concurrent/futures/_base.py\u001b[0m in \u001b[0;36mresult\u001b[0;34m(self, timeout)\u001b[0m\n\u001b[1;32m    425\u001b[0m                 \u001b[0;32mreturn\u001b[0m \u001b[0mself\u001b[0m\u001b[0;34m.\u001b[0m\u001b[0m__get_result\u001b[0m\u001b[0;34m(\u001b[0m\u001b[0;34m)\u001b[0m\u001b[0;34m\u001b[0m\u001b[0;34m\u001b[0m\u001b[0m\n\u001b[1;32m    426\u001b[0m \u001b[0;34m\u001b[0m\u001b[0m\n\u001b[0;32m--> 427\u001b[0;31m             \u001b[0mself\u001b[0m\u001b[0;34m.\u001b[0m\u001b[0m_condition\u001b[0m\u001b[0;34m.\u001b[0m\u001b[0mwait\u001b[0m\u001b[0;34m(\u001b[0m\u001b[0mtimeout\u001b[0m\u001b[0;34m)\u001b[0m\u001b[0;34m\u001b[0m\u001b[0;34m\u001b[0m\u001b[0m\n\u001b[0m\u001b[1;32m    428\u001b[0m \u001b[0;34m\u001b[0m\u001b[0m\n\u001b[1;32m    429\u001b[0m             \u001b[0;32mif\u001b[0m \u001b[0mself\u001b[0m\u001b[0;34m.\u001b[0m\u001b[0m_state\u001b[0m \u001b[0;32min\u001b[0m \u001b[0;34m[\u001b[0m\u001b[0mCANCELLED\u001b[0m\u001b[0;34m,\u001b[0m \u001b[0mCANCELLED_AND_NOTIFIED\u001b[0m\u001b[0;34m]\u001b[0m\u001b[0;34m:\u001b[0m\u001b[0;34m\u001b[0m\u001b[0;34m\u001b[0m\u001b[0m\n",
      "\u001b[0;32m~/anaconda3/lib/python3.7/threading.py\u001b[0m in \u001b[0;36mwait\u001b[0;34m(self, timeout)\u001b[0m\n\u001b[1;32m    294\u001b[0m         \u001b[0;32mtry\u001b[0m\u001b[0;34m:\u001b[0m    \u001b[0;31m# restore state no matter what (e.g., KeyboardInterrupt)\u001b[0m\u001b[0;34m\u001b[0m\u001b[0;34m\u001b[0m\u001b[0m\n\u001b[1;32m    295\u001b[0m             \u001b[0;32mif\u001b[0m \u001b[0mtimeout\u001b[0m \u001b[0;32mis\u001b[0m \u001b[0;32mNone\u001b[0m\u001b[0;34m:\u001b[0m\u001b[0;34m\u001b[0m\u001b[0;34m\u001b[0m\u001b[0m\n\u001b[0;32m--> 296\u001b[0;31m                 \u001b[0mwaiter\u001b[0m\u001b[0;34m.\u001b[0m\u001b[0macquire\u001b[0m\u001b[0;34m(\u001b[0m\u001b[0;34m)\u001b[0m\u001b[0;34m\u001b[0m\u001b[0;34m\u001b[0m\u001b[0m\n\u001b[0m\u001b[1;32m    297\u001b[0m                 \u001b[0mgotit\u001b[0m \u001b[0;34m=\u001b[0m \u001b[0;32mTrue\u001b[0m\u001b[0;34m\u001b[0m\u001b[0;34m\u001b[0m\u001b[0m\n\u001b[1;32m    298\u001b[0m             \u001b[0;32melse\u001b[0m\u001b[0;34m:\u001b[0m\u001b[0;34m\u001b[0m\u001b[0;34m\u001b[0m\u001b[0m\n",
      "\u001b[0;31mKeyboardInterrupt\u001b[0m: "
     ]
    }
   ],
   "source": [
    "# Run CV with 5 folds (SVM). Unsure if I can run this given how long it takes\n",
    "\n",
    "C = [1]\n",
    "gammas = [0.001, 0.1,0.5]\n",
    "param_grid = dict(C=C, gamma=gammas)\n",
    "\n",
    "svm1 = svm.SVC(kernel='rbf', probability=True)\n",
    "svm_grid = GridSearchCV(svm1, param_grid, cv=5, scoring='roc_auc', verbose=30, n_jobs=-1)\n",
    "svm_grid.fit(X_train, y_train)"
   ]
  },
  {
   "cell_type": "code",
   "execution_count": 38,
   "metadata": {
    "scrolled": true
   },
   "outputs": [
    {
     "name": "stdout",
     "output_type": "stream",
     "text": [
      "Fitting 2 folds for each of 4 candidates, totalling 8 fits\n",
      "[Parallel(n_jobs=-1)]: Using backend LokyBackend with 12 concurrent workers.\n",
      "[Parallel(n_jobs=-1)]: Done   1 tasks      | elapsed:  2.1min\n",
      "[Parallel(n_jobs=-1)]: Done   2 out of   8 | elapsed:  2.1min remaining:  6.3min\n",
      "[Parallel(n_jobs=-1)]: Done   3 out of   8 | elapsed:  2.1min remaining:  3.5min\n",
      "[Parallel(n_jobs=-1)]: Done   4 out of   8 | elapsed:  2.1min remaining:  2.1min\n",
      "[Parallel(n_jobs=-1)]: Done   5 out of   8 | elapsed:  2.4min remaining:  1.4min\n",
      "[Parallel(n_jobs=-1)]: Done   6 out of   8 | elapsed:  2.4min remaining:   48.2s\n",
      "[Parallel(n_jobs=-1)]: Done   8 out of   8 | elapsed:  2.5min remaining:    0.0s\n",
      "[Parallel(n_jobs=-1)]: Done   8 out of   8 | elapsed:  2.5min finished\n"
     ]
    },
    {
     "data": {
      "text/plain": [
       "GridSearchCV(cv=2, error_score='raise-deprecating',\n",
       "       estimator=RandomForestClassifier(bootstrap=True, class_weight=None, criterion='gini',\n",
       "            max_depth=None, max_features='auto', max_leaf_nodes=None,\n",
       "            min_impurity_decrease=0.0, min_impurity_split=None,\n",
       "            min_samples_leaf=1, min_samples_split=2,\n",
       "            min_weight_fraction_leaf=0.0, n_estimators='warn', n_jobs=None,\n",
       "            oob_score=False, random_state=None, verbose=0,\n",
       "            warm_start=False),\n",
       "       fit_params=None, iid='warn', n_jobs=-1,\n",
       "       param_grid={'n_estimators': [200], 'max_features': ['auto'], 'max_depth': [40], 'min_samples_split': [2, 5], 'min_samples_leaf': [2, 4], 'bootstrap': [True]},\n",
       "       pre_dispatch='2*n_jobs', refit=True, return_train_score='warn',\n",
       "       scoring=None, verbose=50)"
      ]
     },
     "execution_count": 38,
     "metadata": {},
     "output_type": "execute_result"
    }
   ],
   "source": [
    "# Run CV with 5 folds (Random Forest)\n",
    "\n",
    "# Number of trees in random forest\n",
    "n_estimators = [200]#[200, 250] #200 or 250 models. test this more\n",
    "# Number of features to consider at every split\n",
    "max_features = ['auto'] #sqrt\n",
    "# Maximum number of levels in tree\n",
    "max_depth = [40]#[70, 80]\n",
    "# Minimum number of samples required to split a node\n",
    "min_samples_split = [2,5]#[2, 5, 10]\n",
    "# Minimum number of samples required at each leaf node\n",
    "min_samples_leaf = [2,4]#[1, 2, 4]\n",
    "# Method of selecting samples for training each tree\n",
    "bootstrap = [True]\n",
    "\n",
    "# Create the parameter grid based on the results of random search \n",
    "param_grid = {\n",
    "    'n_estimators': n_estimators,\n",
    "    'max_features': max_features,\n",
    "    'max_depth': max_depth, #how deep the tree gets to go, test this more\n",
    "    'min_samples_split': min_samples_split,\n",
    "    'min_samples_leaf': min_samples_leaf,\n",
    "    'bootstrap': bootstrap\n",
    "}\n",
    "\n",
    "# # Use the random grid to search for best hyperparameters\n",
    "# # First create the base model to tune\n",
    "# rf = RandomForestRegressor()\n",
    "# # Random search of parameters, using 3 fold cross validation, \n",
    "# # search across 100 different combinations, and use all available cores\n",
    "# rf_random = RandomizedSearchCV(estimator = rf, param_distributions = random_grid, n_iter = 100, cv = 3, verbose=10, random_state=42, n_jobs = -1)\n",
    "# # Fit the random search model\n",
    "# rf_random.fit(X_train, y_train)\n",
    "\n",
    "# #looking for the best hyperparams\n",
    "# #Create base model to tune\n",
    "rfc=RandomForestClassifier()\n",
    "# #GridSearch parameters, using 5 fold cross validation\n",
    "# rf_grid = GridSearchCV(estimator=rfc, param_grid=param_grid, cv=2, verbose=10, n_jobs=-1)\n",
    "# #Fit the GridSearch model\n",
    "# rf_grid.fit(X_train, y_train)\n",
    "\n",
    "CV_rfc = GridSearchCV(estimator=rfc, param_grid=param_grid, cv=2, verbose=50, n_jobs=-1)\n",
    "CV_rfc.fit(X_train, y_train)"
   ]
  },
  {
   "cell_type": "code",
   "execution_count": 37,
   "metadata": {},
   "outputs": [],
   "source": [
    "# Fit a Naive Bayes Model\n",
    "\n",
    "gnb = GaussianNB()\n",
    "gnb_best = gnb.fit(X_train, y_train)"
   ]
  },
  {
   "cell_type": "code",
   "execution_count": null,
   "metadata": {},
   "outputs": [],
   "source": [
    "# # Fit sub_grade Classifier\n",
    "\n",
    "# isFraud = 'isFraud'\n",
    "# x_patsy_sg = dmatrix(isFraud, X_train)\n",
    "# #x_patsy_sg_test = x_patsy_sg[test_index,:]\n",
    "# x_patsy_sg_val = x_patsy_sg[y_val,:]\n",
    "# x_patsy_sg_train = x_patsy_sg[y_train,:]\n",
    "\n",
    "# logistic_sub_grade = linear_model.LogisticRegression(solver='lbfgs', max_iter=10000)\n",
    "# logistic_sub_grade.fit(x_patsy_sg_train, y_train)\n",
    "# logistic_sub_grade.coef_"
   ]
  },
  {
   "cell_type": "code",
   "execution_count": 48,
   "metadata": {},
   "outputs": [
    {
     "name": "stdout",
     "output_type": "stream",
     "text": [
      "Best ROC_AUC for logit: 0.9778\n"
     ]
    },
    {
     "ename": "NameError",
     "evalue": "name 'svm_grid' is not defined",
     "output_type": "error",
     "traceback": [
      "\u001b[0;31m---------------------------------------------------------------------------\u001b[0m",
      "\u001b[0;31mNameError\u001b[0m                                 Traceback (most recent call last)",
      "\u001b[0;32m<ipython-input-48-bed47a31369b>\u001b[0m in \u001b[0;36m<module>\u001b[0;34m\u001b[0m\n\u001b[1;32m      1\u001b[0m \u001b[0mprint\u001b[0m\u001b[0;34m(\u001b[0m\u001b[0;34m'Best ROC_AUC for logit: %0.4f'\u001b[0m \u001b[0;34m%\u001b[0m \u001b[0mlogistic_grid\u001b[0m\u001b[0;34m.\u001b[0m\u001b[0mbest_score_\u001b[0m\u001b[0;34m)\u001b[0m\u001b[0;34m\u001b[0m\u001b[0;34m\u001b[0m\u001b[0m\n\u001b[0;32m----> 2\u001b[0;31m \u001b[0mprint\u001b[0m\u001b[0;34m(\u001b[0m\u001b[0;34m'Best ROC_AUC for svm: %0.4f'\u001b[0m \u001b[0;34m%\u001b[0m \u001b[0msvm_grid\u001b[0m\u001b[0;34m.\u001b[0m\u001b[0mbest_score_\u001b[0m\u001b[0;34m)\u001b[0m\u001b[0;34m\u001b[0m\u001b[0;34m\u001b[0m\u001b[0m\n\u001b[0m\u001b[1;32m      3\u001b[0m \u001b[0mprint\u001b[0m\u001b[0;34m(\u001b[0m\u001b[0;34m'Best ROC_AUC for rf: %0.4f'\u001b[0m \u001b[0;34m%\u001b[0m \u001b[0mCV_rfc\u001b[0m\u001b[0;34m.\u001b[0m\u001b[0mbest_score_\u001b[0m\u001b[0;34m)\u001b[0m\u001b[0;34m\u001b[0m\u001b[0;34m\u001b[0m\u001b[0m\n\u001b[1;32m      4\u001b[0m \u001b[0mCV_rfc\u001b[0m\u001b[0;34m.\u001b[0m\u001b[0mbest_estimator_\u001b[0m\u001b[0;34m\u001b[0m\u001b[0;34m\u001b[0m\u001b[0m\n",
      "\u001b[0;31mNameError\u001b[0m: name 'svm_grid' is not defined"
     ]
    }
   ],
   "source": [
    "print('Best ROC_AUC for logit: %0.4f' % logistic_grid.best_score_)\n",
    "print('Best ROC_AUC for svm: %0.4f' % svm_grid.best_score_)\n",
    "print('Best ROC_AUC for rf: %0.4f' % CV_rfc.best_score_)\n",
    "CV_rfc.best_estimator_"
   ]
  },
  {
   "cell_type": "code",
   "execution_count": 40,
   "metadata": {},
   "outputs": [
    {
     "name": "stdout",
     "output_type": "stream",
     "text": [
      "Best Params for logit:  {'C': 1.0, 'penalty': 'l2'}\n",
      "Best Params for rf:  {'bootstrap': True, 'max_depth': 40, 'max_features': 'auto', 'min_samples_leaf': 4, 'min_samples_split': 2, 'n_estimators': 200}\n"
     ]
    }
   ],
   "source": [
    "print('Best Params for logit: ', logistic_grid.best_params_)\n",
    "print('Best Params for svm: ', svm_grid.best_params_)\n",
    "print('Best Params for rf: ', CV_rfc.best_params_)"
   ]
  },
  {
   "cell_type": "code",
   "execution_count": 41,
   "metadata": {},
   "outputs": [
    {
     "data": {
      "text/plain": [
       "DummyClassifier(constant=None, random_state=None, strategy='stratified')"
      ]
     },
     "execution_count": 41,
     "metadata": {},
     "output_type": "execute_result"
    }
   ],
   "source": [
    "dc = DummyClassifier()\n",
    "dc.fit(X_train, y_train)\n",
    "# print(\"Log-loss on dummy classifier: {:6.4f}\".format(log_loss(y_val, dc.predict_proba(X_val))))"
   ]
  },
  {
   "cell_type": "code",
   "execution_count": 42,
   "metadata": {},
   "outputs": [
    {
     "data": {
      "text/html": [
       "<div>\n",
       "<style scoped>\n",
       "    .dataframe tbody tr th:only-of-type {\n",
       "        vertical-align: middle;\n",
       "    }\n",
       "\n",
       "    .dataframe tbody tr th {\n",
       "        vertical-align: top;\n",
       "    }\n",
       "\n",
       "    .dataframe thead th {\n",
       "        text-align: right;\n",
       "    }\n",
       "</style>\n",
       "<table border=\"1\" class=\"dataframe\">\n",
       "  <thead>\n",
       "    <tr style=\"text-align: right;\">\n",
       "      <th></th>\n",
       "      <th>ChangeORIG</th>\n",
       "      <th>ChangeRCPT</th>\n",
       "      <th>FlaggedFraud</th>\n",
       "      <th>CASH_OUT</th>\n",
       "      <th>DEBIT</th>\n",
       "      <th>PAYMENT</th>\n",
       "      <th>TRANSFER</th>\n",
       "      <th>M</th>\n",
       "    </tr>\n",
       "  </thead>\n",
       "  <tbody>\n",
       "    <tr>\n",
       "      <th>869955</th>\n",
       "      <td>232380.07</td>\n",
       "      <td>-232380.07</td>\n",
       "      <td>0</td>\n",
       "      <td>0</td>\n",
       "      <td>0</td>\n",
       "      <td>0</td>\n",
       "      <td>0</td>\n",
       "      <td>0</td>\n",
       "    </tr>\n",
       "    <tr>\n",
       "      <th>501838</th>\n",
       "      <td>-57599.38</td>\n",
       "      <td>66964.05</td>\n",
       "      <td>0</td>\n",
       "      <td>1</td>\n",
       "      <td>0</td>\n",
       "      <td>0</td>\n",
       "      <td>0</td>\n",
       "      <td>0</td>\n",
       "    </tr>\n",
       "    <tr>\n",
       "      <th>6281307</th>\n",
       "      <td>219213.98</td>\n",
       "      <td>-219213.98</td>\n",
       "      <td>0</td>\n",
       "      <td>0</td>\n",
       "      <td>0</td>\n",
       "      <td>0</td>\n",
       "      <td>0</td>\n",
       "      <td>0</td>\n",
       "    </tr>\n",
       "    <tr>\n",
       "      <th>5632612</th>\n",
       "      <td>-10120.49</td>\n",
       "      <td>1789641.14</td>\n",
       "      <td>0</td>\n",
       "      <td>0</td>\n",
       "      <td>0</td>\n",
       "      <td>0</td>\n",
       "      <td>1</td>\n",
       "      <td>0</td>\n",
       "    </tr>\n",
       "    <tr>\n",
       "      <th>64916</th>\n",
       "      <td>-2828.00</td>\n",
       "      <td>722328.16</td>\n",
       "      <td>0</td>\n",
       "      <td>1</td>\n",
       "      <td>0</td>\n",
       "      <td>0</td>\n",
       "      <td>0</td>\n",
       "      <td>0</td>\n",
       "    </tr>\n",
       "  </tbody>\n",
       "</table>\n",
       "</div>"
      ],
      "text/plain": [
       "         ChangeORIG  ChangeRCPT  FlaggedFraud  CASH_OUT  DEBIT  PAYMENT  \\\n",
       "869955    232380.07  -232380.07             0         0      0        0   \n",
       "501838    -57599.38    66964.05             0         1      0        0   \n",
       "6281307   219213.98  -219213.98             0         0      0        0   \n",
       "5632612   -10120.49  1789641.14             0         0      0        0   \n",
       "64916      -2828.00   722328.16             0         1      0        0   \n",
       "\n",
       "         TRANSFER  M  \n",
       "869955          0  0  \n",
       "501838          0  0  \n",
       "6281307         0  0  \n",
       "5632612         1  0  \n",
       "64916           0  0  "
      ]
     },
     "execution_count": 42,
     "metadata": {},
     "output_type": "execute_result"
    }
   ],
   "source": [
    "X_train.head()"
   ]
  },
  {
   "cell_type": "code",
   "execution_count": 45,
   "metadata": {
    "scrolled": false
   },
   "outputs": [
    {
     "data": {
      "image/png": "[encoded data removed]",
      "text/plain": [
       "<Figure size 720x576 with 1 Axes>"
      ]
     },
     "metadata": {
      "needs_background": "light"
     },
     "output_type": "display_data"
    }
   ],
   "source": [
    "model_list = [logistic_grid.best_estimator_, \n",
    "#               svm_grid.best_estimator_, \n",
    "              gnb_best,\n",
    "#               rf_random.best_estimator_\n",
    "#               knn_grid.best_estimator_,\n",
    "              CV_rfc.best_estimator_,\n",
    "             dc]\n",
    "\n",
    "model_name = ['Logit', 'Naive Bayes', 'Random Forest', 'Dummy']\n",
    " \n",
    "# Plot ROC curve for all my models\n",
    "fig, ax = plt.subplots(figsize=(10,8))\n",
    "for i, model in enumerate(model_list):\n",
    "    y_pred = list(model.predict_proba(X_val)[:,1])\n",
    "    fpr, tpr, threshold = metrics.roc_curve(y_val, y_pred)\n",
    "    roc_auc = metrics.auc(fpr, tpr)\n",
    "    plt.plot(fpr, tpr, label = (model_name[i] + ' AUC = %0.4f' % roc_auc),linewidth=1.0)\n",
    "\n",
    "plt.legend(loc = 'lower right')\n",
    "plt.title('Receiver Operating Characteristic')\n",
    "plt.plot([0, 1], [0, 1], 'r--')\n",
    "plt.xlim([0, 1])\n",
    "plt.ylim([0, 1])\n",
    "plt.ylabel('True Positive Rate')\n",
    "plt.xlabel('False Positive Rate')\n",
    "plt.show()"
   ]
  },
  {
   "cell_type": "code",
   "execution_count": null,
   "metadata": {},
   "outputs": [],
   "source": [
    "#this lists out the strength of each feature for the random forest\n",
    "#you'll see that the last column of X_train was used the most, which was 'isFraud'\n",
    "#I should have removed isFraud column when doing my test_train_split\n",
    "CV_rfc.best_estimator_.feature_importances_"
   ]
  },
  {
   "cell_type": "code",
   "execution_count": null,
   "metadata": {},
   "outputs": [],
   "source": [
    "X_train.head() \n",
    "#top 3 columns: Amount, OldBalORIG, NewBalRCPT"
   ]
  },
  {
   "cell_type": "code",
   "execution_count": 46,
   "metadata": {},
   "outputs": [
    {
     "name": "stdout",
     "output_type": "stream",
     "text": [
      "ChangeORIG has a score of 0.2803959241308962\n",
      "ChangeRCPT has a score of 0.6088627661290235\n",
      "FlaggedFraud has a score of 0.0\n",
      "CASH_OUT has a score of 0.002200949001078289\n",
      "DEBIT has a score of 2.4345225117805343e-05\n",
      "PAYMENT has a score of 0.00027474333911455125\n",
      "TRANSFER has a score of 0.10762797391654474\n",
      "M has a score of 0.0006132982582250301\n"
     ]
    }
   ],
   "source": [
    "for item1,item2 in zip(X_train.columns,CV_rfc.best_estimator_.feature_importances_):\n",
    "    print(f'{item1} has a score of {item2}')"
   ]
  },
  {
   "cell_type": "code",
   "execution_count": null,
   "metadata": {},
   "outputs": [],
   "source": [
    "# Examine the correlation of the model errors\n",
    "\n",
    "logit_error = y_train - logistic_grid.predict_proba(X_train)[:,1]\n",
    "gnb_error = y_train - gnb_best.predict_proba(X_train)[:,1]\n",
    "rf_error = y_train - CV_rfc.predict_proba(X_train)[:,1]\n",
    "\n",
    "error_df = pd.DataFrame()\n",
    "error_df['logit'] = logit_error\n",
    "error_df['gnb'] = gnb_error\n",
    "error_df['rand_forest'] = rf_error\n",
    "\n",
    "error_df.corr()"
   ]
  },
  {
   "cell_type": "code",
   "execution_count": null,
   "metadata": {},
   "outputs": [],
   "source": [
    "y_true = np.array([0, 0, 1, 1])\n",
    "y_scores = np.array([0.1, 0.4, 0.35, 0.8])\n",
    "precision, recall, thresholds = precision_recall_curve(y_true, y_scores)"
   ]
  },
  {
   "cell_type": "code",
   "execution_count": null,
   "metadata": {},
   "outputs": [],
   "source": [
    "clf = tree.DecisionTreeClassifier()\n",
    "clf = clf.fit(X_train, y_train)\n",
    "\n",
    "dot_data = tree.export_graphviz(clf, out_file=None) \n",
    "graph = graphviz.Source(dot_data) \n",
    "graph.render(\"Fraud\") \n",
    "\n",
    "dot_data = tree.export_graphviz(clf, out_file=None, \n",
    "                      feature_names=merp,  \n",
    "                      class_names=['NotFraud','isFraud'], \n",
    "                      filled=True, rounded=True,  \n",
    "                      special_characters=True)  \n",
    "graph = graphviz.Source(dot_data)  \n",
    "graph "
   ]
  },
  {
   "cell_type": "code",
   "execution_count": null,
   "metadata": {},
   "outputs": [],
   "source": [
    "# # No max depth\n",
    "# model = RandomForestClassifier(max_depth = None, n_estimators=10)\n",
    "# model.fit(iris.data, iris.target)\n",
    "# estimator_nonlimited = model.estimators_[5]\n",
    "# estimator_limited\n",
    "\n",
    "# export_graphviz(estimator_limited, out_file='tree_limited.dot', feature_names = iris.feature_names,\n",
    "#                 class_names = iris.target_names,\n",
    "#                 rounded = True, proportion = False, precision = 2, filled = True)\n",
    "\n",
    "# # export_graphviz(estimator_nonlimited, out_file='tree_nonlimited.dot', feature_names = iris.feature_names,\n",
    "# #                 class_names = iris.target_names,\n",
    "# #                 rounded = True, proportion = False, precision = 2, filled = True)\n",
    "\n",
    "# Image(filename = 'tree_limited.png')"
   ]
  },
  {
   "cell_type": "code",
   "execution_count": null,
   "metadata": {},
   "outputs": [],
   "source": [
    "merp = []\n",
    "for item in X_train.columns:\n",
    "    merp.append(item)"
   ]
  },
  {
   "cell_type": "markdown",
   "metadata": {},
   "source": [
    "## Log Loss Cross-Entropy\n",
    "\n",
    "_A more intensive metric for measuring the performance of your models._ So far, everything we've discussed uses \"hard-predictions\" to determine how well the model is doing. You apply some threshold and decided, \"yes, I believe this is class XYZ\" before checking to see if it's actually XYZ. \n",
    "\n",
    "That's an okay method, but it doesn't really give us a sense of how close the model was to being wrong. E.g., if we have a threshold of `0.5` and a record that's actually class 1, precision, recall, accuracy, etc. all give equal credit to a prediction that got the class correct, whether it was with `p = 0.51` or `p=0.99`. The second is much higher confidence though! \n",
    "\n",
    "Similarly, they give equal penalty to `p = 0.49` and `p=0.01`, though we were much more confident (in the wrong direction) in the second case. Guesses around `0.5` shouldn't be penalized as much, because our model is already admitting \"hey, I don't really know what this observation is.\" \n",
    "\n",
    "Enter log-loss. For the binary case, we can define log-loss:\n",
    "\n",
    "$$ LLCE = - \\sum_{i=1}^{N} y \\cdot log(p_{y}) + (1-y) \\cdot log((1-p_{y}))$$\n",
    "\n",
    "What does this do? It says, \"If the class is actually 1, did you predict close to p=1? If not, that's a big penalty. Though, we'll penalize you way more if you predicted close to p=0. If the class is actually 0, did you predict close to p=0? If not, that's another big penalty.\"\n",
    "\n",
    "The main take-aways here are:\n",
    "\n",
    ">- Log-loss allows us to measure not just \"did our model get XYZ right?\" but \"how confident was it in when predicting?\"\n",
    ">\n",
    ">- A lower log-loss is better\n",
    "\n",
    "The cost function typically used for Gradient Descent on classification is log-loss-cross-entropy!"
   ]
  },
  {
   "cell_type": "code",
   "execution_count": null,
   "metadata": {},
   "outputs": [],
   "source": [
    "print(\"Log-loss on logit: {:6.4f}\".format(log_loss(y_val, lm.predict_proba(X_val))))"
   ]
  },
  {
   "cell_type": "code",
   "execution_count": null,
   "metadata": {},
   "outputs": [],
   "source": [
    "print(\"Logistic accuracy: {:6.4f}\".format(lm.score(X_val, y_val)))\n",
    "print(\"Dummy accuracy: {:6.4f}\".format(dc.score(X_val, y_val)))"
   ]
  },
  {
   "cell_type": "code",
   "execution_count": null,
   "metadata": {},
   "outputs": [],
   "source": []
  },
  {
   "cell_type": "code",
   "execution_count": null,
   "metadata": {},
   "outputs": [],
   "source": []
  },
  {
   "cell_type": "code",
   "execution_count": null,
   "metadata": {},
   "outputs": [],
   "source": []
  },
  {
   "cell_type": "code",
   "execution_count": null,
   "metadata": {},
   "outputs": [],
   "source": []
  },
  {
   "cell_type": "markdown",
   "metadata": {},
   "source": [
    "Classification Model Complexity"
   ]
  },
  {
   "cell_type": "markdown",
   "metadata": {},
   "source": [
    "Let's Try Patsy!"
   ]
  },
  {
   "cell_type": "code",
   "execution_count": null,
   "metadata": {},
   "outputs": [],
   "source": [
    "def ols_formula(df, dependent_var, *excluded_cols):\n",
    "   '''\n",
    "   Returns the \"R style\" formula for the patsy function given\n",
    "   the dataframe, target variable and optional excluded columns\n",
    "   as strings\n",
    "   '''\n",
    "   df_columns = list(df.columns.values)\n",
    "   df_columns.remove(dependent_var)\n",
    "   for col in excluded_cols:\n",
    "       df_columns.remove(col)\n",
    "\n",
    "   return dependent_var + ' ~ ' + ' + '.join(df_columns)"
   ]
  },
  {
   "cell_type": "code",
   "execution_count": null,
   "metadata": {},
   "outputs": [],
   "source": [
    "formula = ols_formula(new_result,'isFraud')"
   ]
  }
 ],
 "metadata": {
  "kernelspec": {
   "display_name": "Python 3",
   "language": "python",
   "name": "python3"
  },
  "language_info": {
   "codemirror_mode": {
    "name": "ipython",
    "version": 3
   },
   "file_extension": ".py",
   "mimetype": "text/x-python",
   "name": "python",
   "nbconvert_exporter": "python",
   "pygments_lexer": "ipython3",
   "version": "3.7.3"
  }
 },
 "nbformat": 4,
 "nbformat_minor": 2
}
